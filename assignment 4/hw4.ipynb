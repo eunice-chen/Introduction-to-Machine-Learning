{
  "cells": [
    {
      "cell_type": "markdown",
      "metadata": {
        "id": "IagZMs0_qjdL"
      },
      "source": [
        "# 1. Introduction\n",
        "\n",
        "Welcome to your fourth assignment. In this assignment, you will build a convolutional neural network step by step. In this notebook, you will implement all the functions required to build a convolutional neural network.\n",
        "\n",
        "After finishing this assignment, you will have a deeper understanding of the process of training a convolutional neural network, which mainly consists of two parts: convolution layer and pooling layer."
      ]
    },
    {
      "cell_type": "markdown",
      "metadata": {
        "id": "yGFR00CQvoaH"
      },
      "source": [
        "# 2. Packages\n",
        "All the packages that you need to finish basic part of this assignment are listed below.\n",
        "*   numpy : The fundamental package for scientific computing with Python.\n",
        "*   matplotlib : A comprehensive library for creating static, animated, and interactive visualizations in Python.\n",
        "*   math : Python has a built-in module that you can use for mathematical tasks.\n",
        "*   pandas.read_csv : Provides functionality for reading a csv dataset from a GitHub repository.\n",
        "* sklearn.model_selection.train_test_split: A function helps you split train and test data.\n",
        "* os: A module provides the facility to establish the interaction between the user and the operating system. You can access the image directory by os.\n",
        "* cv2.imread: It is the module import name for opencv-python.\n",
        "* time: Provides various time-related functions.\n",
        "* google.colab.drive: Let you connect colab and your googol drive.\n",
        "* sys: Let you access system-specific parameters and functions.\n",
        "\n",
        "⚠️ **WARNING** ⚠️: \n",
        "*   Please do not import any other packages in basic part.\n",
        "*   np.random.seed(seed) is used to keep all the random function calls consistent. It will help us grade your work. Please don't change the seed.\n",
        "\n",
        "❗ **Important** ❗: Please do not change the code outside this code bracket.\n",
        "```\n",
        "### START CODE HERE ### (≈ n lines)\n",
        "...\n",
        "### END CODE HERE ###\n",
        "```\n",
        "\n"
      ]
    },
    {
      "cell_type": "code",
      "execution_count": 114,
      "metadata": {
        "id": "YcLLrIEc-4h6",
        "colab": {
          "base_uri": "https://localhost:8080/"
        },
        "outputId": "c727bc63-a337-4e75-a199-400935643fc4"
      },
      "outputs": [
        {
          "output_type": "stream",
          "name": "stdout",
          "text": [
            "Drive already mounted at /content/drive; to attempt to forcibly remount, call drive.mount(\"/content/drive\", force_remount=True).\n"
          ]
        }
      ],
      "source": [
        "from google.colab import drive\n",
        "drive.mount('/content/drive')"
      ]
    },
    {
      "cell_type": "code",
      "execution_count": 115,
      "metadata": {
        "id": "_go37iU6-4k8"
      },
      "outputs": [],
      "source": [
        "import sys\n",
        "sys.path.append(\"/content/drive/MyDrive/Colab Notebooks\") ## the path of the directory where you place dense.py, activation.py ...."
      ]
    },
    {
      "cell_type": "code",
      "execution_count": 116,
      "metadata": {
        "id": "fmTH9UkeqdYf"
      },
      "outputs": [],
      "source": [
        "import os\n",
        "import math\n",
        "import time \n",
        "import numpy as np\n",
        "from cv2 import imread, IMREAD_GRAYSCALE # IMREAD_GRAYSCALE allow you to load the image as gray scale image\n",
        "from pandas import read_csv\n",
        "import matplotlib.pyplot as plt\n",
        "\n",
        "###### import your HW3 code (Don't change this part) ######\n",
        "from Dense import Dense\n",
        "from Activation import Activation\n",
        "from Loss import compute_BCE_cost\n",
        "from Predict import predict\n",
        "##################################\n",
        "\n",
        "output = {}\n",
        "seed = 1\n",
        "np.random.seed(seed)\n",
        "num_parameters = 0"
      ]
    },
    {
      "cell_type": "markdown",
      "metadata": {
        "id": "VMe4BNRPRQvF"
      },
      "source": [
        "# 3. Convolution layer\n",
        "\n",
        "In this section, you will need to implement a very important part of the convolutional neural network, which is the convolution layer. Convolution layer enables us to capture the important features of input images.\n",
        "\n",
        "You will have to implement two helper functions and the forward pass of the convolution layer. All you need to do is to follow the instructions and understand how each part works."
      ]
    },
    {
      "cell_type": "code",
      "execution_count": 117,
      "metadata": {
        "id": "ADlgENHVRQvG"
      },
      "outputs": [],
      "source": [
        "def zero_pad(X, pad):\n",
        "    \"\"\"\n",
        "    Pad with zeros all images of the dataset X. The padding is applied to the height and width of an image.\n",
        "    \n",
        "    Argument:\n",
        "    X -- python numpy array of shape (m, n_H, n_W, n_C), where m represent the number of examples.\n",
        "    pad -- integer, amount of padding around each image on vertical and horizontal dimensions\n",
        "    \n",
        "    Returns:\n",
        "    X_pad -- padded image of shape (m, n_H + 2*pad, n_W + 2*pad, n_C)\n",
        "    \"\"\"\n",
        "    \n",
        "    # GRADED FUNCTION: zero_padding\n",
        "    ### START CODE HERE ### (≈ 1 line)\n",
        "    X_pad = np.pad(X, ((0, 0), (pad, pad), (pad, pad), (0, 0)), mode = 'constant', constant_values = (0,0))\n",
        "    ### END CODE HERE ###\n",
        "    \n",
        "    return X_pad"
      ]
    },
    {
      "cell_type": "code",
      "execution_count": 118,
      "metadata": {
        "id": "nNerbFLTRQvG"
      },
      "outputs": [],
      "source": [
        "class Conv():\n",
        "    def __init__(self, filter_size=2, input_channel=3, output_channel=8, pad=1, stride=1, seed=1):\n",
        "        \n",
        "        self.filter_size= filter_size\n",
        "        self.input_channel=input_channel\n",
        "        self.output_channel=output_channel\n",
        "        self.seed = seed\n",
        "        \n",
        "        self.parameters = {\"pad\": pad, \"stride\": stride}\n",
        "        self.initialize_parameters()\n",
        "        \n",
        "        \n",
        "        self.name=\"conv\"\n",
        "\n",
        "    def initialize_parameters(self):\n",
        "        \"\"\"\n",
        "        Argument:\n",
        "        self.filter_size -- size of the filter\n",
        "        self.input_channel -- size of the input channel\n",
        "        self.output_channel -- size of the output channel\n",
        "        self.parameters -- python dictionary containing your parameters:\n",
        "                           W -- weight matrix of shape (filter_size, filter_size, input channel size, output channel size)\n",
        "                           b -- bias vector of shape (1, 1, 1, output channel size)\n",
        "                           pad -- amount of padding around each image on vertical and horizontal dimensions\n",
        "                           stride -- represent the amount of movement that a filter move in one step\n",
        "        \"\"\"\n",
        "        np.random.seed(seed)\n",
        "\n",
        "        # GRADED FUNCTION: conv_initialization\n",
        "        ### START CODE HERE ### (≈ 8 lines)\n",
        "        #filter_size = self.filter_size*self.filter_size\n",
        "        #input_channel = self.input_channel\n",
        "        #output_channel = self.output_channel\n",
        "        #pad = self.parameters[\"pad\"]\n",
        "        #stride = self.parameters[\"stride\"]\n",
        "        shape = (self.filter_size, self.filter_size, self.input_channel, self.output_channel)\n",
        "        W = np.zeros(shape)\n",
        "        for i in range(self.filter_size):\n",
        "          for j in range(self.filter_size):\n",
        "            for k in range(self.input_channel):  \n",
        "              for l in range(self.output_channel):  \n",
        "                W[i][j][k][l] = np.array(np.random.uniform((-1)*(np.sqrt(6/(self.input_channel+ self.output_channel))),(np.sqrt(6/(self.input_channel + self.output_channel))))) \n",
        "        b = np.zeros((1, 1, 1, self.output_channel))*(np.sqrt(6/(self.input_channel + self.output_channel)))\n",
        "        ### END CODE HERE ###\n",
        "\n",
        "        assert(W.shape == (self.filter_size,self.filter_size,self.input_channel,self.output_channel))\n",
        "        assert(b.shape == (1,1,1,self.output_channel))\n",
        "\n",
        "        self.parameters['W'] = W\n",
        "        self.parameters['b'] = b\n",
        "        \n",
        "    \n",
        "    \n",
        "    def conv_single_step(self, a_slice_prev, W, b):\n",
        "        \"\"\"\n",
        "        Apply a filter W on a_slice_prev.\n",
        "\n",
        "        Arguments:\n",
        "        a_slice_prev -- slice of input data of shape (filter_size, filter_size, n_C_prev)\n",
        "        W -- Weight parameters contained in a window - matrix of shape (filter_size, filter_size, n_C_prev)\n",
        "        b -- Bias parameters contained in a window - matrix of shape (1, 1, 1)\n",
        "\n",
        "        Returns:\n",
        "        Z -- a scalar value, result of convolving the sliding window (W, b) on a slice x of the input data\n",
        "        \"\"\"\n",
        "\n",
        "        # GRADED FUNCTION: conv_single_step\n",
        "        ### START CODE HERE ### (≈ 3 lines)\n",
        "        # Element-wise product between a_slice and W.\n",
        "        #s = np.multiply(a_slice_prev, W.reshape((-1, 1)))\n",
        "        #s = a_slice_prev * W[:, np.newaxis]\n",
        "        #s = np.multiply(W, a_slice_prev[:,None])\n",
        "        #s = a_slice_prev * W\n",
        "        #s = np.matmul(a_slice_prev,diag(W))\n",
        "        #print(\"in single step\", a_slice_prev.shape)\n",
        "        #print(W)\n",
        "        s = np.multiply(a_slice_prev, W)\n",
        "\n",
        "        # Sum over all entries of the volume s.\n",
        "        Z = np.sum(s)\n",
        "        # Add bias b to Z. Cast b to a float() so that Z results in a scalar value.\n",
        "        Z = Z + float(b)\n",
        "        ### END CODE HERE ###\n",
        "\n",
        "        return Z\n",
        "    \n",
        "    def forward(self, A_prev):\n",
        "        \"\"\"\n",
        "        Implements the forward propagation for a convolution layer\n",
        "\n",
        "        Arguments:\n",
        "        A_prev -- output activations of the previous layer, numpy array of shape (m, n_H_prev, n_W_prev, n_C_prev)\n",
        "\n",
        "        Returns:\n",
        "        Z -- conv output, numpy array of shape (m, n_H, n_W, n_C)\n",
        "        \"\"\"\n",
        "\n",
        "        # GRADED FUNCTION: conv_forward\n",
        "        ### START CODE HERE ###\n",
        "        global num_parameters\n",
        "        # Retrieve dimensions from A_prev's shape (≈1 line)  \n",
        "        (m, n_H_prev, n_W_prev, n_C_prev) = A_prev.shape\n",
        "\n",
        "        # Retrieve dimensions from W's shape (≈1 line)\n",
        "        (f, f, n_C_prev, n_C) = self.parameters[\"W\"].shape\n",
        "\n",
        "        num_parameters += (f * f * n_C_prev + 1) *  n_C\n",
        "        #print(num_parameters)\n",
        "        # Compute the dimensions of the convolution output volume using the formula given below.(≈2 lines)\n",
        "        n_H = int(math.floor((n_H_prev-f+2*self.parameters[\"pad\"])/self.parameters[\"stride\"])) + 1\n",
        "        n_W = int(math.floor((n_W_prev-f+2*self.parameters[\"pad\"])/self.parameters[\"stride\"])) + 1\n",
        "\n",
        "        # Initialize the output volume Z with zeros. (≈1 line)\n",
        "        Z = np.zeros((m, n_H, n_W, n_C))\n",
        "\n",
        "        \n",
        "        # if pad!=0, create A_prev_pad by padding A_prev with the parameter \"pad\". (≈1 line)\n",
        "        A_prev_pad = zero_pad(A_prev, self.parameters[\"pad\"])\n",
        "\n",
        "        for i in range(m):                               # loop over the batch of training examples\n",
        "            a_prev_pad = A_prev_pad[i,:,:,:]               # Select ith training example's padded activation\n",
        "            for h in range(n_H):                           # loop over vertical axis of the output volume\n",
        "                for w in range(n_W):                       # loop over horizontal axis of the output volume\n",
        "                    for c in range(n_C):                   # loop over channels (= #filter) of the output volume\n",
        "\n",
        "                        # Find the corners of the current \"slice\" (≈4 lines)\n",
        "                        vert_start = h * self.parameters[\"stride\"]\n",
        "                        vert_end = h * self.parameters[\"stride\"] + f\n",
        "                        horiz_start = w * self.parameters[\"stride\"]\n",
        "                        horiz_end = w * self.parameters[\"stride\"] + f\n",
        "\n",
        "\n",
        "                        # Use the corners to define the slice of a_prev_pad. (≈1 line)\n",
        "                        a_slice_prev = a_prev_pad[vert_start:vert_end, horiz_start:horiz_end,:]\n",
        "\n",
        "                        # Convolve the (3D) slice with the correct filter W and bias b, to get back one output neuron. (≈1 line)\n",
        "                        Z[i, h, w, c] = self.conv_single_step(a_slice_prev, self.parameters[\"W\"][:,:,:,c], self.parameters[\"b\"][:,:,:,c])\n",
        "                        #print(self.parameters[\"W\"][:,:,:,c])\n",
        "        ### END CODE HERE ###\n",
        "\n",
        "        # Making sure your output shape is correct\n",
        "        assert(Z.shape == (m, n_H, n_W, n_C))\n",
        "\n",
        "        # Save information in \"cache\" for the backward pass\n",
        "        self.cache = A_prev\n",
        "\n",
        "        return Z\n",
        "    \n",
        "    def backward(self, dZ):\n",
        "        \"\"\"\n",
        "        Implement the backward propagation for a convolution layer\n",
        "\n",
        "        Arguments:\n",
        "        dZ -- gradient of the cost with respect to the output of the conv layer (Z), numpy array of shape (m, n_H, n_W, n_C)\n",
        "\n",
        "        Returns:\n",
        "        dA_prev -- gradient of the cost with respect to the input of the conv layer (A_prev),\n",
        "                   numpy array of shape (m, n_H_prev, n_W_prev, n_C_prev)\n",
        "        \"\"\"\n",
        "\n",
        "\n",
        "        A_prev = self.cache\n",
        "\n",
        "        # Retrieve dimensions from A_prev's shape\n",
        "        (m, n_H_prev, n_W_prev, n_C_prev) = A_prev.shape\n",
        "\n",
        "        # Retrieve dimensions from W's shape\n",
        "        (f, f, n_C_prev, n_C) = self.parameters[\"W\"].shape\n",
        "\n",
        "\n",
        "        # Retrieve dimensions from dZ's shape\n",
        "        (m, n_H, n_W, n_C) = dZ.shape\n",
        "\n",
        "        # Initialize dA_prev, dW, db with the correct shapes\n",
        "        dA_prev = np.zeros((m, n_H_prev, n_W_prev, n_C_prev))                           \n",
        "        dW = np.zeros((f, f, n_C_prev, n_C))\n",
        "        db = np.zeros((1, 1, 1, n_C))\n",
        "\n",
        "        # Pad A_prev and dA_prev\n",
        "        A_prev_pad = zero_pad(A_prev, self.parameters[\"pad\"])\n",
        "        dA_prev_pad = zero_pad(dA_prev, self.parameters[\"pad\"])\n",
        "\n",
        "        for i in range(m):                       # loop over the training examples\n",
        "\n",
        "            # select ith training example from A_prev_pad and dA_prev_pad\n",
        "            a_prev_pad = A_prev_pad[i]\n",
        "            da_prev_pad = dA_prev_pad[i]\n",
        "\n",
        "            for h in range(n_H):                   # loop over vertical axis of the output volume\n",
        "                for w in range(n_W):               # loop over horizontal axis of the output volume\n",
        "                    for c in range(n_C):           # loop over the channels of the output volume\n",
        "\n",
        "                        # Find the corners of the current \"slice\"\n",
        "                        vert_start = h * self.parameters[\"stride\"]\n",
        "                        vert_end = vert_start + f\n",
        "                        horiz_start = w * self.parameters[\"stride\"]\n",
        "                        horiz_end = horiz_start + f\n",
        "\n",
        "                        # Use the corners to define the slice from a_prev_pad\n",
        "                        a_slice = a_prev_pad[vert_start:vert_end, horiz_start:horiz_end, :]\n",
        "\n",
        "                        # Update gradients for the window and the filter's parameters\n",
        "                        da_prev_pad[vert_start:vert_end, horiz_start:horiz_end, :] += self.parameters[\"W\"][:,:,:,c] * dZ[i, h, w, c]\n",
        "                        dW[:,:,:,c] += a_slice * dZ[i, h, w, c]\n",
        "                        db[:,:,:,c] += dZ[i, h, w, c]\n",
        "\n",
        "            # Set the ith training example's dA_prev to the unpaded da_prev_pad\n",
        "            dA_prev[i, :, :, :] = da_prev_pad[self.parameters[\"pad\"]:da_prev_pad.shape[0]-self.parameters[\"pad\"], \n",
        "                                              self.parameters[\"pad\"]:da_prev_pad.shape[1]-self.parameters[\"pad\"], :]\n",
        "\n",
        "        assert(dA_prev.shape == (m, n_H_prev, n_W_prev, n_C_prev))\n",
        "\n",
        "        self.dW = dW\n",
        "        self.db = db\n",
        "\n",
        "        return dA_prev\n",
        "    \n",
        "    def update(self, learning_rate):\n",
        "        \"\"\"\n",
        "        Update parameters using gradient descent\n",
        "        \n",
        "        Arguments:\n",
        "        learning rate -- step size\n",
        "        \"\"\"\n",
        "\n",
        "        # GRADED FUNCTION: conv_update\n",
        "        ### START CODE HERE ### (≈ 2 lines of code)\n",
        "        self.parameters[\"W\"] = self.parameters[\"W\"] - learning_rate * self.dW\n",
        "        self.parameters[\"b\"] = self.parameters[\"b\"] - learning_rate * self.db\n",
        "        ### END CODE HERE ###"
      ]
    },
    {
      "cell_type": "markdown",
      "metadata": {
        "id": "3Q_4VjV5W_gL"
      },
      "source": [
        "##3.1 initialization\n",
        "Using Glorot uniform initialization to initialize the convolution layer's filters with the parameters: filter_size, input_channel, and output_channel.\n",
        "\n",
        "*   Use random initialization (uniform distribution) for the weight matrices. Draws samples from a uniform distribution within [-limit, limit], where limit = sqrt(6 / (fan_in + fan_out)), fan_in is the **number of input channel** and fan_out is the **number of output channel**. However, in the usual implementation, we will consider fan_in and fan_out as the number of input units and the number of output units.\n",
        "*   Use zero initialization for the biases.\n",
        "\n",
        "Exercise: Create and initialize parameters of a convolution layer using Glorot uniform initialization. (1%)\n",
        "\n",
        "It will take following parameters to initialize the convolution layer:\n",
        "*   filter_size: The filter will be in the shape of (filter_size*filter_size)\n",
        "*   input_channel: size of the input channel\n",
        "*   output_channel: size of the output channel\n",
        "*   pad: amount of padding around each image on vertical and horizontal dimensions\n",
        "*   stride: represent the amount of movement that a filter move in one step"
      ]
    },
    {
      "cell_type": "code",
      "execution_count": 119,
      "metadata": {
        "id": "McQisK1WW-4t",
        "colab": {
          "base_uri": "https://localhost:8080/"
        },
        "outputId": "978fd47f-f630-4002-8f7e-dc2bb1ff5bb1"
      },
      "outputs": [
        {
          "output_type": "stream",
          "name": "stdout",
          "text": [
            "W[0][0][0] =  [-0.12256662  0.32544084 -0.73838    -0.29197414 -0.52177613 -0.6021558\n",
            " -0.46342438 -0.22812192]\n",
            "b =  [[[[0. 0. 0. 0. 0. 0. 0. 0.]]]]\n"
          ]
        }
      ],
      "source": [
        "np.random.seed(seed)\n",
        "conv = Conv(filter_size=2, input_channel=3, output_channel=8, pad=2, stride=2)\n",
        "print(\"W[0][0][0] = \",  conv.parameters[\"W\"][0][0][0])\n",
        "print(\"b = \", conv.parameters[\"b\"])\n",
        "\n",
        "np.random.seed(seed)\n",
        "conv = Conv(filter_size=2, input_channel=3, output_channel=16, pad=2, stride=2)\n",
        "output[\"conv_initialization\"] = conv.parameters[\"W\"][0][0][0]"
      ]
    },
    {
      "cell_type": "markdown",
      "metadata": {
        "id": "t50bsMBRTrP6"
      },
      "source": [
        "Expected output: \n",
        "<table>\n",
        "  <tr>\n",
        "    <td>W[0][0][0]: </td>\n",
        "    <td>[-0.12256662  0.32544084 -0.73838    -0.29197414 -0.52177613 -0.6021558 -0.46342438 -0.22812192]</td>\n",
        "  </tr>\n",
        "  <tr>\n",
        "    <td>b: </td>\n",
        "    <td>[[[[0. 0. 0. 0. 0. 0. 0. 0.]]]]</td>\n",
        "  </tr>\n",
        "</table>"
      ]
    },
    {
      "cell_type": "markdown",
      "metadata": {
        "id": "OAHuFnmDIhgY"
      },
      "source": [
        "## 3.2  Zero-Padding\n",
        "\n",
        "Pad around each image on vertical and horizontal dimensions with zero.\n",
        "\n",
        "1. It allows you to use a convolution layer without necessarily shrinking the height and width of the volumes. This is important for building deeper networks since otherwise the height/width would shrink as you go to deeper layers. \n",
        "2. It helps us keep more of the information at the border of an image. Without padding, very few values at the next layer would be affected by pixels as the edges of an image.\n",
        "\n",
        "**Exercise**: Implement the zero_pad() function to pad the input X with the given parameter \"pad\". (3%)\n",
        "\n",
        "This function takes the following inputs:\n",
        "*   X: input.\n",
        "*   pad: amount of padding around each image on vertical and horizontal dimensions."
      ]
    },
    {
      "cell_type": "code",
      "execution_count": 120,
      "metadata": {
        "id": "h9xGiJH5IgyJ",
        "colab": {
          "base_uri": "https://localhost:8080/",
          "height": 380
        },
        "outputId": "511b7c55-9d1b-4f35-c904-0df0ed59d5ab"
      },
      "outputs": [
        {
          "output_type": "stream",
          "name": "stdout",
          "text": [
            "x.shape =\n",
            " (4, 3, 3, 2)\n",
            "x_pad.shape =\n",
            " (4, 7, 7, 2)\n",
            "x[0,2,:,0] =\n",
            " [-0.3224172   1.13376944 -0.17242821]\n",
            "x_pad[0,2,:,0] =\n",
            " [ 0.          0.          1.62434536 -0.52817175  0.86540763  0.\n",
            "  0.        ]\n"
          ]
        },
        {
          "output_type": "display_data",
          "data": {
            "text/plain": [
              "<Figure size 432x288 with 2 Axes>"
            ],
            "image/png": "[encoded data removed]"
          },
          "metadata": {
            "needs_background": "light"
          }
        }
      ],
      "source": [
        "np.random.seed(seed)\n",
        "x = np.random.randn(4, 3, 3, 2)\n",
        "x_pad = zero_pad(x, 2)\n",
        "print (\"x.shape =\\n\", x.shape)\n",
        "print (\"x_pad.shape =\\n\", x_pad.shape)\n",
        "print (\"x[0,2,:,0] =\\n\", x[0,2,:,0])\n",
        "print (\"x_pad[0,2,:,0] =\\n\", x_pad[0,2,:,0])\n",
        "\n",
        "fig, axarr = plt.subplots(1, 2)\n",
        "axarr[0].set_title('x')\n",
        "axarr[0].imshow(x[0,:,:,0])\n",
        "axarr[1].set_title('x_pad')\n",
        "axarr[1].imshow(x_pad[0,:,:,0])\n",
        "\n",
        "np.random.seed(seed)\n",
        "x = np.random.randn(4, 2, 2, 2)\n",
        "x_pad = zero_pad(x, 1)\n",
        "output[\"zero_padding\"] = x_pad[0,1,:,0]"
      ]
    },
    {
      "cell_type": "markdown",
      "metadata": {
        "id": "snXOn3sETwDb"
      },
      "source": [
        "Expected output: \n",
        "<table>\n",
        "  <tr>\n",
        "    <td>x.shape: </td>\n",
        "    <td>(4, 3, 3, 2)</td>\n",
        "  </tr>\n",
        "  <tr>\n",
        "    <td>x_pad.shape: </td>\n",
        "    <td>(4, 7, 7, 2)</td>\n",
        "  </tr>\n",
        "  <tr>\n",
        "    <td>x[0,2,:,0]: </td>\n",
        "    <td>[-0.3224172   1.13376944 -0.17242821]</td>\n",
        "  </tr>\n",
        "  <tr>\n",
        "    <td>x_pad[0,2,:,0]: </td>\n",
        "    <td>[ 0. 0. 1.62434536 -0.52817175 0.86540763 0. 0.]\n",
        "</td>\n",
        "  </tr>\n",
        "</table>"
      ]
    },
    {
      "cell_type": "markdown",
      "metadata": {
        "id": "GPVifontJlWr"
      },
      "source": [
        "## 3.3 Convolution_single_step\n",
        "In this part, you will implement a single step of convolution, in which you apply the filter to a single position of the input. This will be used to build a convolutional unit.\n",
        "\n",
        "We will convolve an f*f filter with the image by multiplying its values element-wise with the original matrix, then summing them up and adding a bias.\n",
        "\n",
        "**Exercise**: Implement conv_single_step( ). (5%)\n",
        "\n",
        "This function takes the following inputs:\n",
        "*   a_slice_prev: the output of the activation by the previous layer.\n",
        "*   W: the filter with size f*f.\n",
        "*   b: the bias.\n"
      ]
    },
    {
      "cell_type": "code",
      "execution_count": 121,
      "metadata": {
        "id": "02WmPxJKJbJa",
        "colab": {
          "base_uri": "https://localhost:8080/"
        },
        "outputId": "9a8036dd-3b0f-426a-80e5-53da67a4fb35"
      },
      "outputs": [
        {
          "output_type": "stream",
          "name": "stdout",
          "text": [
            "Z = -6.999089450680221\n"
          ]
        }
      ],
      "source": [
        "np.random.seed(seed)\n",
        "a_slice_prev = np.random.randn(4, 4, 3)\n",
        "W = np.random.randn(4, 4, 3)\n",
        "b = np.random.randn(1, 1, 1)\n",
        "\n",
        "conv = Conv(filter_size=2, input_channel=3, output_channel=8, pad=2, stride=2)\n",
        "Z = conv.conv_single_step(a_slice_prev, W, b)\n",
        "print(\"Z =\", Z)\n",
        "\n",
        "np.random.seed(seed)\n",
        "a_slice_prev = np.random.randn(3, 3, 3)\n",
        "W = np.random.randn(3, 3, 3)\n",
        "b = np.random.randn(1, 1, 1)\n",
        "conv = Conv()\n",
        "Z = conv.conv_single_step(a_slice_prev, W, b)\n",
        "output[\"conv_single_step\"] = Z"
      ]
    },
    {
      "cell_type": "markdown",
      "metadata": {
        "id": "SVHY5VIFVLiC"
      },
      "source": [
        "Expected output: \n",
        "<table>\n",
        "  <tr>\n",
        "    <td>Z: </td>\n",
        "    <td>-6.999089450680221</td>\n",
        "  </tr>\n",
        "</table>"
      ]
    },
    {
      "cell_type": "markdown",
      "metadata": {
        "id": "764-uaZwLGNL"
      },
      "source": [
        "## 3.4 Forward pass\n",
        "In the forward pass, you will take many filters and convolve them through the input. Each 'convolution' gives you a 2D matrix output. You will then stack these outputs to get a 3D volume.\n",
        "\n",
        "Notice that the output shape of the convolution forward will be (H, W, C).\n",
        "* $H= \\lfloor\\frac{H_{prev }-f+2*pad}{stride}\\rfloor+1$\n",
        "* $W= \\lfloor\\frac{W_{prev }-f+2*pad}{stride}\\rfloor+1$\n",
        "* $C = $ number of filters\n",
        "\n",
        "f = filter_size\n",
        "\n",
        "**Exercise**: Implement forward( ) to convolve the filters W on an input activation A_prev. (15%)\n",
        "\n",
        "This function takes the following input:\n",
        "*   A_prev: the output of the activation by the previous layer, it's an array with shape (m, H_prev, W_prev, C_prev).\n",
        "    *  m: number of examples.\n",
        "    *  H_prev, W_prev, C_prev: the height, width, and channel of the output of the previous layer.\n",
        "\n",
        "Here are some steps for you to finish this exercise:\n",
        "1. Define **a_slice_prev**, which represent the input slice of conv_single_step( ).\n",
        "2. To define **a_slice_prev**, you have to define its' corners: **vert_start, vert_end, horiz_start and horiz_end**."
      ]
    },
    {
      "cell_type": "code",
      "execution_count": 122,
      "metadata": {
        "id": "6Ags0LKKRQvH",
        "colab": {
          "base_uri": "https://localhost:8080/"
        },
        "outputId": "1ee2cce9-3cc0-4a35-a8f9-5b67cfed8fc6"
      },
      "outputs": [
        {
          "output_type": "stream",
          "name": "stdout",
          "text": [
            "Z's mean = 0.0031904169881830785\n",
            "Z[3,2,1] = [ 1.32947002  2.12083471  0.37853495 -3.53602735  1.38816885 -1.01503137\n",
            " -1.01667531  0.86993377]\n",
            "cache_conv[1][2][3] = [-0.20075807  0.18656139  0.41005165]\n"
          ]
        }
      ],
      "source": [
        "np.random.seed(seed)\n",
        "A_prev = np.random.randn(10,4,4,3)\n",
        "conv=Conv(filter_size=2, input_channel=3, output_channel=8, pad=2, stride=2)\n",
        "Z = conv.forward(A_prev)\n",
        "\n",
        "print(\"Z's mean =\", np.mean(Z))\n",
        "print(\"Z[3,2,1] =\", Z[3,2,1])\n",
        "print(\"cache_conv[1][2][3] =\", conv.cache[1][2][3])\n",
        "\n",
        "\n",
        "np.random.seed(seed)\n",
        "A_prev = np.random.randn(10,3,3,3)\n",
        "conv=Conv(filter_size=3, input_channel=3, output_channel=16, pad=1, stride=1)\n",
        "Z = conv.forward(A_prev)\n",
        "\n",
        "output[\"conv_forward_1\"] = np.mean(Z)\n",
        "output[\"conv_forward_2\"] = Z[3,2,1]\n",
        "output[\"conv_forward_3\"] = conv.cache[1][2][2]"
      ]
    },
    {
      "cell_type": "markdown",
      "metadata": {
        "id": "5qiBeJbhVTlU"
      },
      "source": [
        "Expected output: \n",
        "<table>\n",
        "  <tr>\n",
        "    <td>Z's mean: </td>\n",
        "    <td>0.0031904169881830785</td>\n",
        "  </tr>\n",
        "  <tr>\n",
        "    <td>Z[3,2,1]: </td>\n",
        "    <td>[ 1.32947002  2.12083471  0.37853495 -3.53602735  1.38816885 -1.01503137\n",
        " -1.01667531  0.86993377]</td>\n",
        "  </tr>\n",
        "  <tr>\n",
        "    <td>cache_conv[1][2][3]: </td>\n",
        "    <td>[-0.20075807  0.18656139  0.41005165]</td>\n",
        "  </tr>\n",
        "</table>"
      ]
    },
    {
      "cell_type": "markdown",
      "metadata": {
        "id": "bbGLz2F_ReRr"
      },
      "source": [
        "## 3.5 Update parameters\n",
        "In this section you will update the parameters of the convolution layer, using gradient descent:\n",
        "\n",
        "$$ W^{[l]} = W^{[l]} - \\alpha \\text{ } dW^{[l]} $$$$ b^{[l]} = b^{[l]} - \\alpha \\text{ } db^{[l]} $$\n",
        "\n",
        "**Exercise**: Implement update( ) to update your parameters using gradient descent. (1%)\n",
        "\n",
        "**Instructions**: \n",
        "*   Update parameters using gradient descent on $W^{[l]}$ and $b^{[l]}$.\n"
      ]
    },
    {
      "cell_type": "code",
      "execution_count": 123,
      "metadata": {
        "id": "QOw8N6q7RgGU",
        "colab": {
          "base_uri": "https://localhost:8080/"
        },
        "outputId": "b4072d49-4b9b-4b9a-c439-56e04d3ced01"
      },
      "outputs": [
        {
          "output_type": "stream",
          "name": "stdout",
          "text": [
            "W[0][0][0] =  [-1.74691199  0.93719726 -0.21020825  0.78099448 -1.38718376  1.69938289\n",
            " -2.20823614  0.53308498]\n",
            "b =  [[[[ 0.34385368 -0.04359686  0.62000084 -0.69803203  0.44712856\n",
            "    -1.2245077  -0.40349164 -0.59357852]]]]\n"
          ]
        }
      ],
      "source": [
        "conv=Conv(filter_size=2, input_channel=3, output_channel=8, pad=2, stride=2)\n",
        "np.random.seed(seed)\n",
        "conv.dW = np.random.randn(2, 2, 3, 8)\n",
        "conv.db = np.random.randn(1, 1, 1, 8)\n",
        "conv.update(1.0)\n",
        "print(\"W[0][0][0] = \", conv.parameters[\"W\"][0][0][0])\n",
        "print(\"b = \", conv.parameters[\"b\"])\n",
        "\n",
        "conv=Conv(filter_size=3, input_channel=3, output_channel=8, pad=1, stride=2)\n",
        "np.random.seed(seed)\n",
        "conv.dW = np.random.randn(3, 3, 3, 8)\n",
        "conv.db = np.random.randn(1, 1, 1, 8)\n",
        "conv.update(0.1)\n",
        "output[\"conv_update_1\"] = conv.parameters[\"W\"][0][0][0]\n",
        "output[\"conv_update_2\"] = conv.parameters[\"b\"]\n"
      ]
    },
    {
      "cell_type": "markdown",
      "metadata": {
        "id": "3WBrdsS9RsTA"
      },
      "source": [
        "Expected output: \n",
        "<table>\n",
        "  <tr>\n",
        "    <td>W[0][0][0]: </td>\n",
        "    <td>[-1.74691199  0.93719726 -0.21020825  0.78099448 -1.38718376  1.69938289 -2.20823614  0.53308498]</td>\n",
        "  </tr>\n",
        "  <tr>\n",
        "    <td>b: </td>\n",
        "    <td>[[[[ 0.34385368 -0.04359686  0.62000084 -0.69803203  0.44712856\n",
        "    -1.2245077  -0.40349164 -0.59357852]]]]</td>\n",
        "  </tr>\n",
        "</table>"
      ]
    },
    {
      "cell_type": "markdown",
      "metadata": {
        "id": "goYhkmioRQvI"
      },
      "source": [
        "# 4. Maxpooling layer\n",
        "\n",
        "The pooling layer reduces the size (height and width) of the input. It helps reduce computation, as well as helps make feature detectors more invariant to their position in the input. In this section, we will focus on maxpooling layer."
      ]
    },
    {
      "cell_type": "code",
      "execution_count": 124,
      "metadata": {
        "id": "Z8j9VErNRQvI"
      },
      "outputs": [],
      "source": [
        "class MaxPool():\n",
        "    def __init__(self, filter_size=2, stride=2):\n",
        "        \"\"\"\n",
        "        Argument:\n",
        "        self.parameters -- python dictionary containing your parameters:\n",
        "                           f -- size of a filter\n",
        "                           stride -- the amount of movement that a filter move in one step\n",
        "        \"\"\"\n",
        "    \n",
        "        self.parameters = {\"f\": filter_size, \"stride\": stride}\n",
        "        self.name=\"maxpool\"\n",
        "        \n",
        "        \n",
        "    def forward(self, A_prev):\n",
        "        \"\"\"\n",
        "        Implements the forward pass of the max pooling layer\n",
        "\n",
        "        Arguments:\n",
        "        A_prev -- Input data, numpy array of shape (m, n_H_prev, n_W_prev, n_C_prev)\n",
        "\n",
        "        Returns:\n",
        "        A -- output of the pool layer, a numpy array of shape (m, n_H, n_W, n_C)\n",
        "        \"\"\"\n",
        "\n",
        "        # GRADED FUNCTION: maxpool_forward\n",
        "        ### START CODE HERE ###\n",
        "        # Retrieve dimensions from the input shape. (≈1 line)\n",
        "        (m, n_H_prev, n_W_prev, n_C_prev) = A_prev.shape\n",
        "\n",
        "\n",
        "        # Define the dimensions of the output. (≈3 lines)\n",
        "        #n_H = int((n_H_prev - self.parameters[\"f\"]) / self.parameters[\"stride\"]) + 1\n",
        "        #n_W = int((n_W_prev - self.parameters[\"f\"]) / self.parameters[\"stride\"]) + 1\n",
        "        n_H = math.floor((n_H_prev - self.parameters[\"f\"]) / self.parameters[\"stride\"]) + 1\n",
        "        n_W = math.floor((n_W_prev - self.parameters[\"f\"]) / self.parameters[\"stride\"]) + 1\n",
        "        n_C = n_C_prev\n",
        "\n",
        "        # Initialize output matrix A with zeros. (≈1 line)\n",
        "        A = np.zeros((m, n_H, n_W, n_C))             \n",
        "\n",
        "        for i in range(m):                         # loop over the training examples\n",
        "            for h in range(n_H):                     # loop on the vertical axis of the output volume\n",
        "                for w in range(n_W):                 # loop on the horizontal axis of the output volume\n",
        "                    for c in range (n_C):            # loop over the channels of the output volume\n",
        "\n",
        "                        # Find the corners of the current \"slice\". (≈4 lines)\n",
        "                        vert_start = h * self.parameters[\"stride\"]\n",
        "                        vert_end = h * self.parameters[\"stride\"] + self.parameters[\"f\"]\n",
        "                        horiz_start = w * self.parameters[\"stride\"]\n",
        "                        horiz_end = w * self.parameters[\"stride\"] + self.parameters[\"f\"]\n",
        "\n",
        "                        # Use the corners to define the current slice on the ith training example of A_prev, channel c. (≈1 line)\n",
        "                        a_prev_slice = A_prev[i, vert_start:vert_end, horiz_start:horiz_end, c]\n",
        "\n",
        "                        # Compute the max pooling operation on a_prev_slice. (≈1 line)\n",
        "                        A[i, h, w, c] = np.max(a_prev_slice)\n",
        "\n",
        "        ### END CODE HERE ###\n",
        "\n",
        "        # Store the input in \"cache\" for backward pass\n",
        "        self.cache = A_prev\n",
        "\n",
        "        # Making sure your output shape is correct\n",
        "        assert(A.shape == (m, n_H, n_W, n_C))\n",
        "\n",
        "        return A\n",
        "    \n",
        "    def create_mask_from_window(self, x):\n",
        "        \"\"\"\n",
        "        Creates a mask from an input x to identify the max entry of x.\n",
        "\n",
        "        Arguments:\n",
        "        x -- Array of shape (filter_size, filter_size)\n",
        "\n",
        "        Returns:\n",
        "        mask -- Array of the same shape as filter, contains a True at the position corresponding to the max entry of x.\n",
        "        \"\"\"\n",
        "\n",
        "        mask = x == np.max(x)\n",
        "\n",
        "        return mask\n",
        "    \n",
        "    def backward(self, dA):\n",
        "        \"\"\"\n",
        "        Implements the backward pass of the max pooling layer\n",
        "\n",
        "        Arguments:\n",
        "        dA -- gradient of cost with respect to the output of the pooling layer, same shape as A \n",
        "\n",
        "        Returns:\n",
        "        dA_prev -- gradient of cost with respect to the input of the pooling layer, same shape as A_prev\n",
        "        \"\"\"\n",
        "\n",
        "        # Retrieve information from cache\n",
        "        A_prev = self.cache\n",
        "\n",
        "        # Retrieve dimensions from A_prev's shape and dA's shape\n",
        "        m, n_H_prev, n_W_prev, n_C_prev = A_prev.shape\n",
        "        m, n_H, n_W, n_C = dA.shape\n",
        "\n",
        "        # Initialize dA_prev with zeros\n",
        "        dA_prev = np.zeros(A_prev.shape)\n",
        "\n",
        "        for i in range(m):  # loop over the training examples\n",
        "            # select training example from A_prev                    \n",
        "            a_prev = A_prev[i]\n",
        "            for h in range(n_H):   # loop on the vertical axis            \n",
        "                for w in range(n_W):  # loop on the horizontal axis             \n",
        "                    for c in range(n_C): # loop over the channels\n",
        "\n",
        "                        # Find the corners of the current \"slice\"          \n",
        "                        vert_start = h * self.parameters[\"stride\"]\n",
        "                        vert_end = vert_start + self.parameters[\"f\"]\n",
        "                        horiz_start = w * self.parameters[\"stride\"]\n",
        "                        horiz_end = horiz_start + self.parameters[\"f\"] \n",
        "\n",
        "                        #Use the corners and \"c\" to define the current slice from a_prev\n",
        "                        a_prev_slice = a_prev[vert_start:vert_end, horiz_start:horiz_end, c]\n",
        "                        # Create the mask from a_prev_slice\n",
        "                        mask = self.create_mask_from_window(a_prev_slice)\n",
        "                        # Set dA_prev to be dA_prev + (the mask multiplied by the correct entry of dA)\n",
        "                        dA_prev[i, vert_start:vert_end, horiz_start:horiz_end, c] += np.multiply(mask, dA[i, h, w, c])\n",
        "\n",
        "\n",
        "\n",
        "        # Make sure your output shape is correct\n",
        "        assert(dA_prev.shape == A_prev.shape)\n",
        "\n",
        "        return dA_prev\n",
        "\n"
      ]
    },
    {
      "cell_type": "markdown",
      "metadata": {
        "id": "YXSF-PhOxauK"
      },
      "source": [
        "## 4.1 Forward pass\n",
        "\n",
        "It will take following parameters to initialize a max pooling layer:\n",
        "*   filter_size: the filter will be in the shape of (filter_size*filter_size)\n",
        "*   stride: the amount of movement that a filter move in one step\n",
        "\n",
        "In the forward pass, you will slide a ( f*f ) filter over the input and store the max value of the window in the output. (f means the filter size)\n",
        "\n",
        "Notice that the output shape of the forward pass will be (H, W, C).\n",
        "* $H= \\lfloor\\frac{H_{prev }-f}{stride}\\rfloor+1$\n",
        "* $W= \\lfloor\\frac{W_{prev }-f}{stride}\\rfloor+1$\n",
        "* $C = C_{prev}$\n",
        "\n",
        "**Exercise**: Create a max pooling layer and implement the forward pass of the pooling layer. (15%)\n",
        "\n",
        "This forward function takes the following input:\n",
        "*   A_prev: the output of the previous layer, it's an array with shape (m, H_prev, W_prev, C_prev).\n",
        "\n",
        "\n",
        "\n",
        "\n"
      ]
    },
    {
      "cell_type": "code",
      "execution_count": 125,
      "metadata": {
        "id": "BpL0HQvQRQvJ",
        "colab": {
          "base_uri": "https://localhost:8080/"
        },
        "outputId": "5808f0be-f00a-4bf0-80a4-6cb4b70a8820"
      },
      "outputs": [
        {
          "output_type": "stream",
          "name": "stdout",
          "text": [
            "A = [[[[1.74481176 0.86540763 1.13376944]]]\n",
            "\n",
            "\n",
            " [[[1.13162939 1.51981682 2.18557541]]]]\n"
          ]
        }
      ],
      "source": [
        "np.random.seed(seed)\n",
        "A_prev = np.random.randn(2, 4, 4, 3)\n",
        "maxpool=MaxPool(filter_size=3, stride=2)\n",
        "A = maxpool.forward(A_prev)\n",
        "print(\"A =\", A)\n",
        "\n",
        "A_prev = np.random.randn(2, 5, 5, 3)\n",
        "maxpool=MaxPool(filter_size=2, stride=1)\n",
        "A = maxpool.forward(A_prev)\n",
        "output[\"maxpool_forward\"] = A"
      ]
    },
    {
      "cell_type": "markdown",
      "metadata": {
        "id": "9vcEzFinVYHP"
      },
      "source": [
        "Expected output: \n",
        "<table>\n",
        "  <tr>\n",
        "    <td>A: </td>\n",
        "    <td>[[[[1.74481176 0.86540763 1.13376944]]] [[[1.13162939 1.51981682 2.18557541]]]]</td>\n",
        "  </tr>\n",
        "</table>"
      ]
    },
    {
      "cell_type": "markdown",
      "metadata": {
        "id": "Wn-VBGGURQvJ"
      },
      "source": [
        "# 5. Flatten layer"
      ]
    },
    {
      "cell_type": "markdown",
      "metadata": {
        "id": "cJN7EvSuaKGW"
      },
      "source": [
        "To connect the convolution layer and the dense layer, you should flatten the output of the convolution layer or max pooling layer before dense layer."
      ]
    },
    {
      "cell_type": "code",
      "execution_count": 126,
      "metadata": {
        "id": "2-F3jskjRQvK"
      },
      "outputs": [],
      "source": [
        "class Flatten():\n",
        "    def __init__(self):\n",
        "        self.name=\"flatten\"\n",
        "\n",
        "    def forward(self, A_prev):\n",
        "        \"\"\"\n",
        "        Implements the forward pass of the flatten layer\n",
        "\n",
        "        Arguments:\n",
        "        A_prev -- Input data, numpy array of shape (m, n_H_prev, n_W_prev, n_C_prev)\n",
        "\n",
        "        Returns:\n",
        "        A -- output of the flatten layer, a 1-dimensional array\n",
        "        \"\"\"\n",
        "\n",
        "        # Save information in \"cache\" for the backward pass\n",
        "        self.cache = A_prev[0].shape\n",
        "\n",
        "        # GRADED FUNCTION: flatten_forward\n",
        "        ### START CODE HERE ### (≈1 line)\n",
        "        #A =  np.reshape(A_prev, (A_prev.shape[0], int(A_prev.size / A_prev.shape[0])))\n",
        "        A = np.ravel(A_prev).reshape(A_prev.shape[0], -1)\n",
        "        #print(A.shape)\n",
        "        #A = A_prev.reshape(A_prev.shape[0],np.prod(A_prev.shape[1:]))\n",
        "        #print(\"in flatten forward's A = \", A.shape)\n",
        "        #print(\"A in flatten forward: \", A.shape)\n",
        "        #A = A_prev.reshape(A_prev.shape[0], -1)\n",
        "        #print(A_prev.shape)\n",
        "        #print(A_prev[1].shape)\n",
        "        ### END CODE HERE ###\n",
        "        return A\n",
        "\n",
        "    def backward(self, dA):\n",
        "        \"\"\"\n",
        "        Implements the backward pass of the flatten layer\n",
        "\n",
        "        Arguments:\n",
        "        dA -- Input data, a 1-dimensional array\n",
        "\n",
        "        Returns:\n",
        "        dA_prev -- An array with its original shape (the output shape of its' previous layer).\n",
        "        \"\"\"\n",
        "        # GRADED FUNCTION: flatten_backward\n",
        "        ### START CODE HERE ### (≈1 line)\n",
        "        #print(self.cache)\n",
        "        #print(\"0\", self.cache[0])\n",
        "        #print(\"1\", self.cache[1])\n",
        "        #print(\"2\", self.cache[2])\n",
        "        #print(dA)\n",
        "        #dA_prev = np.reshape(dA, (-1, self.cache[0],self.cache[1],self.cache[2]))\n",
        "        #dA_prev = dA.reshape(*self.cache)\n",
        "        dA_prev = np.reshape(dA, (-1, *self.cache))\n",
        "        #print(dA_prev.shape)\n",
        "        ### END CODE HERE ###\n",
        "        return dA_prev"
      ]
    },
    {
      "cell_type": "markdown",
      "metadata": {
        "id": "5Haf0l4nau3y"
      },
      "source": [
        "## 5.1 Forward pass\n",
        "\n",
        "**Exercise**: Implement the forward pass of flatten layer. Turn the input array into a 1-dimensional array. (5%)\n",
        "\n",
        "This function takes the following input:\n",
        "*   A_prev: Input data, it's an array with shape (m, n_H_prev, n_W_prev, n_C_prev).\n"
      ]
    },
    {
      "cell_type": "code",
      "execution_count": 127,
      "metadata": {
        "id": "TF96C0Fyat_4",
        "colab": {
          "base_uri": "https://localhost:8080/"
        },
        "outputId": "5ed42049-e829-4fd5-f1f0-bc27936b63d4"
      },
      "outputs": [
        {
          "output_type": "stream",
          "name": "stdout",
          "text": [
            "A.shape = (2, 8)\n",
            "A[0] = [ 1.62434536 -0.61175641 -0.52817175 -1.07296862  0.86540763 -2.3015387\n",
            "  1.74481176 -0.7612069 ]\n"
          ]
        }
      ],
      "source": [
        "np.random.seed(seed)\n",
        "A_prev = np.random.randn(2,2,2,2)\n",
        "flatten = Flatten()\n",
        "A = flatten.forward(A_prev)\n",
        "print(\"A.shape =\", A.shape)\n",
        "print(\"A[0] =\", A[0])\n",
        "\n",
        "\n",
        "np.random.seed(seed)\n",
        "A_prev = np.random.randn(2,3,3,2)\n",
        "flatten = Flatten()\n",
        "A = flatten.forward(A_prev)\n",
        "output[\"flatten_forward\"] = A[0]"
      ]
    },
    {
      "cell_type": "markdown",
      "metadata": {
        "id": "Rq3qbOjiVhjj"
      },
      "source": [
        "Expected output: \n",
        "<table>\n",
        "  <tr>\n",
        "    <td>A.shape: </td>\n",
        "    <td>(2, 8)</td>\n",
        "  </tr>\n",
        "  <tr>\n",
        "    <td>A[0]: </td>\n",
        "    <td>[ 1.62434536 -0.61175641 -0.52817175 -1.07296862  0.86540763 -2.3015387\n",
        "  1.74481176 -0.7612069 ]</td>\n",
        "  </tr>\n",
        "</table>"
      ]
    },
    {
      "cell_type": "markdown",
      "metadata": {
        "id": "qdWPIB6_a8_n"
      },
      "source": [
        "## 5.2  Backward pass\n",
        "\n",
        "**Exercise**: Implement the backward pass of flatten layer. Turn the input array back to its original shape.(the output shape of its' previous layer). (5%)\n",
        "\n",
        "This function takes the following input:\n",
        "*   dA: the output of backward pass from the next layer, it's a 1-dimensional array."
      ]
    },
    {
      "cell_type": "code",
      "execution_count": 128,
      "metadata": {
        "id": "dY8vpJPLauWd",
        "colab": {
          "base_uri": "https://localhost:8080/"
        },
        "outputId": "e093ccc3-a056-4265-b3ef-761114c35e9c"
      },
      "outputs": [
        {
          "output_type": "stream",
          "name": "stdout",
          "text": [
            "B.shape = (2, 2, 2, 2)\n",
            "B[0] = [[[ 1.62434536 -0.61175641]\n",
            "  [-0.52817175 -1.07296862]]\n",
            "\n",
            " [[ 0.86540763 -2.3015387 ]\n",
            "  [ 1.74481176 -0.7612069 ]]]\n"
          ]
        }
      ],
      "source": [
        "np.random.seed(seed)\n",
        "A_prev = np.random.randn(2,2,2,2)\n",
        "flatten = Flatten()\n",
        "A = flatten.forward(A_prev)\n",
        "B = flatten.backward(A)\n",
        "print(\"B.shape =\", B.shape)\n",
        "print(\"B[0] =\", B[0])\n",
        "\n",
        "# B and A_prev should be same\n",
        "assert((B==A_prev).all())\n",
        "\n",
        "np.random.seed(seed)\n",
        "A_prev = np.random.randn(4,3,3,3)\n",
        "flatten = Flatten()\n",
        "A = flatten.forward(A_prev)\n",
        "B = flatten.backward(A)\n",
        "output[\"flatten_backward\"] = B[0]\n",
        "\n"
      ]
    },
    {
      "cell_type": "markdown",
      "metadata": {
        "id": "3khMiPehVjIV"
      },
      "source": [
        "Expected output: \n",
        "<table>\n",
        "  <tr>\n",
        "    <td>B.shape: </td>\n",
        "    <td>(2, 2, 2, 2)</td>\n",
        "  </tr>\n",
        "  <tr>\n",
        "    <td>B[0]: </td>\n",
        "    <td>[[[ 1.62434536 -0.61175641]\n",
        "  [-0.52817175 -1.07296862]]\n",
        "  [[ 0.86540763 -2.3015387 ]\n",
        "  [ 1.74481176 -0.7612069 ]]]</td>\n",
        "  </tr>\n",
        "</table>"
      ]
    },
    {
      "cell_type": "markdown",
      "metadata": {
        "id": "RYqpQu6Eye7h"
      },
      "source": [
        "# 6. Model\n",
        "Alright, now you have all the tools that are needed to build a convolutional neural network. Let's get started! Use the knowledge you learned from assignment 4 to finish this part. But there is some difference:\n",
        "\n",
        "1. In this part, we will call model.add( ) to add a layer into the model. For example:\n",
        "* model.add(Conv( )): add a convolution layer into the model.\n",
        "* model.add(Dense( )): add a dense layer into the model.\n",
        "* model.add(Activation( )): add an activation layer into the model.\n",
        "\n",
        "2. Because the dense layer you implement in assignment3 takes the input shape as [:, m], where m represents the number of examples. However, when the training data go through the convolution layer and maxpool layer, its shape will be [m,:]. As a consequence, in the forward pass, the output of flatten.forward( ) need to be transposed. Similarly, in the backward pass, before the data goes into flatten.backward( ), it needs to be transposed again.\n"
      ]
    },
    {
      "cell_type": "code",
      "execution_count": 129,
      "metadata": {
        "id": "7dWrCCkPRQvK"
      },
      "outputs": [],
      "source": [
        "class Model():\n",
        "    def __init__(self):       \n",
        "        self.layers=[]\n",
        "\n",
        "    def add(self, layer):\n",
        "        self.layers.append(layer)\n",
        "\n",
        "    def forward(self, X):\n",
        "        A = X\n",
        "        #print(\"A = \", A.shape)\n",
        "        # GRADED FUNCTION: model\n",
        "        ### START CODE HERE ### (≈ 5 lines)\n",
        "        for l in range(len(self.layers)):\n",
        "            if(self.layers[l].name==\"flatten\"):\n",
        "                A=self.layers[l].forward(A).T # Transpose after flatten layer\n",
        "                #print(\"if = \", A.shape)\n",
        "            else:\n",
        "                A=self.layers[l].forward(A)\n",
        "                #print(\"else = \", A.shape)\n",
        "        ### END CODE HERE ###\n",
        "        return A\n",
        "\n",
        "    def backward(self, AL=None, Y=None):\n",
        "        L = len(self.layers)\n",
        "\n",
        "        # GRADED FUNCTION: model\n",
        "        ### START CODE HERE ### (≈ 7 lines)\n",
        "        if self.layers[-1].name == \"sigmoid\":\n",
        "            dAL = dAL = -1 * (np.divide(Y, AL + 1e-5) - np.divide(1 - Y, 1 - AL + 1e-5))\n",
        "            dZ = self.layers[-1].backward(dA=dAL)  #activation layer backward\n",
        "            dA_prev = self.layers[-2].backward(dZ) #linear layer backward\n",
        "        else:\n",
        "            dZ = self.layers[-1].backward(Y=Y)\n",
        "            dA_prev = self.layers[-2].backward(dZ)\n",
        "        ### END CODE HERE ###\n",
        "\n",
        "        \n",
        "        # Loop from l=L-3 to l=0\n",
        "        # GRADED FUNCTION: model\n",
        "        ### START CODE HERE ### (≈ 5 lines)\n",
        "        for l in reversed(range(L-2)):\n",
        "            if(self.layers[l].name==\"flatten\"):\n",
        "                dA_prev=self.layers[l].backward(dA_prev.T) # Transpose before goes into flatten layer\n",
        "            else:\n",
        "                dA_prev=dA_prev=self.layers[l].backward(dA_prev)\n",
        "        ### END CODE HERE ###\n",
        "\n",
        "        return dA_prev\n",
        "\n",
        "    def update(self, learning_rate):\n",
        "        \"\"\"\n",
        "        Arguments:\n",
        "        learning_rate -- step size\n",
        "        \"\"\"\n",
        "        \n",
        "        # GRADED FUNCTION: model\n",
        "        # Only convolution layer and dense layer have to update parameters\n",
        "        ### START CODE HERE ### (≈ 3 lines)\n",
        "        L = len(self.layers)\n",
        "        for i in range(L):\n",
        "          if(self.layers[i].name==\"dense\" or self.layers[i].name==\"conv\"):\n",
        "            self.layers[i].update(learning_rate)\n",
        "        ### END CODE HERE ###\n",
        "        "
      ]
    },
    {
      "cell_type": "markdown",
      "metadata": {
        "id": "36my0zWnlv3K"
      },
      "source": [
        "## 6.1 Model forward, backward and update:\n",
        "**Exercise**: Here is an exercise to make sure your model works correctly. (5%)"
      ]
    },
    {
      "cell_type": "code",
      "execution_count": 130,
      "metadata": {
        "id": "gN-8NQ_KRQvK",
        "colab": {
          "base_uri": "https://localhost:8080/"
        },
        "outputId": "a2a73e9c-94e9-4c2f-ef66-f50294af64f4"
      },
      "outputs": [
        {
          "output_type": "stream",
          "name": "stdout",
          "text": [
            "[ 0.36135339 -0.08462337 -0.00125603 -0.75846791 -0.10766644 -0.30566005\n",
            " -0.6160899   0.17289454]\n",
            "[[[[-0.17413437 -1.16136976  2.2091218   1.09197293  1.09878206\n",
            "    -0.99630691  2.22696487 -0.20973624]]]]\n",
            "[-2.14606176 -0.75085187 -1.19750975 -0.8916535  -0.91436404 -0.76753\n",
            " -1.30207298 -0.52670234]\n",
            "[[-0.47493517]]\n"
          ]
        }
      ],
      "source": [
        "np.random.seed(seed)\n",
        "A = np.random.randn(4,10,10,3)\n",
        "Y = np.array([[1,0,1,0]])\n",
        "\n",
        "model=Model()\n",
        "model.add(Conv(filter_size=3, input_channel=3, output_channel=8, pad=1, stride=2))\n",
        "model.add(Activation(\"relu\"))\n",
        "model.add(MaxPool(filter_size=2, stride=2))\n",
        "model.add(Flatten())\n",
        "model.add(Dense(32, 1))\n",
        "model.add(Activation(\"sigmoid\"))\n",
        "\n",
        "\n",
        "AL = model.forward(A)\n",
        "dA_prev = model.backward(AL=AL, Y=Y)\n",
        "model.update(0.01)\n",
        "\n",
        "print(model.layers[0].dW[0,0,0])\n",
        "print(model.layers[0].db)\n",
        "print(model.layers[4].dW[0,:8])\n",
        "print(model.layers[4].db)\n",
        "\n",
        "\n",
        "np.random.seed(seed)\n",
        "A = np.random.randn(4,8,8,3)\n",
        "Y = np.array([[1,1,0,0]])\n",
        "\n",
        "model=Model()\n",
        "model.add(Conv(filter_size=3, input_channel=3, output_channel=16, pad=1, stride=2))\n",
        "model.add(Activation(\"relu\"))\n",
        "model.add(MaxPool(filter_size=2, stride=2))\n",
        "model.add(Flatten())\n",
        "model.add(Dense(64, 1))\n",
        "model.add(Activation(\"sigmoid\"))\n",
        "\n",
        "\n",
        "AL = model.forward(A)\n",
        "dA_prev = model.backward(AL=AL, Y=Y)\n",
        "model.update(0.001)\n",
        "\n",
        "output[\"model_1\"] = model.layers[0].dW[0,0,0]\n",
        "output[\"model_2\"] = model.layers[0].db\n",
        "output[\"model_3\"] = model.layers[4].dW[0,:8]\n",
        "output[\"model_4\"] = model.layers[4].db"
      ]
    },
    {
      "cell_type": "markdown",
      "metadata": {
        "id": "vGTtpnWcVvce"
      },
      "source": [
        "Expected output: \n",
        "<table>\n",
        "  <tr>\n",
        "    <td>model.layers[0].dW[0,0,0]: </td>\n",
        "    <td>[ 0.36135339 -0.08462337 -0.00125603 -0.75846791 -0.10766644 -0.30566005\n",
        " -0.6160899   0.17289454]</td>\n",
        "  </tr>\n",
        "  <tr>\n",
        "    <td>model.layers[0].db: </td>\n",
        "    <td>[[[[-0.17413437 -1.16136976  2.2091218   1.09197293  1.09878206\n",
        "    -0.99630691  2.22696487 -0.20973624]]]]</td>\n",
        "  </tr>\n",
        "  <tr>\n",
        "    <td>model.layers[4].dW[0,:8]: </td>\n",
        "    <td>[-2.14606176 -0.75085187 -1.19750975 -0.8916535  -0.91436404 -0.76753\n",
        " -1.30207298 -0.52670234]</td>\n",
        "  </tr>\n",
        "  <tr>\n",
        "    <td>model.layers[4].db: </td>\n",
        "    <td>[[-0.47493517]]</td>\n",
        "  </tr>\n",
        "</table>"
      ]
    },
    {
      "cell_type": "markdown",
      "metadata": {
        "id": "9EC0qy26RQvN"
      },
      "source": [
        "# 7. Binary classification\n",
        "\n",
        "Congratulations on implementing all the functions by yourself. You have done an incredible job! 👏\n",
        "\n",
        "Now you have all the tools you need to get started with classification. In this section, you will build a binary classifier using the functions you had previously written. You will create a model that can determine whether a CXR image is normal or not. There will be 600 training images and 60 testing images, and the size of all images are 32 * 32 * 1.\n",
        "\n",
        "\n",
        "**Exercise**: Implement a binary classifier and tune the hyperparameter. You will get all 10% if your prediction achieves accuracy greater than 0.55 in testing data. (10%)\n",
        "\n",
        "**Instruction**:\n",
        "*   You can only use the functions you had previously written.\n",
        "*   Preprocess the data by using min-max scaling to normalize X. Normalize the values of each feature between 0 and 1.\n",
        "*   Use batch gradient descent to train the model.\n",
        "\n"
      ]
    },
    {
      "cell_type": "markdown",
      "metadata": {
        "id": "K2X2fb7aoJTg"
      },
      "source": [
        "## 7.1 Data preprocessing"
      ]
    },
    {
      "cell_type": "code",
      "source": [
        "def compute_CCE_cost(AL, Y):\n",
        "    \"\"\"\n",
        "    Implement the categorical cross-entropy cost function using the above formula.\n",
        "\n",
        "    Arguments:\n",
        "    AL -- probability vector corresponding to your label predictions, shape (number of classes, number of examples)\n",
        "    Y -- true \"label\" vector (one hot vector, for example: [[1], [0], [0]] represents rock, [[0], [1], [0]] represents paper, [[0], [0], [1]] represents scissors \n",
        "                              in a Rock-Paper-Scissors image classification), shape (number of classes, number of examples)\n",
        "\n",
        "    Returns:\n",
        "    cost -- categorical cross-entropy cost\n",
        "    \"\"\"\n",
        "    \n",
        "    m = Y.shape[1]\n",
        "    #print(Y.shape)\n",
        "    # Compute loss from aL and y.\n",
        "    ### START CODE HERE ### (≈ 1 line of code)\n",
        "    #cost = (-1/m)*np.dot(np.dot(Y, np.log(AL.T+1e-5)))\n",
        "    cost = np.array((-1/m)*np.sum(np.multiply(Y,np.log(AL + 1e-5))))\n",
        "    ### END CODE HERE ###\n",
        "    \n",
        "    cost = np.squeeze(cost)      # To make sure your cost's shape is what we expect (e.g. this turns [[17]] into 17).\n",
        "    assert(cost.shape == ())\n",
        "    \n",
        "    return cost"
      ],
      "metadata": {
        "id": "GJ1VNU9U35dB"
      },
      "execution_count": 131,
      "outputs": []
    },
    {
      "cell_type": "code",
      "execution_count": 132,
      "metadata": {
        "id": "QWHxt5cDZ9mg",
        "colab": {
          "base_uri": "https://localhost:8080/"
        },
        "outputId": "2e168a99-88ab-4804-865a-764e6b004db2"
      },
      "outputs": [
        {
          "output_type": "stream",
          "name": "stdout",
          "text": [
            "(600, 32, 32, 1)\n"
          ]
        }
      ],
      "source": [
        "PATH = \"/content/drive/MyDrive/Colab Notebooks/Training_data\"  #path to your training image\n",
        "file_dir = os.listdir(PATH) #read the images from the directory\n",
        "file_dir.sort() #Make sure the images are loaded in order\n",
        "X_train = np.array([])\n",
        "\n",
        "# Prepare X_train\n",
        "# The shape of X_train will be (number of examples, height of image, width of image, channel of image)\n",
        "# GRADED CODE: Binary classification (Data preprocessing)\n",
        "# hint: use imread(PATH, IMREAD_GRAYSCALE) to load image\n",
        "### START CODE HERE ### (≈ 9 line)\n",
        "#cv2.imread(\"path\", cv2.IMREAD_GRAYSCALE).\n",
        "#print(file_dir)\n",
        "X_in = []\n",
        "for image in file_dir:  #iterate through each file to perform some action\n",
        "    img = imread(\"/content/drive/MyDrive/Colab Notebooks/Training_data/{image}\".format(image=image),IMREAD_GRAYSCALE)\n",
        "    #X_in.append(img.reshape(img.shape[0], -1))\n",
        "    #X_in.append(img.reshape(img.shape))\n",
        "    X_in.append(img)\n",
        "\n",
        "#df_train = read_csv(\"/content/drive/MyDrive/Colab Notebooks/Training_label.csv\", index_col=0)\n",
        "\"\"\"\n",
        "for i in range(9):\n",
        "\t## define subplot\n",
        "\tplt.subplot(330 + 1 + i)\n",
        "\t## plot raw pixel data\n",
        "\tplt.imshow(X_in[i], cmap='gray', vmin=0, vmax=255)\n",
        "## show the figure\n",
        "plt.show()\n",
        "\"\"\"\n",
        "#X_train = np.array(X_in)\n",
        "X_train = np.expand_dims(X_in,-1)\n",
        "norm = X_train\n",
        "X_train = (norm - norm.min()) / (norm.max() - norm.min())\n",
        "#X_train = X_train/255.\n",
        "#X_train = X_train.T\n",
        "\n",
        "print(X_train.shape)\n",
        "#print(X_train)\n",
        "#print(X_train)\n",
        "#original_images = [f\"./content/drive/MyDrive/Colab Notebooks/Training_data\" for file_name in PATH]\n",
        "#original_images = [imread(file) for file in original_images]\n",
        "\n",
        "### END CODE HERE ###\n",
        "        \n",
        "\n",
        "\n"
      ]
    },
    {
      "cell_type": "code",
      "execution_count": 133,
      "metadata": {
        "id": "I527tbN2_Obg",
        "colab": {
          "base_uri": "https://localhost:8080/"
        },
        "outputId": "8f2eae09-1459-4901-9ddd-2fdc85ff5f95"
      },
      "outputs": [
        {
          "output_type": "stream",
          "name": "stdout",
          "text": [
            "(60, 32, 32, 1)\n"
          ]
        }
      ],
      "source": [
        "PATH = \"/content/drive/MyDrive/Colab Notebooks/Testing_data\"  #path to your testing image\n",
        "file_dir = os.listdir(PATH)\n",
        "file_dir.sort()\n",
        "X_test = np.array([])\n",
        "\n",
        "# Prepare X_test\n",
        "# The shape of X_teset will be (number of examples, height of image, width of image, channel of image)\n",
        "# GRADED CODE: Binary classification (Data preprocessing)\n",
        "### START CODE HERE ### (≈ 9 line)\n",
        "X_test_in = []\n",
        "for images in file_dir:  #iterate through each file to perform some action\n",
        "    #print(images)\n",
        "    imge = imread(\"/content/drive/MyDrive/Colab Notebooks/Testing_data/{images}\".format(images=images),IMREAD_GRAYSCALE)\n",
        "    X_test_in.append(imge)\n",
        "    #X_in.append(image.shape)\n",
        "#X_test_in = np.array(X_test_in)\n",
        "#print(X_test_in.shape)\n",
        "\"\"\"\n",
        "for i in range(9):\n",
        "\t## define subplot\n",
        "\tplt.subplot(330 + 1 + i)\n",
        "\t## plot raw pixel data\n",
        "\tplt.imshow(X_test_in[i], cmap='gray', vmin=0, vmax=255)\n",
        "## show the figure\n",
        "plt.show()\n",
        "\"\"\"\n",
        "X_test = np.expand_dims(X_test_in,-1)\n",
        "norm = X_test\n",
        "X_test = (norm - norm.min()) / (norm.max() - norm.min())\n",
        "#X_test = X_test/255.\n",
        "#X_test = X_test.T\n",
        "print(X_test.shape)\n",
        "#print(X_test)\n",
        "### END CODE HERE ###\n",
        "        \n",
        "\n",
        "\n"
      ]
    },
    {
      "cell_type": "code",
      "execution_count": 134,
      "metadata": {
        "id": "bxaslew_lkKY",
        "colab": {
          "base_uri": "https://localhost:8080/"
        },
        "outputId": "adeca96f-9958-421d-8d61-4f06363d171b"
      },
      "outputs": [
        {
          "output_type": "stream",
          "name": "stdout",
          "text": [
            "(600, 1)\n"
          ]
        }
      ],
      "source": [
        "data = read_csv(\"Training_label.csv\")\n",
        "\n",
        "y_train = []\n",
        "# Prepare y_train\n",
        "# The shape of y_train will be (number of examples, 1), we will transpose y_train latter.\n",
        "# GRADED CODE: Binary classification (Data preprocessing)\n",
        "### START CODE HERE ### (≈ 2 line)\n",
        "y_train = np.expand_dims(data.iloc[:,-1],-1)\n",
        "print(y_train.shape)\n",
        "#print(y_train)\n",
        "### END CODE HERE ###\n",
        "\n"
      ]
    },
    {
      "cell_type": "code",
      "execution_count": 135,
      "metadata": {
        "id": "iwhza4gUboQ6"
      },
      "outputs": [],
      "source": [
        "from sklearn.model_selection import train_test_split\n",
        "#You can split training and validation set here. (Optional)\n",
        "### START CODE HERE ###\n",
        "\n",
        "### END CODE HERE ###"
      ]
    },
    {
      "cell_type": "code",
      "execution_count": 136,
      "metadata": {
        "id": "wKkOpp6uyCQY",
        "colab": {
          "base_uri": "https://localhost:8080/",
          "height": 304
        },
        "outputId": "43b64ead-d727-4802-95a4-cb304fcbcc73"
      },
      "outputs": [
        {
          "output_type": "display_data",
          "data": {
            "text/plain": [
              "<Figure size 432x288 with 9 Axes>"
            ],
            "image/png": "[encoded data removed]"
          },
          "metadata": {
            "needs_background": "light"
          }
        },
        {
          "output_type": "stream",
          "name": "stdout",
          "text": [
            "Train: X=(600, 32, 32, 1), y=(1, 600)\n",
            "Test: X=(60, 32, 32, 1)\n"
          ]
        }
      ],
      "source": [
        "y_train = y_train.T #transpose y_train\n",
        "\n",
        "# plot first few images\n",
        "for i in range(9):\n",
        "    # define subplot\n",
        "    plt.subplot(330 + 1 + i)\n",
        "    # plot raw pixel data\n",
        "    plt.imshow(X_train[i].squeeze(), cmap='gray', vmin=0, vmax=1)\n",
        "# show the figure\n",
        "plt.show()\n",
        "\n",
        "# check the shape of training data and testing data\n",
        "print('Train: X=%s, y=%s' % (X_train.shape, y_train.shape))\n",
        "print('Test: X=%s' % (X_test.shape, ))"
      ]
    },
    {
      "cell_type": "markdown",
      "metadata": {
        "id": "qdK9_gnZAjYD"
      },
      "source": [
        "## 7.2 mini-batch gradient descent"
      ]
    },
    {
      "cell_type": "code",
      "execution_count": 137,
      "metadata": {
        "id": "LVTeqK9TqMwP"
      },
      "outputs": [],
      "source": [
        "def random_mini_batches(X, Y, mini_batch_size = 64):\n",
        "    \"\"\"\n",
        "    Creates a list of random minibatches from (X, Y)\n",
        "    \n",
        "    Arguments:\n",
        "    X -- input data, of shape !!!!!!!!!!!(number of examples ,input size)!!!!!!!!!!!\n",
        "    Y -- true \"label\" vector, of shape (number of classes, number of examples)\n",
        "    mini_batch_size -- size of the mini-batches, integer\n",
        "    \n",
        "    Returns:\n",
        "    mini_batches -- list of synchronous (mini_batch_X, mini_batch_Y)\n",
        "    \"\"\"\n",
        "    \n",
        "    m = X.shape[0]  # number of training examples\n",
        "    mini_batches = []\n",
        "\n",
        "    # GRADED CODE: Binary classification\n",
        "    ### START CODE HERE ###\n",
        "        \n",
        "    # Step 1: Shuffle (X, Y)\n",
        "    permutation = list(np.random.permutation(m))\n",
        "    shuffled_X = X[permutation,:]\n",
        "    shuffled_Y = Y[:,permutation]\n",
        "    \n",
        "    inc = mini_batch_size\n",
        "\n",
        "    # Step 2 - Partition (shuffled_X, shuffled_Y).\n",
        "    # Cases with a complete mini batch size only i.e each of 64 examples.\n",
        "    num_complete_minibatches = math.floor(m / mini_batch_size) # number of mini batches of size mini_batch_size in your partitionning\n",
        "    for k in range(0, num_complete_minibatches):\n",
        "        # (approx. 2 lines)\n",
        "        mini_batch_X = shuffled_X[k * mini_batch_size : k * mini_batch_size + mini_batch_size, :]\n",
        "        mini_batch_Y = shuffled_Y[:, k * mini_batch_size: k * mini_batch_size + mini_batch_size]\n",
        "        mini_batch = (mini_batch_X, mini_batch_Y)\n",
        "        mini_batches.append(mini_batch)\n",
        "    \n",
        "    # For handling the end case (last mini-batch < mini_batch_size i.e less than 64)\n",
        "    if m % mini_batch_size != 0:\n",
        "        #(approx. 2 lines)\n",
        "        mini_batch_X = shuffled_X[num_complete_minibatches * mini_batch_size :, :]\n",
        "        mini_batch_Y = shuffled_Y[:, num_complete_minibatches * mini_batch_size : ]\n",
        "        mini_batch = (mini_batch_X, mini_batch_Y)\n",
        "        mini_batches.append(mini_batch)\n",
        "    \n",
        "    \n",
        "    return mini_batches\n",
        "\n",
        "    ### END CODE HERE ###"
      ]
    },
    {
      "cell_type": "markdown",
      "metadata": {
        "id": "5FIrnqYMFGRq"
      },
      "source": [
        "## 7.3 Start training"
      ]
    },
    {
      "cell_type": "code",
      "execution_count": 138,
      "metadata": {
        "id": "1CBktduDyKd6",
        "colab": {
          "base_uri": "https://localhost:8080/",
          "height": 1000
        },
        "outputId": "cbb5f129-67ce-4fe1-fd6a-06af715c759a"
      },
      "outputs": [
        {
          "output_type": "stream",
          "name": "stdout",
          "text": [
            "epoch:  0\n",
            "Cost after iteration 0: 0.672072\n",
            "epoch:  1\n",
            "Cost after iteration 1: 0.661231\n",
            "epoch:  2\n",
            "Cost after iteration 2: 0.700677\n",
            "epoch:  3\n",
            "Cost after iteration 3: 0.671187\n",
            "epoch:  4\n",
            "Cost after iteration 4: 0.618673\n",
            "epoch:  5\n",
            "Cost after iteration 5: 0.606001\n",
            "epoch:  6\n",
            "Cost after iteration 6: 0.646726\n",
            "epoch:  7\n",
            "Cost after iteration 7: 0.573782\n",
            "epoch:  8\n",
            "Cost after iteration 8: 0.614397\n",
            "epoch:  9\n",
            "Cost after iteration 9: 0.487137\n",
            "epoch:  10\n",
            "Cost after iteration 10: 0.595023\n",
            "epoch:  11\n",
            "Cost after iteration 11: 0.612336\n",
            "epoch:  12\n",
            "Cost after iteration 12: 0.642008\n",
            "epoch:  13\n",
            "Cost after iteration 13: 0.482741\n",
            "epoch:  14\n",
            "Cost after iteration 14: 0.440943\n",
            "epoch:  15\n",
            "Cost after iteration 15: 0.722027\n",
            "epoch:  16\n",
            "Cost after iteration 16: 0.491658\n",
            "epoch:  17\n",
            "Cost after iteration 17: 0.608207\n",
            "epoch:  18\n",
            "Cost after iteration 18: 0.532759\n",
            "epoch:  19\n",
            "Cost after iteration 19: 0.390228\n",
            "epoch:  20\n",
            "Cost after iteration 20: 0.637922\n",
            "epoch:  21\n",
            "Cost after iteration 21: 0.469066\n"
          ]
        },
        {
          "output_type": "display_data",
          "data": {
            "text/plain": [
              "<Figure size 432x288 with 1 Axes>"
            ],
            "image/png": "[encoded data removed]"
          },
          "metadata": {
            "needs_background": "light"
          }
        }
      ],
      "source": [
        "# GRADED CODE: Binary classification\n",
        "### START CODE HERE ###\n",
        "learning_rate = 0.0036\n",
        "num_iterations = 22\n",
        "batch_size = 64\n",
        "print_cost = True\n",
        "classes = 2\n",
        "costs = []   # keep track of cost\n",
        "\n",
        "\n",
        "# build the model\n",
        "model=Model()\n",
        "model.add(Conv(filter_size=3, input_channel=1, output_channel=16, pad=0, stride=2))\n",
        "model.add(Activation(\"relu\"))\n",
        "model.add(MaxPool(filter_size=2, stride=2))\n",
        "model.add(Conv(filter_size=3, input_channel=16, output_channel=16, pad=0, stride=2))\n",
        "model.add(Activation(\"relu\"))\n",
        "\n",
        "model.add(Flatten())\n",
        "model.add(Dense(144, 32))\n",
        "model.add(Activation(\"relu\"))\n",
        "model.add(Dense(32, 1))\n",
        "model.add(Activation(\"sigmoid\"))\n",
        "\n",
        "# Loop (gradient descent)\n",
        "for i in range(0, num_iterations):\n",
        "    print(\"epoch: \",i)\n",
        "    mini_batches = random_mini_batches(X_train, y_train, batch_size)\n",
        "    j=0\n",
        "    for batch in mini_batches:\n",
        "        x_batch, y_batch = batch\n",
        "\n",
        "        # forward\n",
        "        AL = model.forward(x_batch)\n",
        "\n",
        "        # compute cost\n",
        "        if classes == 2:\n",
        "            cost = compute_BCE_cost(np.array(AL),np.array(y_batch))\n",
        "        else:\n",
        "            cost = compute_CCE_cost(np.array(AL) ,np.array(y_batch))\n",
        "\n",
        "        # backward\n",
        "        dA_prev = model.backward(AL, y_batch)\n",
        "\n",
        "        # update\n",
        "        model.update(learning_rate)\n",
        "    \n",
        "    print (\"Cost after iteration %i: %f\" %(i, cost))\n",
        "    costs.append(cost)\n",
        "### END CODE HERE ###\n",
        "            \n",
        "# plot the cost\n",
        "plt.plot(np.squeeze(costs))\n",
        "plt.ylabel('cost')\n",
        "plt.xlabel('iterations (per hundreds)')\n",
        "plt.title(\"Learning rate =\" + str(learning_rate))\n",
        "plt.show()\n"
      ]
    },
    {
      "cell_type": "code",
      "source": [
        "plt.plot(np.squeeze(costs))\n",
        "plt.ylabel('Loss')\n",
        "plt.xlabel('Epoch')\n",
        "plt.show()"
      ],
      "metadata": {
        "colab": {
          "base_uri": "https://localhost:8080/",
          "height": 279
        },
        "id": "CnJEbCmouUQz",
        "outputId": "5d28add4-f2c2-4aac-c491-c4639d69735b"
      },
      "execution_count": 139,
      "outputs": [
        {
          "output_type": "display_data",
          "data": {
            "text/plain": [
              "<Figure size 432x288 with 1 Axes>"
            ],
            "image/png": "[encoded data removed]"
          },
          "metadata": {
            "needs_background": "light"
          }
        }
      ]
    },
    {
      "cell_type": "code",
      "execution_count": 140,
      "metadata": {
        "id": "1hIZQOfGAPJJ",
        "colab": {
          "base_uri": "https://localhost:8080/"
        },
        "outputId": "3dffa14e-3c08-4d7d-b286-f7bf25c73de7"
      },
      "outputs": [
        {
          "output_type": "stream",
          "name": "stdout",
          "text": [
            "Accuracy: 0.7516666666666667\n",
            "[[1. 1. 1. 1. 1. 1. 1. 0. 1. 1. 1. 1. 1. 1. 0. 1. 1. 1. 1. 1. 1. 1. 1. 1.\n",
            "  1. 1. 1. 1. 1. 0. 0. 0. 1. 0. 0. 0. 1. 0. 0. 0. 0. 1. 1. 1. 0. 1. 1. 1.\n",
            "  1. 1. 1. 0. 1. 1. 1. 0. 1. 1. 0. 1.]]\n"
          ]
        }
      ],
      "source": [
        "pred_train = predict(X_train, y_train, model, 2)\n",
        "\n",
        "\n",
        "pred_test = predict(X_test, None, model, 2)\n",
        "print(pred_test)\n",
        "output[\"basic_pred_test\"] = pred_test[0].astype(int)\n",
        "\n",
        "basic_model_layers = []\n",
        "basic_model_parameters = []\n",
        "for layer in model.layers:\n",
        "    basic_model_layers.append(layer.name)\n",
        "    if(layer.name==\"conv\" or layer.name==\"dense\" or layer.name==\"maxpool\"):\n",
        "        basic_model_parameters.append(layer.parameters)\n",
        "output[\"basic_model_layers\"] = basic_model_layers\n",
        "output[\"basic_model_parameters\"] = basic_model_parameters"
      ]
    },
    {
      "cell_type": "markdown",
      "metadata": {
        "id": "rrrYp1RwSIOh"
      },
      "source": [
        "# 8. Advanced implementation\n",
        "In this part, you will practice how to build a model by **Tensorflow**, and you finally can use GPU to accelerate the training process☺️. You can import any packages in the advanced part.\n",
        "\n",
        "**Exercise**: Implement a binary classifier by Tensorflow. You will get 15% if your prediction achieves accuracy greater than 0.7 in testing data. The rest 10% will be graded by your rank.\n",
        "\n",
        "Except you have to build the model by Tensorflow, there is no limitation in this part. You can try different model architectures, optimization parametes and image augmentation methods to get good performance.\n",
        "\n"
      ]
    },
    {
      "cell_type": "code",
      "execution_count": 141,
      "metadata": {
        "id": "PDyxdy9Jk982"
      },
      "outputs": [],
      "source": [
        "# import some tensorflow packages to help you build the model\n",
        "import tensorflow as tf\n",
        "from tensorflow.keras import layers, models\n",
        "\n",
        "# import other packages here\n",
        "from keras.models import Sequential\n",
        "from keras.layers import Conv2D, MaxPooling2D, BatchNormalization\n",
        "from keras.layers import Activation, Dropout, Flatten, Dense\n",
        "import pandas as pd"
      ]
    },
    {
      "cell_type": "code",
      "execution_count": 142,
      "metadata": {
        "id": "hhAjQTjPk-I0",
        "colab": {
          "base_uri": "https://localhost:8080/",
          "height": 359
        },
        "outputId": "7a774776-9092-4296-cbd3-4a7ad1cab984"
      },
      "outputs": [
        {
          "output_type": "stream",
          "name": "stdout",
          "text": [
            "(600, 32, 32, 1)\n",
            "(60, 32, 32, 1)\n",
            "(600,)\n"
          ]
        },
        {
          "output_type": "display_data",
          "data": {
            "text/plain": [
              "<Figure size 432x288 with 9 Axes>"
            ],
            "image/png": "[encoded data removed]"
          },
          "metadata": {
            "needs_background": "light"
          }
        },
        {
          "output_type": "stream",
          "name": "stdout",
          "text": [
            "shape of X_train: (400, 32, 32, 1) shape of y_train: (400,)\n",
            "shape of X_val: (200, 32, 32, 1) shape of y_val: (200,)\n"
          ]
        }
      ],
      "source": [
        "# GRADED CODE: Advanced implementation\n",
        "### Data preprocess & augmentation ###\n",
        "PATH = \"/content/drive/MyDrive/Colab Notebooks/Training_data\"  #path to your training image\n",
        "file_dir = os.listdir(PATH) #read the images from the directory\n",
        "file_dir.sort() #Make sure the images are loaded in order\n",
        "adv_X_train = np.array([])\n",
        "\n",
        "adv_X_in = []\n",
        "for image in file_dir:  #iterate through each file to perform some action\n",
        "    img = imread(\"/content/drive/MyDrive/Colab Notebooks/Training_data/{image}\".format(image=image),IMREAD_GRAYSCALE)\n",
        "    adv_X_in.append(img)\n",
        "#X_in = np.expand_dims(X_in,-1)\n",
        "adv_X_train = np.expand_dims(adv_X_in,-1)\n",
        "#adv_X_train = np.array(adv_X_in)\n",
        "print(adv_X_train.shape)   \n",
        "\n",
        "PATH_TEST = \"/content/drive/MyDrive/Colab Notebooks/Testing_data\"  #path to your testing image\n",
        "file_dir_test = os.listdir(PATH_TEST)\n",
        "file_dir_test.sort()\n",
        "X_test = np.array([])\n",
        "\n",
        "X_test_in = []\n",
        "for images in file_dir_test:  #iterate through each file to perform some action\n",
        "    #print(images)\n",
        "    imge = imread(\"/content/drive/MyDrive/Colab Notebooks/Testing_data/{images}\".format(images=images),IMREAD_GRAYSCALE)\n",
        "    X_test_in.append(imge)\n",
        "\n",
        "X_test = np.expand_dims(X_test_in,-1)\n",
        "#X_test = np.array(X_test_in)\n",
        "print(X_test.shape)\n",
        "\n",
        "data = read_csv(\"Training_label.csv\")\n",
        "\n",
        "y_train_in = []\n",
        "y_train_in = data.iloc[:,-1]\n",
        "#print(y_train_in)\n",
        "y_train_in = np.ravel(y_train_in)\n",
        "#y_train_in = y_train_in.flat()\n",
        "print(y_train_in.shape)\n",
        "m = 600\n",
        "\n",
        "permutation = list(np.random.permutation(m))\n",
        "shuffled_X = adv_X_train[permutation,:]\n",
        "shuffled_Y = y_train_in[permutation]\n",
        "\n",
        "x_train_adv, y_train_adv = shuffled_X[:400, :], shuffled_Y[:400]\n",
        "X_val, y_val = shuffled_X[400:, :], shuffled_Y[400:]\n",
        "#print(x_train_adv)\n",
        "xTrainAdv = tf.keras.utils.normalize(x_train_adv, axis=1)\n",
        "#print(xTrainAdv)\n",
        "xVal = tf.keras.utils.normalize(X_val, axis=1)\n",
        "\n",
        "for i in range(9):\n",
        "    # define subplot\n",
        "    plt.subplot(330 + 1 + i)\n",
        "    # plot raw pixel data\n",
        "    plt.imshow(xTrainAdv[i].squeeze(), cmap='gray', vmin=0, vmax=1)\n",
        "# show the figure\n",
        "plt.show()\n",
        "\n",
        "print(\"shape of X_train: \" + str(xTrainAdv.shape) + \" shape of y_train: \" + str(y_train_adv.shape))\n",
        "print(\"shape of X_val: \" + str(xVal.shape) + \" shape of y_val: \" + str(y_val.shape))\n"
      ]
    },
    {
      "cell_type": "code",
      "source": [
        "tf.keras.utils.set_random_seed(1)\n",
        "\n",
        "model = tf.keras.Sequential([\n",
        "\n",
        "tf.keras.layers.Conv2D(32, (3, 3), activation='relu', padding='same', input_shape=(32, 32, 1)),\n",
        "tf.keras.layers.MaxPooling2D((2, 2), strides=2),\n",
        "\n",
        "tf.keras.layers.Conv2D(64, (3, 3), activation='relu', padding='same'),\n",
        "tf.keras.layers.MaxPooling2D((2, 2), strides=2),\n",
        "\n",
        "tf.keras.layers.Conv2D(128, (3, 3), activation='relu', padding='same'),\n",
        "tf.keras.layers.MaxPooling2D((2, 2), strides=2),\n",
        "\n",
        "tf.keras.layers.Conv2D(256, (3, 3), activation='relu', padding='same'),\n",
        "tf.keras.layers.MaxPooling2D((2, 2), strides=2),\n",
        "\n",
        "tf.keras.layers.Conv2D(512, (3, 3), activation='relu', padding='same'),\n",
        "tf.keras.layers.MaxPooling2D((2, 2), strides=2),\n",
        "\n",
        "tf.keras.layers.Flatten(),\n",
        "tf.keras.layers.Dense(32, activation='relu'),\n",
        "tf.keras.layers.Dense(1, activation='sigmoid'),\n",
        "])"
      ],
      "metadata": {
        "id": "stxTbjHAGVgz"
      },
      "execution_count": 143,
      "outputs": []
    },
    {
      "cell_type": "code",
      "source": [
        "model.compile(optimizer='adam', loss='binary_crossentropy', metrics=['accuracy'])\n",
        "print(model.summary())"
      ],
      "metadata": {
        "colab": {
          "base_uri": "https://localhost:8080/"
        },
        "id": "6sJ41ecqGw0_",
        "outputId": "e8053839-7f73-4b9a-8a38-fa8efb5d1ab0"
      },
      "execution_count": 144,
      "outputs": [
        {
          "output_type": "stream",
          "name": "stdout",
          "text": [
            "Model: \"sequential_2\"\n",
            "_________________________________________________________________\n",
            " Layer (type)                Output Shape              Param #   \n",
            "=================================================================\n",
            " conv2d_10 (Conv2D)          (None, 32, 32, 32)        320       \n",
            "                                                                 \n",
            " max_pooling2d_10 (MaxPoolin  (None, 16, 16, 32)       0         \n",
            " g2D)                                                            \n",
            "                                                                 \n",
            " conv2d_11 (Conv2D)          (None, 16, 16, 64)        18496     \n",
            "                                                                 \n",
            " max_pooling2d_11 (MaxPoolin  (None, 8, 8, 64)         0         \n",
            " g2D)                                                            \n",
            "                                                                 \n",
            " conv2d_12 (Conv2D)          (None, 8, 8, 128)         73856     \n",
            "                                                                 \n",
            " max_pooling2d_12 (MaxPoolin  (None, 4, 4, 128)        0         \n",
            " g2D)                                                            \n",
            "                                                                 \n",
            " conv2d_13 (Conv2D)          (None, 4, 4, 256)         295168    \n",
            "                                                                 \n",
            " max_pooling2d_13 (MaxPoolin  (None, 2, 2, 256)        0         \n",
            " g2D)                                                            \n",
            "                                                                 \n",
            " conv2d_14 (Conv2D)          (None, 2, 2, 512)         1180160   \n",
            "                                                                 \n",
            " max_pooling2d_14 (MaxPoolin  (None, 1, 1, 512)        0         \n",
            " g2D)                                                            \n",
            "                                                                 \n",
            " flatten_2 (Flatten)         (None, 512)               0         \n",
            "                                                                 \n",
            " dense_4 (Dense)             (None, 32)                16416     \n",
            "                                                                 \n",
            " dense_5 (Dense)             (None, 1)                 33        \n",
            "                                                                 \n",
            "=================================================================\n",
            "Total params: 1,584,449\n",
            "Trainable params: 1,584,449\n",
            "Non-trainable params: 0\n",
            "_________________________________________________________________\n",
            "None\n"
          ]
        }
      ]
    },
    {
      "cell_type": "code",
      "source": [
        "historyAdv = model.fit(np.array(xTrainAdv), np.array(y_train_adv), epochs=22, validation_data=(np.array(xVal), np.array(y_val)))"
      ],
      "metadata": {
        "colab": {
          "base_uri": "https://localhost:8080/"
        },
        "id": "7eWrpxeqLK-q",
        "outputId": "c5b02313-4b43-4f76-ec43-465c84801e8e"
      },
      "execution_count": 145,
      "outputs": [
        {
          "output_type": "stream",
          "name": "stdout",
          "text": [
            "Epoch 1/22\n",
            "13/13 [==============================] - 4s 241ms/step - loss: 0.6943 - accuracy: 0.4850 - val_loss: 0.6928 - val_accuracy: 0.5100\n",
            "Epoch 2/22\n",
            "13/13 [==============================] - 3s 227ms/step - loss: 0.6937 - accuracy: 0.5000 - val_loss: 0.6934 - val_accuracy: 0.4900\n",
            "Epoch 3/22\n",
            "13/13 [==============================] - 3s 231ms/step - loss: 0.6931 - accuracy: 0.5050 - val_loss: 0.6933 - val_accuracy: 0.4900\n",
            "Epoch 4/22\n",
            "13/13 [==============================] - 3s 233ms/step - loss: 0.6931 - accuracy: 0.5050 - val_loss: 0.6931 - val_accuracy: 0.4900\n",
            "Epoch 5/22\n",
            "13/13 [==============================] - 3s 219ms/step - loss: 0.6925 - accuracy: 0.5050 - val_loss: 0.6919 - val_accuracy: 0.4900\n",
            "Epoch 6/22\n",
            "13/13 [==============================] - 3s 212ms/step - loss: 0.6856 - accuracy: 0.5050 - val_loss: 0.6968 - val_accuracy: 0.4900\n",
            "Epoch 7/22\n",
            "13/13 [==============================] - 3s 211ms/step - loss: 0.6478 - accuracy: 0.6150 - val_loss: 0.6289 - val_accuracy: 0.6250\n",
            "Epoch 8/22\n",
            "13/13 [==============================] - 3s 216ms/step - loss: 0.5170 - accuracy: 0.7550 - val_loss: 0.5191 - val_accuracy: 0.7350\n",
            "Epoch 9/22\n",
            "13/13 [==============================] - 3s 216ms/step - loss: 0.5133 - accuracy: 0.7550 - val_loss: 0.5267 - val_accuracy: 0.7450\n",
            "Epoch 10/22\n",
            "13/13 [==============================] - 3s 218ms/step - loss: 0.4573 - accuracy: 0.8125 - val_loss: 0.5314 - val_accuracy: 0.7500\n",
            "Epoch 11/22\n",
            "13/13 [==============================] - 3s 205ms/step - loss: 0.4504 - accuracy: 0.8000 - val_loss: 0.5018 - val_accuracy: 0.7500\n",
            "Epoch 12/22\n",
            "13/13 [==============================] - 3s 207ms/step - loss: 0.4326 - accuracy: 0.8050 - val_loss: 0.5540 - val_accuracy: 0.7400\n",
            "Epoch 13/22\n",
            "13/13 [==============================] - 3s 211ms/step - loss: 0.4437 - accuracy: 0.8100 - val_loss: 0.4946 - val_accuracy: 0.7450\n",
            "Epoch 14/22\n",
            "13/13 [==============================] - 3s 213ms/step - loss: 0.4374 - accuracy: 0.8100 - val_loss: 0.4925 - val_accuracy: 0.7650\n",
            "Epoch 15/22\n",
            "13/13 [==============================] - 3s 213ms/step - loss: 0.4031 - accuracy: 0.8175 - val_loss: 0.4981 - val_accuracy: 0.7750\n",
            "Epoch 16/22\n",
            "13/13 [==============================] - 3s 208ms/step - loss: 0.4028 - accuracy: 0.8275 - val_loss: 0.5023 - val_accuracy: 0.7850\n",
            "Epoch 17/22\n",
            "13/13 [==============================] - 3s 206ms/step - loss: 0.3937 - accuracy: 0.8275 - val_loss: 0.4941 - val_accuracy: 0.7750\n",
            "Epoch 18/22\n",
            "13/13 [==============================] - 3s 212ms/step - loss: 0.3895 - accuracy: 0.8250 - val_loss: 0.4835 - val_accuracy: 0.7800\n",
            "Epoch 19/22\n",
            "13/13 [==============================] - 3s 209ms/step - loss: 0.3850 - accuracy: 0.8275 - val_loss: 0.4992 - val_accuracy: 0.7700\n",
            "Epoch 20/22\n",
            "13/13 [==============================] - 3s 211ms/step - loss: 0.3717 - accuracy: 0.8400 - val_loss: 0.4893 - val_accuracy: 0.7900\n",
            "Epoch 21/22\n",
            "13/13 [==============================] - 3s 218ms/step - loss: 0.3957 - accuracy: 0.8175 - val_loss: 0.4956 - val_accuracy: 0.7550\n",
            "Epoch 22/22\n",
            "13/13 [==============================] - 3s 209ms/step - loss: 0.3695 - accuracy: 0.8400 - val_loss: 0.4953 - val_accuracy: 0.7900\n"
          ]
        }
      ]
    },
    {
      "cell_type": "code",
      "execution_count": 146,
      "metadata": {
        "id": "PgL3loUQk-LO",
        "colab": {
          "base_uri": "https://localhost:8080/",
          "height": 279
        },
        "outputId": "789f69fc-aba7-4ad5-d6f7-ecd166778d00"
      },
      "outputs": [
        {
          "output_type": "display_data",
          "data": {
            "text/plain": [
              "<Figure size 432x288 with 1 Axes>"
            ],
            "image/png": "[encoded data removed]"
          },
          "metadata": {
            "needs_background": "light"
          }
        }
      ],
      "source": [
        "# GRADED CODE: Advanced implementation\n",
        "### Start training ###\n",
        "#metrics_df = pd.DataFrame(historyAdv.history)\n",
        "#metrics_df[\"loss\"].plot();\n",
        "plt.plot((historyAdv.history[\"loss\"]))\n",
        "plt.ylabel('Loss')\n",
        "plt.xlabel('Epoch')\n",
        "plt.show()"
      ]
    },
    {
      "cell_type": "code",
      "execution_count": 147,
      "metadata": {
        "id": "pObMJ67hk-Ov",
        "colab": {
          "base_uri": "https://localhost:8080/"
        },
        "outputId": "c8f4a114-f655-47df-fdee-a39c30fef8d7"
      },
      "outputs": [
        {
          "output_type": "stream",
          "name": "stdout",
          "text": [
            "2/2 [==============================] - 0s 28ms/step\n",
            "[1 0 1 1 1 1 1 1 1 0 1 1 1 0 0 0 1 1 0 1 1 0 1 1 0 1 1 0 1 0 0 1 0 0 0 0 1\n",
            " 1 0 0 0 0 1 1 0 0 0 1 1 1 1 0 1 1 0 0 0 0 0 1]\n",
            "<class 'numpy.ndarray'>\n"
          ]
        }
      ],
      "source": [
        "#pred_test1 = model.predict(xTrainAdv)\n",
        "#pred_test2 = model.predict(xVal)\n",
        "pred_test = model.predict(X_test)\n",
        "#pred_test = np.argmax(pred_test, axis = 1)\n",
        "pred_test = 1 * ((pred_test)>0.5)\n",
        "output[\"advanced_pred_test\"] = pred_test\n",
        "print(pred_test.flatten())\n",
        "print(type(pred_test))"
      ]
    },
    {
      "cell_type": "markdown",
      "metadata": {
        "id": "WXGnS3HQeNUc"
      },
      "source": [
        "# Submit prediction"
      ]
    },
    {
      "cell_type": "code",
      "execution_count": 148,
      "metadata": {
        "id": "twMsmXbQeDL_"
      },
      "outputs": [],
      "source": [
        "# sanity check\n",
        "assert(list(output.keys()) == ['conv_initialization', 'zero_padding', 'conv_single_step', 'conv_forward_1', 'conv_forward_2', 'conv_forward_3', 'conv_update_1', 'conv_update_2', 'maxpool_forward', 'flatten_forward', 'flatten_backward', 'model_1', 'model_2', 'model_3', 'model_4', 'basic_pred_test', 'basic_model_layers', 'basic_model_parameters', 'advanced_pred_test'])"
      ]
    },
    {
      "cell_type": "code",
      "execution_count": 149,
      "metadata": {
        "id": "bCJ0XTO_zE8A"
      },
      "outputs": [],
      "source": [
        "np.save(\"hw4_output.npy\", output)"
      ]
    },
    {
      "cell_type": "code",
      "execution_count": 150,
      "metadata": {
        "id": "wFBFUUEg1to-",
        "colab": {
          "base_uri": "https://localhost:8080/"
        },
        "outputId": "0cd864df-8f0a-40f4-bf27-980e0b4e2b98"
      },
      "outputs": [
        {
          "output_type": "stream",
          "name": "stdout",
          "text": [
            "conv_initialization： <class 'numpy.ndarray'>\n",
            "zero_padding： <class 'numpy.ndarray'>\n",
            "conv_single_step： <class 'numpy.float64'>\n",
            "conv_forward_1： <class 'numpy.float64'>\n",
            "conv_forward_2： <class 'numpy.ndarray'>\n",
            "conv_forward_3： <class 'numpy.ndarray'>\n",
            "conv_update_1： <class 'numpy.ndarray'>\n",
            "conv_update_2： <class 'numpy.ndarray'>\n",
            "maxpool_forward： <class 'numpy.ndarray'>\n",
            "flatten_forward： <class 'numpy.ndarray'>\n",
            "flatten_backward： <class 'numpy.ndarray'>\n",
            "model_1： <class 'numpy.ndarray'>\n",
            "model_2： <class 'numpy.ndarray'>\n",
            "model_3： <class 'numpy.ndarray'>\n",
            "model_4： <class 'numpy.ndarray'>\n",
            "basic_pred_test： <class 'numpy.ndarray'>\n",
            "basic_model_layers： <class 'list'>\n",
            "basic_model_parameters： <class 'list'>\n",
            "advanced_pred_test： <class 'numpy.ndarray'>\n"
          ]
        }
      ],
      "source": [
        "# sanity check\n",
        "submit = np.load(\"hw4_output.npy\", allow_pickle=True).item()\n",
        "for key, value in submit.items():\n",
        "    print(str(key) + \"： \" + str(type(value)))"
      ]
    },
    {
      "cell_type": "markdown",
      "metadata": {
        "id": "MBkBtZHxIh8Z"
      },
      "source": [
        "Expected output:<br>\n",
        "<small>\n",
        "conv_initialization： <class 'numpy.ndarray'> <br>\n",
        "zero_padding： <class 'numpy.ndarray'> <br>\n",
        "conv_single_step： <class 'numpy.float64'> <br>\n",
        "conv_forward_1： <class 'numpy.float64'> <br>\n",
        "conv_forward_2： <class 'numpy.ndarray'> <br>\n",
        "conv_forward_3： <class 'numpy.ndarray'> <br>\n",
        "conv_update_1： <class 'numpy.ndarray'> <br>\n",
        "conv_update_2： <class 'numpy.ndarray'> <br>\n",
        "maxpool_forward： <class 'numpy.ndarray'> <br>\n",
        "flatten_forward： <class 'numpy.ndarray'> <br>\n",
        "flatten_backward： <class 'numpy.ndarray'> <br>\n",
        "model_1： <class 'numpy.ndarray'> <br>\n",
        "model_2： <class 'numpy.ndarray'> <br>\n",
        "model_3： <class 'numpy.ndarray'> <br>\n",
        "model_4： <class 'numpy.ndarray'> <br>\n",
        "basic_pred_test： <class 'numpy.ndarray'> <br>\n",
        "basic_model_layers： <class 'list'> <br>\n",
        "basic_model_parameters： <class 'list'> <br>\n",
        "advanced_pred_test： <class 'numpy.ndarray'> <br>\n",
        "</small>"
      ]
    }
  ],
  "metadata": {
    "colab": {
      "provenance": [],
      "collapsed_sections": [
        "bbGLz2F_ReRr",
        "YXSF-PhOxauK"
      ]
    },
    "kernelspec": {
      "display_name": "Python 3 (ipykernel)",
      "language": "python",
      "name": "python3"
    },
    "language_info": {
      "codemirror_mode": {
        "name": "ipython",
        "version": 3
      },
      "file_extension": ".py",
      "mimetype": "text/x-python",
      "name": "python",
      "nbconvert_exporter": "python",
      "pygments_lexer": "ipython3",
      "version": "3.9.13"
    }
  },
  "nbformat": 4,
  "nbformat_minor": 0
}