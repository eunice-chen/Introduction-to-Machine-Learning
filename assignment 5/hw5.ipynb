{
  "nbformat": 4,
  "nbformat_minor": 0,
  "metadata": {
    "colab": {
      "provenance": []
    },
    "kernelspec": {
      "name": "python3",
      "display_name": "Python 3"
    },
    "language_info": {
      "name": "python"
    },
    "accelerator": "GPU",
    "gpuClass": "standard"
  },
  "cells": [
    {
      "cell_type": "markdown",
      "source": [
        "(optional)"
      ],
      "metadata": {
        "id": "4hiUrTp2g31d"
      }
    },
    {
      "cell_type": "code",
      "execution_count": 257,
      "metadata": {
        "id": "02ixxyXJQRNO",
        "colab": {
          "base_uri": "https://localhost:8080/"
        },
        "outputId": "f2598e93-e950-4bbc-bf93-f809b3ca2c4c"
      },
      "outputs": [
        {
          "output_type": "stream",
          "name": "stdout",
          "text": [
            "Drive already mounted at /content/drive; to attempt to forcibly remount, call drive.mount(\"/content/drive\", force_remount=True).\n"
          ]
        }
      ],
      "source": [
        "from google.colab import drive\n",
        "import os\n",
        "drive.mount('/content/drive')"
      ]
    },
    {
      "cell_type": "code",
      "source": [
        "os.chdir('/content/drive/MyDrive/Colab Notebooks/HW5')"
      ],
      "metadata": {
        "id": "cwb1U7JElJPa"
      },
      "execution_count": 258,
      "outputs": []
    },
    {
      "cell_type": "markdown",
      "source": [
        "# **HW5: Brain signal classification**\n",
        "In *HW 5*, you need to finish:\n",
        "\n",
        "1.  Model Implementation Part: Implement LSTM and EEGNet models to predict the label of each samples.\n",
        "\n",
        "2.  Model Competition Part: Implementing a model to reach better accuracy performance."
      ],
      "metadata": {
        "id": "CQX9eCfIcRAn"
      }
    },
    {
      "cell_type": "code",
      "source": [
        "import numpy as np\n",
        "import os\n",
        "import math\n",
        "import csv\n",
        "import matplotlib.pyplot as plt\n",
        "# Import the packages you need here\n"
      ],
      "metadata": {
        "id": "BKJDTLRvQrnY"
      },
      "execution_count": 259,
      "outputs": []
    },
    {
      "cell_type": "code",
      "source": [
        "data = np.load('data.npz')\n",
        "label = np.load('label.npz')"
      ],
      "metadata": {
        "id": "ZQQylnWHQ4yy"
      },
      "execution_count": 260,
      "outputs": []
    },
    {
      "cell_type": "code",
      "source": [
        "X_train = data['X_train']\n",
        "X_val = data['X_val']\n",
        "X_test = data['X_test']\n",
        "\n",
        "Y_train = label['Y_train']\n",
        "Y_val = label['Y_val']"
      ],
      "metadata": {
        "id": "3Ype-nIkQ-bf"
      },
      "execution_count": 261,
      "outputs": []
    },
    {
      "cell_type": "code",
      "source": [
        "#print(Y_train)"
      ],
      "metadata": {
        "id": "3XQd0BvlHVHP"
      },
      "execution_count": 262,
      "outputs": []
    },
    {
      "cell_type": "code",
      "source": [
        "X_train.shape, X_val.shape, X_test.shape"
      ],
      "metadata": {
        "id": "xjPvKG_im7mV",
        "colab": {
          "base_uri": "https://localhost:8080/"
        },
        "outputId": "e3628ea1-c240-4de9-c027-efef53075bb3"
      },
      "execution_count": 263,
      "outputs": [
        {
          "output_type": "execute_result",
          "data": {
            "text/plain": [
              "((604, 22, 200), (152, 22, 200), (190, 22, 200))"
            ]
          },
          "metadata": {},
          "execution_count": 263
        }
      ]
    },
    {
      "cell_type": "code",
      "source": [
        "Y_train.shape, Y_val.shape"
      ],
      "metadata": {
        "colab": {
          "base_uri": "https://localhost:8080/"
        },
        "id": "X7apA2_-lBjF",
        "outputId": "a5523918-aba0-49a7-ff55-ebede8c51e1c"
      },
      "execution_count": 264,
      "outputs": [
        {
          "output_type": "execute_result",
          "data": {
            "text/plain": [
              "((604, 1), (152, 1))"
            ]
          },
          "metadata": {},
          "execution_count": 264
        }
      ]
    },
    {
      "cell_type": "code",
      "source": [
        "#print(X_train)"
      ],
      "metadata": {
        "id": "DabPLd6hWy6m"
      },
      "execution_count": 265,
      "outputs": []
    },
    {
      "cell_type": "markdown",
      "source": [
        "## Model Implementation Part"
      ],
      "metadata": {
        "id": "diYYd3e7eopi"
      }
    },
    {
      "cell_type": "markdown",
      "source": [
        "### LSTM"
      ],
      "metadata": {
        "id": "97BpHWOAevWJ"
      }
    },
    {
      "cell_type": "code",
      "source": [
        "# Build your model here:\n",
        "import tensorflow as tf\n",
        "import keras\n",
        "from keras.models import Sequential\n",
        "from keras import Input\n",
        "from keras.layers import Conv1D, MaxPooling1D\n",
        "from keras.layers import Embedding, LSTM, Dense,TimeDistributed, RepeatVector, Bidirectional, Dropout, Activation\n",
        "from keras.optimizers import SGD\n",
        "from keras.layers import BatchNormalization\n",
        "\n",
        "\n",
        "model = Sequential()\n",
        "\n",
        "model.add(BatchNormalization())\n",
        "model.add(LSTM(256, activation='relu', input_shape=(22,200)))\n",
        "model.add(Dense(6))\n",
        "model.add(Activation('softmax'))\n",
        "model.compile(\n",
        "    loss=keras.losses.SparseCategoricalCrossentropy(from_logits=True),\n",
        "    optimizer='rmsprop',\n",
        "    metrics=[\"accuracy\"],\n",
        ")\n",
        "#model.compile(loss='categorical_crossentropy',\n",
        "#              optimizer='rmsprop',\n",
        "#              metrics=['accuracy'])\n",
        "model.build(X_train.shape)\n",
        "model.summary()\n",
        "history = model.fit(X_train, Y_train, epochs=100, validation_data=(X_val, Y_val))\n",
        "\n",
        "plt.plot(history.history['loss'])\n",
        "plt.plot(history.history['val_loss'])\n",
        "plt.title('LSTM Model loss')\n",
        "plt.ylabel('loss')\n",
        "plt.xlabel('epoch')\n",
        "plt.legend(['train', 'val'], loc='upper left')\n",
        "plt.show()\n",
        "\n"
      ],
      "metadata": {
        "id": "xxFGe6YRe7qn",
        "colab": {
          "base_uri": "https://localhost:8080/",
          "height": 1000
        },
        "outputId": "e598b84d-fd99-4f66-de22-9b1a2df2cbb9"
      },
      "execution_count": 266,
      "outputs": [
        {
          "output_type": "stream",
          "name": "stderr",
          "text": [
            "WARNING:tensorflow:Layer lstm_20 will not use cuDNN kernels since it doesn't meet the criteria. It will use a generic GPU kernel as fallback when running on GPU.\n"
          ]
        },
        {
          "output_type": "stream",
          "name": "stdout",
          "text": [
            "Model: \"sequential_20\"\n",
            "_________________________________________________________________\n",
            " Layer (type)                Output Shape              Param #   \n",
            "=================================================================\n",
            " batch_normalization_74 (Bat  (604, 22, 200)           800       \n",
            " chNormalization)                                                \n",
            "                                                                 \n",
            " lstm_20 (LSTM)              (604, 256)                467968    \n",
            "                                                                 \n",
            " dense_20 (Dense)            (604, 6)                  1542      \n",
            "                                                                 \n",
            " activation_56 (Activation)  (604, 6)                  0         \n",
            "                                                                 \n",
            "=================================================================\n",
            "Total params: 470,310\n",
            "Trainable params: 469,910\n",
            "Non-trainable params: 400\n",
            "_________________________________________________________________\n",
            "Epoch 1/100\n"
          ]
        },
        {
          "output_type": "stream",
          "name": "stderr",
          "text": [
            "/usr/local/lib/python3.8/dist-packages/tensorflow/python/util/dispatch.py:1082: UserWarning: \"`sparse_categorical_crossentropy` received `from_logits=True`, but the `output` argument was produced by a sigmoid or softmax activation and thus does not represent logits. Was this intended?\"\n",
            "  return dispatch_target(*args, **kwargs)\n"
          ]
        },
        {
          "output_type": "stream",
          "name": "stdout",
          "text": [
            "19/19 [==============================] - 3s 66ms/step - loss: 1.6882 - accuracy: 0.4089 - val_loss: 1.5907 - val_accuracy: 0.5461\n",
            "Epoch 2/100\n",
            "19/19 [==============================] - 1s 53ms/step - loss: 1.4930 - accuracy: 0.6109 - val_loss: 1.2354 - val_accuracy: 0.6776\n",
            "Epoch 3/100\n",
            "19/19 [==============================] - 1s 54ms/step - loss: 0.8135 - accuracy: 0.7467 - val_loss: 1.8134 - val_accuracy: 0.6513\n",
            "Epoch 4/100\n",
            "19/19 [==============================] - 1s 50ms/step - loss: 0.8385 - accuracy: 0.7815 - val_loss: 1.7207 - val_accuracy: 0.6118\n",
            "Epoch 5/100\n",
            "19/19 [==============================] - 1s 51ms/step - loss: 0.4985 - accuracy: 0.8361 - val_loss: 1.0435 - val_accuracy: 0.7303\n",
            "Epoch 6/100\n",
            "19/19 [==============================] - 1s 53ms/step - loss: 0.4532 - accuracy: 0.8394 - val_loss: 0.5513 - val_accuracy: 0.8224\n",
            "Epoch 7/100\n",
            "19/19 [==============================] - 1s 53ms/step - loss: 0.2640 - accuracy: 0.9189 - val_loss: 0.8547 - val_accuracy: 0.7763\n",
            "Epoch 8/100\n",
            "19/19 [==============================] - 1s 52ms/step - loss: 0.3331 - accuracy: 0.9421 - val_loss: 1.7161 - val_accuracy: 0.7171\n",
            "Epoch 9/100\n",
            "19/19 [==============================] - 1s 56ms/step - loss: 0.2795 - accuracy: 0.9106 - val_loss: 0.5535 - val_accuracy: 0.8355\n",
            "Epoch 10/100\n",
            "19/19 [==============================] - 1s 51ms/step - loss: 0.2557 - accuracy: 0.9520 - val_loss: 0.5876 - val_accuracy: 0.8553\n",
            "Epoch 11/100\n",
            "19/19 [==============================] - 1s 52ms/step - loss: 0.1624 - accuracy: 0.9652 - val_loss: 1.6618 - val_accuracy: 0.7434\n",
            "Epoch 12/100\n",
            "19/19 [==============================] - 1s 51ms/step - loss: 0.0998 - accuracy: 0.9768 - val_loss: 1.0286 - val_accuracy: 0.7895\n",
            "Epoch 13/100\n",
            "19/19 [==============================] - 1s 53ms/step - loss: 0.1087 - accuracy: 0.9702 - val_loss: 0.6726 - val_accuracy: 0.8421\n",
            "Epoch 14/100\n",
            "19/19 [==============================] - 1s 52ms/step - loss: 0.0741 - accuracy: 0.9801 - val_loss: 0.7684 - val_accuracy: 0.8158\n",
            "Epoch 15/100\n",
            "19/19 [==============================] - 1s 54ms/step - loss: 0.0412 - accuracy: 0.9917 - val_loss: 0.7433 - val_accuracy: 0.8289\n",
            "Epoch 16/100\n",
            "19/19 [==============================] - 1s 58ms/step - loss: 0.2612 - accuracy: 0.9884 - val_loss: 3.4531 - val_accuracy: 0.7105\n",
            "Epoch 17/100\n",
            "19/19 [==============================] - 1s 54ms/step - loss: 0.1191 - accuracy: 0.9669 - val_loss: 0.7229 - val_accuracy: 0.8553\n",
            "Epoch 18/100\n",
            "19/19 [==============================] - 1s 57ms/step - loss: 0.0246 - accuracy: 0.9917 - val_loss: 0.8724 - val_accuracy: 0.8026\n",
            "Epoch 19/100\n",
            "19/19 [==============================] - 1s 54ms/step - loss: 0.0278 - accuracy: 0.9901 - val_loss: 0.6477 - val_accuracy: 0.8816\n",
            "Epoch 20/100\n",
            "19/19 [==============================] - 1s 51ms/step - loss: 0.0823 - accuracy: 0.9934 - val_loss: 0.4121 - val_accuracy: 0.8750\n",
            "Epoch 21/100\n",
            "19/19 [==============================] - 1s 57ms/step - loss: 0.0022 - accuracy: 1.0000 - val_loss: 0.4084 - val_accuracy: 0.8882\n",
            "Epoch 22/100\n",
            "19/19 [==============================] - 1s 50ms/step - loss: 0.2305 - accuracy: 0.9685 - val_loss: 0.4400 - val_accuracy: 0.8684\n",
            "Epoch 23/100\n",
            "19/19 [==============================] - 1s 56ms/step - loss: 0.0099 - accuracy: 1.0000 - val_loss: 0.4144 - val_accuracy: 0.8816\n",
            "Epoch 24/100\n",
            "19/19 [==============================] - 1s 55ms/step - loss: 0.0173 - accuracy: 0.9950 - val_loss: 0.8718 - val_accuracy: 0.8553\n",
            "Epoch 25/100\n",
            "19/19 [==============================] - 1s 52ms/step - loss: 0.1002 - accuracy: 0.9785 - val_loss: 0.9186 - val_accuracy: 0.8026\n",
            "Epoch 26/100\n",
            "19/19 [==============================] - 1s 55ms/step - loss: 0.0129 - accuracy: 0.9950 - val_loss: 0.4401 - val_accuracy: 0.8882\n",
            "Epoch 27/100\n",
            "19/19 [==============================] - 1s 49ms/step - loss: 0.0181 - accuracy: 0.9934 - val_loss: 1.4651 - val_accuracy: 0.7237\n",
            "Epoch 28/100\n",
            "19/19 [==============================] - 1s 68ms/step - loss: 0.0626 - accuracy: 0.9851 - val_loss: 0.5031 - val_accuracy: 0.8750\n",
            "Epoch 29/100\n",
            "19/19 [==============================] - 2s 99ms/step - loss: 0.0018 - accuracy: 1.0000 - val_loss: 0.4844 - val_accuracy: 0.8816\n",
            "Epoch 30/100\n",
            "19/19 [==============================] - 2s 84ms/step - loss: 7.5948e-04 - accuracy: 1.0000 - val_loss: 0.5571 - val_accuracy: 0.8750\n",
            "Epoch 31/100\n",
            "19/19 [==============================] - 1s 48ms/step - loss: 0.1114 - accuracy: 0.9868 - val_loss: 0.4328 - val_accuracy: 0.8947\n",
            "Epoch 32/100\n",
            "19/19 [==============================] - 1s 54ms/step - loss: 8.7904e-04 - accuracy: 1.0000 - val_loss: 0.4764 - val_accuracy: 0.8816\n",
            "Epoch 33/100\n",
            "19/19 [==============================] - 1s 56ms/step - loss: 7.7651e-04 - accuracy: 1.0000 - val_loss: 0.7455 - val_accuracy: 0.8684\n",
            "Epoch 34/100\n",
            "19/19 [==============================] - 1s 56ms/step - loss: 0.1122 - accuracy: 0.9768 - val_loss: 0.7733 - val_accuracy: 0.8092\n",
            "Epoch 35/100\n",
            "19/19 [==============================] - 1s 53ms/step - loss: 0.0022 - accuracy: 1.0000 - val_loss: 0.5272 - val_accuracy: 0.8947\n",
            "Epoch 36/100\n",
            "19/19 [==============================] - 1s 54ms/step - loss: 0.0079 - accuracy: 0.9967 - val_loss: 0.7482 - val_accuracy: 0.8355\n",
            "Epoch 37/100\n",
            "19/19 [==============================] - 1s 55ms/step - loss: 0.0015 - accuracy: 1.0000 - val_loss: 0.7812 - val_accuracy: 0.8158\n",
            "Epoch 38/100\n",
            "19/19 [==============================] - 1s 58ms/step - loss: 0.0467 - accuracy: 0.9884 - val_loss: 1.9484 - val_accuracy: 0.7303\n",
            "Epoch 39/100\n",
            "19/19 [==============================] - 1s 54ms/step - loss: 0.0711 - accuracy: 0.9884 - val_loss: 0.6616 - val_accuracy: 0.8750\n",
            "Epoch 40/100\n",
            "19/19 [==============================] - 1s 54ms/step - loss: 8.6273e-04 - accuracy: 1.0000 - val_loss: 0.5620 - val_accuracy: 0.8684\n",
            "Epoch 41/100\n",
            "19/19 [==============================] - 1s 54ms/step - loss: 0.0146 - accuracy: 0.9967 - val_loss: 2.0113 - val_accuracy: 0.6908\n",
            "Epoch 42/100\n",
            "19/19 [==============================] - 1s 60ms/step - loss: 0.0788 - accuracy: 0.9868 - val_loss: 0.5497 - val_accuracy: 0.8947\n",
            "Epoch 43/100\n",
            "19/19 [==============================] - 1s 53ms/step - loss: 0.0441 - accuracy: 0.9983 - val_loss: 0.5276 - val_accuracy: 0.8684\n",
            "Epoch 44/100\n",
            "19/19 [==============================] - 1s 57ms/step - loss: 2.6849e-04 - accuracy: 1.0000 - val_loss: 0.5281 - val_accuracy: 0.8487\n",
            "Epoch 45/100\n",
            "19/19 [==============================] - 2s 91ms/step - loss: 1.7717e-04 - accuracy: 1.0000 - val_loss: 0.4995 - val_accuracy: 0.8816\n",
            "Epoch 46/100\n",
            "19/19 [==============================] - 1s 72ms/step - loss: 0.0110 - accuracy: 0.9950 - val_loss: 1.3891 - val_accuracy: 0.8355\n",
            "Epoch 47/100\n",
            "19/19 [==============================] - 1s 76ms/step - loss: 0.1666 - accuracy: 0.9801 - val_loss: 0.5842 - val_accuracy: 0.8750\n",
            "Epoch 48/100\n",
            "19/19 [==============================] - 1s 69ms/step - loss: 0.0011 - accuracy: 1.0000 - val_loss: 0.5173 - val_accuracy: 0.8618\n",
            "Epoch 49/100\n",
            "19/19 [==============================] - 1s 54ms/step - loss: 0.0396 - accuracy: 0.9934 - val_loss: 0.5814 - val_accuracy: 0.8421\n",
            "Epoch 50/100\n",
            "19/19 [==============================] - 1s 55ms/step - loss: 0.0091 - accuracy: 0.9983 - val_loss: 0.5963 - val_accuracy: 0.8026\n",
            "Epoch 51/100\n",
            "19/19 [==============================] - 1s 56ms/step - loss: 0.0022 - accuracy: 1.0000 - val_loss: 1.0811 - val_accuracy: 0.7961\n",
            "Epoch 52/100\n",
            "19/19 [==============================] - 1s 53ms/step - loss: 0.0488 - accuracy: 0.9851 - val_loss: 1.3136 - val_accuracy: 0.7697\n",
            "Epoch 53/100\n",
            "19/19 [==============================] - 1s 56ms/step - loss: 0.0329 - accuracy: 0.9917 - val_loss: 0.5074 - val_accuracy: 0.8618\n",
            "Epoch 54/100\n",
            "19/19 [==============================] - 1s 55ms/step - loss: 0.0040 - accuracy: 0.9983 - val_loss: 0.6120 - val_accuracy: 0.8487\n",
            "Epoch 55/100\n",
            "19/19 [==============================] - 1s 50ms/step - loss: 9.1777e-04 - accuracy: 1.0000 - val_loss: 0.6504 - val_accuracy: 0.8487\n",
            "Epoch 56/100\n",
            "19/19 [==============================] - 1s 50ms/step - loss: 0.0275 - accuracy: 0.9884 - val_loss: 0.4851 - val_accuracy: 0.8750\n",
            "Epoch 57/100\n",
            "19/19 [==============================] - 1s 55ms/step - loss: 0.0020 - accuracy: 1.0000 - val_loss: 0.4864 - val_accuracy: 0.8750\n",
            "Epoch 58/100\n",
            "19/19 [==============================] - 1s 53ms/step - loss: 9.7750e-04 - accuracy: 1.0000 - val_loss: 4.7731 - val_accuracy: 0.7829\n",
            "Epoch 59/100\n",
            "19/19 [==============================] - 1s 54ms/step - loss: 0.1368 - accuracy: 0.9818 - val_loss: 0.9125 - val_accuracy: 0.8289\n",
            "Epoch 60/100\n",
            "19/19 [==============================] - 1s 52ms/step - loss: 0.0168 - accuracy: 0.9950 - val_loss: 0.9011 - val_accuracy: 0.8421\n",
            "Epoch 61/100\n",
            "19/19 [==============================] - 1s 50ms/step - loss: 0.0275 - accuracy: 0.9967 - val_loss: 0.9826 - val_accuracy: 0.7961\n",
            "Epoch 62/100\n",
            "19/19 [==============================] - 1s 52ms/step - loss: 0.0172 - accuracy: 0.9967 - val_loss: 0.8103 - val_accuracy: 0.8618\n",
            "Epoch 63/100\n",
            "19/19 [==============================] - 1s 51ms/step - loss: 5.0158e-04 - accuracy: 1.0000 - val_loss: 0.8326 - val_accuracy: 0.8355\n",
            "Epoch 64/100\n",
            "19/19 [==============================] - 1s 52ms/step - loss: 0.0022 - accuracy: 1.0000 - val_loss: 1.8941 - val_accuracy: 0.7763\n",
            "Epoch 65/100\n",
            "19/19 [==============================] - 1s 56ms/step - loss: 0.0623 - accuracy: 0.9851 - val_loss: 0.9214 - val_accuracy: 0.8487\n",
            "Epoch 66/100\n",
            "19/19 [==============================] - 1s 54ms/step - loss: 0.0042 - accuracy: 0.9983 - val_loss: 0.6241 - val_accuracy: 0.8487\n",
            "Epoch 67/100\n",
            "19/19 [==============================] - 1s 51ms/step - loss: 7.3439e-04 - accuracy: 1.0000 - val_loss: 0.7768 - val_accuracy: 0.8355\n",
            "Epoch 68/100\n",
            "19/19 [==============================] - 1s 56ms/step - loss: 0.0028 - accuracy: 0.9983 - val_loss: 0.8832 - val_accuracy: 0.8355\n",
            "Epoch 69/100\n",
            "19/19 [==============================] - 1s 53ms/step - loss: 0.0567 - accuracy: 0.9901 - val_loss: 0.7121 - val_accuracy: 0.8487\n",
            "Epoch 70/100\n",
            "19/19 [==============================] - 1s 54ms/step - loss: 0.0702 - accuracy: 0.9884 - val_loss: 0.8371 - val_accuracy: 0.8816\n",
            "Epoch 71/100\n",
            "19/19 [==============================] - 1s 56ms/step - loss: 0.0148 - accuracy: 0.9983 - val_loss: 0.6229 - val_accuracy: 0.8684\n",
            "Epoch 72/100\n",
            "19/19 [==============================] - 1s 51ms/step - loss: 0.0233 - accuracy: 0.9950 - val_loss: 0.9232 - val_accuracy: 0.8618\n",
            "Epoch 73/100\n",
            "19/19 [==============================] - 1s 53ms/step - loss: 0.0326 - accuracy: 0.9983 - val_loss: 0.6339 - val_accuracy: 0.8750\n",
            "Epoch 74/100\n",
            "19/19 [==============================] - 1s 55ms/step - loss: 1.6012e-04 - accuracy: 1.0000 - val_loss: 0.6342 - val_accuracy: 0.8750\n",
            "Epoch 75/100\n",
            "19/19 [==============================] - 1s 51ms/step - loss: 5.5626e-05 - accuracy: 1.0000 - val_loss: 0.5907 - val_accuracy: 0.8882\n",
            "Epoch 76/100\n",
            "19/19 [==============================] - 1s 56ms/step - loss: 4.2239e-05 - accuracy: 1.0000 - val_loss: 0.6219 - val_accuracy: 0.8750\n",
            "Epoch 77/100\n",
            "19/19 [==============================] - 1s 49ms/step - loss: 0.0660 - accuracy: 0.9901 - val_loss: 0.9442 - val_accuracy: 0.8421\n",
            "Epoch 78/100\n",
            "19/19 [==============================] - 1s 51ms/step - loss: 0.0091 - accuracy: 0.9967 - val_loss: 0.7473 - val_accuracy: 0.8947\n",
            "Epoch 79/100\n",
            "19/19 [==============================] - 1s 59ms/step - loss: 2.5087e-04 - accuracy: 1.0000 - val_loss: 0.6372 - val_accuracy: 0.8882\n",
            "Epoch 80/100\n",
            "19/19 [==============================] - 1s 54ms/step - loss: 0.0038 - accuracy: 0.9967 - val_loss: 0.5144 - val_accuracy: 0.8816\n",
            "Epoch 81/100\n",
            "19/19 [==============================] - 1s 53ms/step - loss: 0.0377 - accuracy: 0.9967 - val_loss: 1.8652 - val_accuracy: 0.7961\n",
            "Epoch 82/100\n",
            "19/19 [==============================] - 1s 51ms/step - loss: 0.0063 - accuracy: 0.9983 - val_loss: 1.5876 - val_accuracy: 0.8553\n",
            "Epoch 83/100\n",
            "19/19 [==============================] - 1s 53ms/step - loss: 3.3411e-04 - accuracy: 1.0000 - val_loss: 1.1126 - val_accuracy: 0.8684\n",
            "Epoch 84/100\n",
            "19/19 [==============================] - 1s 53ms/step - loss: 6.8747e-05 - accuracy: 1.0000 - val_loss: 1.3577 - val_accuracy: 0.8618\n",
            "Epoch 85/100\n",
            "19/19 [==============================] - 1s 50ms/step - loss: 1.3846e-05 - accuracy: 1.0000 - val_loss: 0.9768 - val_accuracy: 0.8684\n",
            "Epoch 86/100\n",
            "19/19 [==============================] - 1s 51ms/step - loss: 2.5202e-06 - accuracy: 1.0000 - val_loss: 0.9556 - val_accuracy: 0.8750\n",
            "Epoch 87/100\n",
            "19/19 [==============================] - 1s 51ms/step - loss: 3.6416e-06 - accuracy: 1.0000 - val_loss: 0.9935 - val_accuracy: 0.8816\n",
            "Epoch 88/100\n",
            "19/19 [==============================] - 1s 57ms/step - loss: 0.1250 - accuracy: 0.9834 - val_loss: 1.6294 - val_accuracy: 0.8158\n",
            "Epoch 89/100\n",
            "19/19 [==============================] - 1s 51ms/step - loss: 0.0481 - accuracy: 0.9950 - val_loss: 1.3220 - val_accuracy: 0.8750\n",
            "Epoch 90/100\n",
            "19/19 [==============================] - 1s 55ms/step - loss: 0.1414 - accuracy: 0.9901 - val_loss: 1.0814 - val_accuracy: 0.8289\n",
            "Epoch 91/100\n",
            "19/19 [==============================] - 1s 52ms/step - loss: 0.0029 - accuracy: 0.9983 - val_loss: 0.8834 - val_accuracy: 0.8684\n",
            "Epoch 92/100\n",
            "19/19 [==============================] - 1s 51ms/step - loss: 1.2955e-04 - accuracy: 1.0000 - val_loss: 0.9031 - val_accuracy: 0.8684\n",
            "Epoch 93/100\n",
            "19/19 [==============================] - 1s 54ms/step - loss: 4.9420e-05 - accuracy: 1.0000 - val_loss: 0.8313 - val_accuracy: 0.8750\n",
            "Epoch 94/100\n",
            "19/19 [==============================] - 1s 54ms/step - loss: 4.6230e-06 - accuracy: 1.0000 - val_loss: 0.8289 - val_accuracy: 0.8750\n",
            "Epoch 95/100\n",
            "19/19 [==============================] - 1s 52ms/step - loss: 3.3931e-06 - accuracy: 1.0000 - val_loss: 0.8077 - val_accuracy: 0.8882\n",
            "Epoch 96/100\n",
            "19/19 [==============================] - 1s 54ms/step - loss: 8.3477e-06 - accuracy: 1.0000 - val_loss: 0.7991 - val_accuracy: 0.9013\n",
            "Epoch 97/100\n",
            "19/19 [==============================] - 1s 52ms/step - loss: 1.8257e-05 - accuracy: 1.0000 - val_loss: 1.1272 - val_accuracy: 0.8684\n",
            "Epoch 98/100\n",
            "19/19 [==============================] - 1s 55ms/step - loss: 0.0622 - accuracy: 0.9917 - val_loss: 0.8553 - val_accuracy: 0.8816\n",
            "Epoch 99/100\n",
            "19/19 [==============================] - 1s 54ms/step - loss: 0.0072 - accuracy: 0.9967 - val_loss: 1.1067 - val_accuracy: 0.8684\n",
            "Epoch 100/100\n",
            "19/19 [==============================] - 1s 52ms/step - loss: 8.3257e-04 - accuracy: 1.0000 - val_loss: 0.8720 - val_accuracy: 0.8750\n"
          ]
        },
        {
          "output_type": "display_data",
          "data": {
            "text/plain": [
              "<Figure size 432x288 with 1 Axes>"
            ],
            "image/png": "[encoded data removed]"
          },
          "metadata": {
            "needs_background": "light"
          }
        }
      ]
    },
    {
      "cell_type": "code",
      "source": [
        "pred = model.predict(X_test)\n",
        "#print(pred)\n",
        "#output = output.reshape(-1,1)\n",
        "\n",
        "#print(output.reshape(-1))\n",
        "#print(pred.shape)\n",
        "output = (np.argmax(pred, axis=1)).reshape(-1,1)\n",
        "#print(output)\n",
        "print(output.flatten())\n",
        "#print(output.shape)\n",
        "assert(output.shape == (190, 1))\n",
        "np.savetxt('lstm_output.csv', output, delimiter=\",\")"
      ],
      "metadata": {
        "id": "sIXH_6BHjm6w",
        "colab": {
          "base_uri": "https://localhost:8080/"
        },
        "outputId": "974bb7fd-d8ed-478d-a3ca-b96ec566542e"
      },
      "execution_count": 267,
      "outputs": [
        {
          "output_type": "stream",
          "name": "stdout",
          "text": [
            "6/6 [==============================] - 0s 6ms/step\n",
            "[1 3 4 2 5 1 1 0 5 1 2 2 0 5 5 3 5 5 3 5 1 1 5 1 4 3 2 1 0 5 5 3 0 0 2 3 5\n",
            " 5 2 2 4 0 4 4 1 2 3 1 4 2 2 4 4 3 4 1 5 2 3 1 4 5 1 2 4 3 1 2 0 4 5 4 3 4\n",
            " 2 3 3 4 3 2 1 3 2 4 1 3 4 1 1 4 2 5 5 2 4 1 0 5 2 5 4 4 3 2 3 4 1 2 0 0 1\n",
            " 0 2 4 4 4 1 4 1 1 5 5 3 1 3 0 0 1 3 1 0 5 2 2 4 2 2 0 3 3 5 0 2 5 4 1 3 3\n",
            " 0 1 5 3 1 2 1 0 2 0 2 3 1 1 4 5 0 5 0 5 4 1 2 1 5 2 4 4 1 3 0 4 2 4 4 2 4\n",
            " 0 1 1 0 1]\n"
          ]
        }
      ]
    },
    {
      "cell_type": "markdown",
      "source": [
        "### EEGNet"
      ],
      "metadata": {
        "id": "xSGZPbDHrfOr"
      }
    },
    {
      "cell_type": "code",
      "source": [
        "# Build your model here:\n",
        "from EEGModels import EEGNet\n"
      ],
      "metadata": {
        "id": "OCUyBSH1hvqG"
      },
      "execution_count": 268,
      "outputs": []
    },
    {
      "cell_type": "code",
      "source": [
        "model1 = EEGNet(nb_classes = 6, Chans = X_train.shape[1], Samples = X_train.shape[2])"
      ],
      "metadata": {
        "id": "kqeRF34wzqkX"
      },
      "execution_count": 269,
      "outputs": []
    },
    {
      "cell_type": "code",
      "source": [
        "model1.compile(loss=keras.losses.SparseCategoricalCrossentropy(from_logits=True), optimizer='adam', \n",
        "              metrics = ['accuracy'])"
      ],
      "metadata": {
        "id": "OYptEdG4z6dz"
      },
      "execution_count": 270,
      "outputs": []
    },
    {
      "cell_type": "code",
      "source": [
        "model1.summary()"
      ],
      "metadata": {
        "id": "YseLQsTzz6_d",
        "colab": {
          "base_uri": "https://localhost:8080/"
        },
        "outputId": "fce5b34e-6b5f-4bdc-af61-9fe1cb516183"
      },
      "execution_count": 271,
      "outputs": [
        {
          "output_type": "stream",
          "name": "stdout",
          "text": [
            "Model: \"model_18\"\n",
            "_________________________________________________________________\n",
            " Layer (type)                Output Shape              Param #   \n",
            "=================================================================\n",
            " input_19 (InputLayer)       [(None, 22, 200, 1)]      0         \n",
            "                                                                 \n",
            " conv2d_18 (Conv2D)          (None, 22, 200, 8)        512       \n",
            "                                                                 \n",
            " batch_normalization_75 (Bat  (None, 22, 200, 8)       32        \n",
            " chNormalization)                                                \n",
            "                                                                 \n",
            " depthwise_conv2d_18 (Depthw  (None, 1, 200, 16)       352       \n",
            " iseConv2D)                                                      \n",
            "                                                                 \n",
            " batch_normalization_76 (Bat  (None, 1, 200, 16)       64        \n",
            " chNormalization)                                                \n",
            "                                                                 \n",
            " activation_57 (Activation)  (None, 1, 200, 16)        0         \n",
            "                                                                 \n",
            " average_pooling2d_36 (Avera  (None, 1, 50, 16)        0         \n",
            " gePooling2D)                                                    \n",
            "                                                                 \n",
            " dropout_36 (Dropout)        (None, 1, 50, 16)         0         \n",
            "                                                                 \n",
            " separable_conv2d_18 (Separa  (None, 1, 50, 16)        512       \n",
            " bleConv2D)                                                      \n",
            "                                                                 \n",
            " batch_normalization_77 (Bat  (None, 1, 50, 16)        64        \n",
            " chNormalization)                                                \n",
            "                                                                 \n",
            " activation_58 (Activation)  (None, 1, 50, 16)         0         \n",
            "                                                                 \n",
            " average_pooling2d_37 (Avera  (None, 1, 6, 16)         0         \n",
            " gePooling2D)                                                    \n",
            "                                                                 \n",
            " dropout_37 (Dropout)        (None, 1, 6, 16)          0         \n",
            "                                                                 \n",
            " flatten (Flatten)           (None, 96)                0         \n",
            "                                                                 \n",
            " dense (Dense)               (None, 6)                 582       \n",
            "                                                                 \n",
            " softmax (Activation)        (None, 6)                 0         \n",
            "                                                                 \n",
            "=================================================================\n",
            "Total params: 2,118\n",
            "Trainable params: 2,038\n",
            "Non-trainable params: 80\n",
            "_________________________________________________________________\n"
          ]
        }
      ]
    },
    {
      "cell_type": "code",
      "source": [
        "history1 = model1.fit(X_train, Y_train, epochs=100, validation_data=(X_val, Y_val))\n",
        "\n",
        "plt.plot(history1.history['loss'])\n",
        "plt.plot(history1.history['val_loss'])\n",
        "plt.title('EEGNet Model loss')\n",
        "plt.ylabel('loss')\n",
        "plt.xlabel('epoch')\n",
        "plt.legend(['train', 'val'], loc='upper left')\n",
        "plt.show()"
      ],
      "metadata": {
        "id": "gW0TPa0iz-9n",
        "colab": {
          "base_uri": "https://localhost:8080/",
          "height": 1000
        },
        "outputId": "fcaa6438-4e88-472b-9fea-7074dc682646"
      },
      "execution_count": 272,
      "outputs": [
        {
          "output_type": "stream",
          "name": "stdout",
          "text": [
            "Epoch 1/100\n",
            "19/19 [==============================] - 1s 17ms/step - loss: 1.6979 - accuracy: 0.3079 - val_loss: 1.6976 - val_accuracy: 0.6118\n",
            "Epoch 2/100\n",
            "19/19 [==============================] - 0s 10ms/step - loss: 1.4237 - accuracy: 0.5877 - val_loss: 1.5539 - val_accuracy: 0.7171\n",
            "Epoch 3/100\n",
            "19/19 [==============================] - 0s 9ms/step - loss: 1.2005 - accuracy: 0.6573 - val_loss: 1.4009 - val_accuracy: 0.7632\n",
            "Epoch 4/100\n",
            "19/19 [==============================] - 0s 8ms/step - loss: 1.0480 - accuracy: 0.7169 - val_loss: 1.2940 - val_accuracy: 0.7500\n",
            "Epoch 5/100\n",
            "19/19 [==============================] - 0s 8ms/step - loss: 0.9677 - accuracy: 0.7500 - val_loss: 1.2155 - val_accuracy: 0.7632\n",
            "Epoch 6/100\n",
            "19/19 [==============================] - 0s 9ms/step - loss: 0.9028 - accuracy: 0.7848 - val_loss: 1.1295 - val_accuracy: 0.8026\n",
            "Epoch 7/100\n",
            "19/19 [==============================] - 0s 8ms/step - loss: 0.8608 - accuracy: 0.8146 - val_loss: 1.0942 - val_accuracy: 0.8487\n",
            "Epoch 8/100\n",
            "19/19 [==============================] - 0s 7ms/step - loss: 0.8323 - accuracy: 0.8278 - val_loss: 1.0337 - val_accuracy: 0.8750\n",
            "Epoch 9/100\n",
            "19/19 [==============================] - 0s 8ms/step - loss: 0.8025 - accuracy: 0.8493 - val_loss: 0.9739 - val_accuracy: 0.8618\n",
            "Epoch 10/100\n",
            "19/19 [==============================] - 0s 7ms/step - loss: 0.7792 - accuracy: 0.8642 - val_loss: 0.9088 - val_accuracy: 0.9145\n",
            "Epoch 11/100\n",
            "19/19 [==============================] - 0s 7ms/step - loss: 0.7566 - accuracy: 0.8775 - val_loss: 0.8820 - val_accuracy: 0.9013\n",
            "Epoch 12/100\n",
            "19/19 [==============================] - 0s 7ms/step - loss: 0.7147 - accuracy: 0.9123 - val_loss: 0.8537 - val_accuracy: 0.9342\n",
            "Epoch 13/100\n",
            "19/19 [==============================] - 0s 7ms/step - loss: 0.7098 - accuracy: 0.8907 - val_loss: 0.8448 - val_accuracy: 0.9211\n",
            "Epoch 14/100\n",
            "19/19 [==============================] - 0s 7ms/step - loss: 0.6844 - accuracy: 0.9123 - val_loss: 0.7966 - val_accuracy: 0.9539\n",
            "Epoch 15/100\n",
            "19/19 [==============================] - 0s 7ms/step - loss: 0.6551 - accuracy: 0.9139 - val_loss: 0.7532 - val_accuracy: 0.9474\n",
            "Epoch 16/100\n",
            "19/19 [==============================] - 0s 7ms/step - loss: 0.6354 - accuracy: 0.9238 - val_loss: 0.7552 - val_accuracy: 0.9671\n",
            "Epoch 17/100\n",
            "19/19 [==============================] - 0s 6ms/step - loss: 0.6371 - accuracy: 0.9040 - val_loss: 0.7032 - val_accuracy: 0.9605\n",
            "Epoch 18/100\n",
            "19/19 [==============================] - 0s 7ms/step - loss: 0.6064 - accuracy: 0.9454 - val_loss: 0.6583 - val_accuracy: 0.9803\n",
            "Epoch 19/100\n",
            "19/19 [==============================] - 0s 7ms/step - loss: 0.5861 - accuracy: 0.9421 - val_loss: 0.6281 - val_accuracy: 0.9803\n",
            "Epoch 20/100\n",
            "19/19 [==============================] - 0s 7ms/step - loss: 0.5977 - accuracy: 0.9222 - val_loss: 0.5982 - val_accuracy: 0.9803\n",
            "Epoch 21/100\n",
            "19/19 [==============================] - 0s 7ms/step - loss: 0.5647 - accuracy: 0.9371 - val_loss: 0.5761 - val_accuracy: 0.9868\n",
            "Epoch 22/100\n",
            "19/19 [==============================] - 0s 6ms/step - loss: 0.5548 - accuracy: 0.9487 - val_loss: 0.5508 - val_accuracy: 0.9737\n",
            "Epoch 23/100\n",
            "19/19 [==============================] - 0s 7ms/step - loss: 0.5301 - accuracy: 0.9421 - val_loss: 0.5065 - val_accuracy: 0.9803\n",
            "Epoch 24/100\n",
            "19/19 [==============================] - 0s 7ms/step - loss: 0.5219 - accuracy: 0.9536 - val_loss: 0.5163 - val_accuracy: 0.9868\n",
            "Epoch 25/100\n",
            "19/19 [==============================] - 0s 7ms/step - loss: 0.4987 - accuracy: 0.9487 - val_loss: 0.4797 - val_accuracy: 0.9803\n",
            "Epoch 26/100\n",
            "19/19 [==============================] - 0s 7ms/step - loss: 0.4996 - accuracy: 0.9487 - val_loss: 0.4347 - val_accuracy: 0.9803\n",
            "Epoch 27/100\n",
            "19/19 [==============================] - 0s 7ms/step - loss: 0.4953 - accuracy: 0.9503 - val_loss: 0.4588 - val_accuracy: 0.9803\n",
            "Epoch 28/100\n",
            "19/19 [==============================] - 0s 7ms/step - loss: 0.4823 - accuracy: 0.9553 - val_loss: 0.4503 - val_accuracy: 0.9868\n",
            "Epoch 29/100\n",
            "19/19 [==============================] - 0s 7ms/step - loss: 0.4591 - accuracy: 0.9685 - val_loss: 0.4252 - val_accuracy: 0.9803\n",
            "Epoch 30/100\n",
            "19/19 [==============================] - 0s 7ms/step - loss: 0.4607 - accuracy: 0.9636 - val_loss: 0.4321 - val_accuracy: 0.9803\n",
            "Epoch 31/100\n",
            "19/19 [==============================] - 0s 6ms/step - loss: 0.4546 - accuracy: 0.9503 - val_loss: 0.3786 - val_accuracy: 0.9868\n",
            "Epoch 32/100\n",
            "19/19 [==============================] - 0s 7ms/step - loss: 0.4361 - accuracy: 0.9685 - val_loss: 0.3730 - val_accuracy: 0.9803\n",
            "Epoch 33/100\n",
            "19/19 [==============================] - 0s 7ms/step - loss: 0.4560 - accuracy: 0.9553 - val_loss: 0.3626 - val_accuracy: 0.9868\n",
            "Epoch 34/100\n",
            "19/19 [==============================] - 0s 7ms/step - loss: 0.4432 - accuracy: 0.9553 - val_loss: 0.3504 - val_accuracy: 0.9803\n",
            "Epoch 35/100\n",
            "19/19 [==============================] - 0s 7ms/step - loss: 0.4267 - accuracy: 0.9652 - val_loss: 0.3471 - val_accuracy: 0.9868\n",
            "Epoch 36/100\n",
            "19/19 [==============================] - 0s 7ms/step - loss: 0.4172 - accuracy: 0.9768 - val_loss: 0.3389 - val_accuracy: 0.9803\n",
            "Epoch 37/100\n",
            "19/19 [==============================] - 0s 7ms/step - loss: 0.4048 - accuracy: 0.9619 - val_loss: 0.3597 - val_accuracy: 0.9737\n",
            "Epoch 38/100\n",
            "19/19 [==============================] - 0s 7ms/step - loss: 0.4001 - accuracy: 0.9652 - val_loss: 0.3106 - val_accuracy: 0.9803\n",
            "Epoch 39/100\n",
            "19/19 [==============================] - 0s 7ms/step - loss: 0.3980 - accuracy: 0.9685 - val_loss: 0.3303 - val_accuracy: 0.9803\n",
            "Epoch 40/100\n",
            "19/19 [==============================] - 0s 7ms/step - loss: 0.3787 - accuracy: 0.9735 - val_loss: 0.3129 - val_accuracy: 0.9868\n",
            "Epoch 41/100\n",
            "19/19 [==============================] - 0s 7ms/step - loss: 0.3859 - accuracy: 0.9669 - val_loss: 0.3224 - val_accuracy: 0.9868\n",
            "Epoch 42/100\n",
            "19/19 [==============================] - 0s 7ms/step - loss: 0.3787 - accuracy: 0.9685 - val_loss: 0.3085 - val_accuracy: 0.9803\n",
            "Epoch 43/100\n",
            "19/19 [==============================] - 0s 7ms/step - loss: 0.3738 - accuracy: 0.9685 - val_loss: 0.3156 - val_accuracy: 0.9803\n",
            "Epoch 44/100\n",
            "19/19 [==============================] - 0s 7ms/step - loss: 0.3633 - accuracy: 0.9685 - val_loss: 0.2921 - val_accuracy: 0.9803\n",
            "Epoch 45/100\n",
            "19/19 [==============================] - 0s 7ms/step - loss: 0.3577 - accuracy: 0.9636 - val_loss: 0.2822 - val_accuracy: 0.9868\n",
            "Epoch 46/100\n",
            "19/19 [==============================] - 0s 6ms/step - loss: 0.3560 - accuracy: 0.9652 - val_loss: 0.3033 - val_accuracy: 0.9605\n",
            "Epoch 47/100\n",
            "19/19 [==============================] - 0s 7ms/step - loss: 0.3542 - accuracy: 0.9636 - val_loss: 0.2969 - val_accuracy: 0.9671\n",
            "Epoch 48/100\n",
            "19/19 [==============================] - 0s 8ms/step - loss: 0.3598 - accuracy: 0.9652 - val_loss: 0.2836 - val_accuracy: 0.9803\n",
            "Epoch 49/100\n",
            "19/19 [==============================] - 0s 7ms/step - loss: 0.3498 - accuracy: 0.9669 - val_loss: 0.2752 - val_accuracy: 0.9803\n",
            "Epoch 50/100\n",
            "19/19 [==============================] - 0s 7ms/step - loss: 0.3330 - accuracy: 0.9752 - val_loss: 0.2823 - val_accuracy: 0.9803\n",
            "Epoch 51/100\n",
            "19/19 [==============================] - 0s 8ms/step - loss: 0.3443 - accuracy: 0.9652 - val_loss: 0.2566 - val_accuracy: 0.9803\n",
            "Epoch 52/100\n",
            "19/19 [==============================] - 0s 6ms/step - loss: 0.3360 - accuracy: 0.9685 - val_loss: 0.2609 - val_accuracy: 0.9868\n",
            "Epoch 53/100\n",
            "19/19 [==============================] - 0s 7ms/step - loss: 0.3258 - accuracy: 0.9719 - val_loss: 0.2463 - val_accuracy: 0.9868\n",
            "Epoch 54/100\n",
            "19/19 [==============================] - 0s 6ms/step - loss: 0.3124 - accuracy: 0.9801 - val_loss: 0.2561 - val_accuracy: 0.9803\n",
            "Epoch 55/100\n",
            "19/19 [==============================] - 0s 6ms/step - loss: 0.3256 - accuracy: 0.9719 - val_loss: 0.2522 - val_accuracy: 0.9868\n",
            "Epoch 56/100\n",
            "19/19 [==============================] - 0s 7ms/step - loss: 0.3185 - accuracy: 0.9669 - val_loss: 0.2374 - val_accuracy: 0.9803\n",
            "Epoch 57/100\n",
            "19/19 [==============================] - 0s 7ms/step - loss: 0.3273 - accuracy: 0.9735 - val_loss: 0.2484 - val_accuracy: 0.9803\n",
            "Epoch 58/100\n",
            "19/19 [==============================] - 0s 7ms/step - loss: 0.3145 - accuracy: 0.9669 - val_loss: 0.2436 - val_accuracy: 0.9868\n",
            "Epoch 59/100\n",
            "19/19 [==============================] - 0s 7ms/step - loss: 0.3071 - accuracy: 0.9702 - val_loss: 0.2324 - val_accuracy: 0.9868\n",
            "Epoch 60/100\n",
            "19/19 [==============================] - 0s 7ms/step - loss: 0.3000 - accuracy: 0.9752 - val_loss: 0.2355 - val_accuracy: 0.9803\n",
            "Epoch 61/100\n",
            "19/19 [==============================] - 0s 6ms/step - loss: 0.3098 - accuracy: 0.9719 - val_loss: 0.2202 - val_accuracy: 0.9803\n",
            "Epoch 62/100\n",
            "19/19 [==============================] - 0s 7ms/step - loss: 0.2922 - accuracy: 0.9735 - val_loss: 0.2465 - val_accuracy: 0.9803\n",
            "Epoch 63/100\n",
            "19/19 [==============================] - 0s 7ms/step - loss: 0.2926 - accuracy: 0.9768 - val_loss: 0.2117 - val_accuracy: 0.9737\n",
            "Epoch 64/100\n",
            "19/19 [==============================] - 0s 7ms/step - loss: 0.2854 - accuracy: 0.9768 - val_loss: 0.2250 - val_accuracy: 0.9803\n",
            "Epoch 65/100\n",
            "19/19 [==============================] - 0s 7ms/step - loss: 0.2837 - accuracy: 0.9768 - val_loss: 0.2177 - val_accuracy: 0.9868\n",
            "Epoch 66/100\n",
            "19/19 [==============================] - 0s 8ms/step - loss: 0.2843 - accuracy: 0.9702 - val_loss: 0.2266 - val_accuracy: 0.9868\n",
            "Epoch 67/100\n",
            "19/19 [==============================] - 0s 7ms/step - loss: 0.2814 - accuracy: 0.9768 - val_loss: 0.2176 - val_accuracy: 0.9803\n",
            "Epoch 68/100\n",
            "19/19 [==============================] - 0s 7ms/step - loss: 0.2787 - accuracy: 0.9735 - val_loss: 0.2205 - val_accuracy: 0.9803\n",
            "Epoch 69/100\n",
            "19/19 [==============================] - 0s 7ms/step - loss: 0.2691 - accuracy: 0.9768 - val_loss: 0.2215 - val_accuracy: 0.9803\n",
            "Epoch 70/100\n",
            "19/19 [==============================] - 0s 7ms/step - loss: 0.2641 - accuracy: 0.9702 - val_loss: 0.2113 - val_accuracy: 0.9868\n",
            "Epoch 71/100\n",
            "19/19 [==============================] - 0s 7ms/step - loss: 0.2736 - accuracy: 0.9719 - val_loss: 0.2136 - val_accuracy: 0.9868\n",
            "Epoch 72/100\n",
            "19/19 [==============================] - 0s 7ms/step - loss: 0.2653 - accuracy: 0.9719 - val_loss: 0.1952 - val_accuracy: 0.9868\n",
            "Epoch 73/100\n",
            "19/19 [==============================] - 0s 7ms/step - loss: 0.2690 - accuracy: 0.9702 - val_loss: 0.1939 - val_accuracy: 0.9803\n",
            "Epoch 74/100\n",
            "19/19 [==============================] - 0s 7ms/step - loss: 0.2707 - accuracy: 0.9702 - val_loss: 0.2054 - val_accuracy: 0.9868\n",
            "Epoch 75/100\n",
            "19/19 [==============================] - 0s 7ms/step - loss: 0.2604 - accuracy: 0.9834 - val_loss: 0.1959 - val_accuracy: 0.9868\n",
            "Epoch 76/100\n",
            "19/19 [==============================] - 0s 6ms/step - loss: 0.2552 - accuracy: 0.9752 - val_loss: 0.1943 - val_accuracy: 0.9868\n",
            "Epoch 77/100\n",
            "19/19 [==============================] - 0s 7ms/step - loss: 0.2422 - accuracy: 0.9685 - val_loss: 0.1958 - val_accuracy: 0.9803\n",
            "Epoch 78/100\n",
            "19/19 [==============================] - 0s 7ms/step - loss: 0.2415 - accuracy: 0.9785 - val_loss: 0.1822 - val_accuracy: 0.9868\n",
            "Epoch 79/100\n",
            "19/19 [==============================] - 0s 7ms/step - loss: 0.2573 - accuracy: 0.9735 - val_loss: 0.1873 - val_accuracy: 0.9868\n",
            "Epoch 80/100\n",
            "19/19 [==============================] - 0s 7ms/step - loss: 0.2457 - accuracy: 0.9768 - val_loss: 0.1924 - val_accuracy: 0.9803\n",
            "Epoch 81/100\n",
            "19/19 [==============================] - 0s 7ms/step - loss: 0.2332 - accuracy: 0.9785 - val_loss: 0.1869 - val_accuracy: 0.9803\n",
            "Epoch 82/100\n",
            "19/19 [==============================] - 0s 7ms/step - loss: 0.2377 - accuracy: 0.9901 - val_loss: 0.1946 - val_accuracy: 0.9868\n",
            "Epoch 83/100\n",
            "19/19 [==============================] - 0s 7ms/step - loss: 0.2441 - accuracy: 0.9768 - val_loss: 0.1868 - val_accuracy: 0.9868\n",
            "Epoch 84/100\n",
            "19/19 [==============================] - 0s 7ms/step - loss: 0.2330 - accuracy: 0.9818 - val_loss: 0.1859 - val_accuracy: 0.9803\n",
            "Epoch 85/100\n",
            "19/19 [==============================] - 0s 7ms/step - loss: 0.2261 - accuracy: 0.9834 - val_loss: 0.1825 - val_accuracy: 0.9868\n",
            "Epoch 86/100\n",
            "19/19 [==============================] - 0s 7ms/step - loss: 0.2301 - accuracy: 0.9785 - val_loss: 0.1799 - val_accuracy: 0.9868\n",
            "Epoch 87/100\n",
            "19/19 [==============================] - 0s 7ms/step - loss: 0.2346 - accuracy: 0.9768 - val_loss: 0.1850 - val_accuracy: 0.9868\n",
            "Epoch 88/100\n",
            "19/19 [==============================] - 0s 7ms/step - loss: 0.2306 - accuracy: 0.9702 - val_loss: 0.1762 - val_accuracy: 0.9868\n",
            "Epoch 89/100\n",
            "19/19 [==============================] - 0s 7ms/step - loss: 0.2274 - accuracy: 0.9801 - val_loss: 0.1720 - val_accuracy: 0.9803\n",
            "Epoch 90/100\n",
            "19/19 [==============================] - 0s 7ms/step - loss: 0.2180 - accuracy: 0.9785 - val_loss: 0.1730 - val_accuracy: 0.9868\n",
            "Epoch 91/100\n",
            "19/19 [==============================] - 0s 7ms/step - loss: 0.2350 - accuracy: 0.9768 - val_loss: 0.1725 - val_accuracy: 0.9868\n",
            "Epoch 92/100\n",
            "19/19 [==============================] - 0s 7ms/step - loss: 0.2290 - accuracy: 0.9834 - val_loss: 0.1632 - val_accuracy: 0.9803\n",
            "Epoch 93/100\n",
            "19/19 [==============================] - 0s 8ms/step - loss: 0.2157 - accuracy: 0.9768 - val_loss: 0.1623 - val_accuracy: 0.9934\n",
            "Epoch 94/100\n",
            "19/19 [==============================] - 0s 7ms/step - loss: 0.2106 - accuracy: 0.9818 - val_loss: 0.1566 - val_accuracy: 0.9868\n",
            "Epoch 95/100\n",
            "19/19 [==============================] - 0s 7ms/step - loss: 0.2066 - accuracy: 0.9801 - val_loss: 0.1662 - val_accuracy: 0.9737\n",
            "Epoch 96/100\n",
            "19/19 [==============================] - 0s 7ms/step - loss: 0.2179 - accuracy: 0.9752 - val_loss: 0.1565 - val_accuracy: 0.9803\n",
            "Epoch 97/100\n",
            "19/19 [==============================] - 0s 7ms/step - loss: 0.2060 - accuracy: 0.9801 - val_loss: 0.1561 - val_accuracy: 0.9803\n",
            "Epoch 98/100\n",
            "19/19 [==============================] - 0s 7ms/step - loss: 0.2249 - accuracy: 0.9735 - val_loss: 0.1576 - val_accuracy: 0.9803\n",
            "Epoch 99/100\n",
            "19/19 [==============================] - 0s 7ms/step - loss: 0.2033 - accuracy: 0.9801 - val_loss: 0.1496 - val_accuracy: 0.9868\n",
            "Epoch 100/100\n",
            "19/19 [==============================] - 0s 7ms/step - loss: 0.2056 - accuracy: 0.9752 - val_loss: 0.1467 - val_accuracy: 0.9868\n"
          ]
        },
        {
          "output_type": "display_data",
          "data": {
            "text/plain": [
              "<Figure size 432x288 with 1 Axes>"
            ],
            "image/png": "[encoded data removed]"
          },
          "metadata": {
            "needs_background": "light"
          }
        }
      ]
    },
    {
      "cell_type": "code",
      "source": [
        "pred1 = model1.predict(X_test)\n",
        "#print(pred)\n",
        "#print(pred.shape)\n"
      ],
      "metadata": {
        "id": "LK5X5m827dBH",
        "colab": {
          "base_uri": "https://localhost:8080/"
        },
        "outputId": "9ce8ae53-cb17-4145-d8c7-a0e01c9ca85e"
      },
      "execution_count": 273,
      "outputs": [
        {
          "output_type": "stream",
          "name": "stdout",
          "text": [
            "6/6 [==============================] - 0s 3ms/step\n"
          ]
        }
      ]
    },
    {
      "cell_type": "code",
      "source": [
        "output = (np.argmax(pred1, axis=1)).reshape(-1,1)\n",
        "#print(output.shape)\n",
        "print(output.flatten())\n",
        "assert(output.shape == (190, 1))\n",
        "np.savetxt('eegnet_output.csv', output, delimiter=\",\")"
      ],
      "metadata": {
        "id": "Ge8jZUU8gve3",
        "colab": {
          "base_uri": "https://localhost:8080/"
        },
        "outputId": "0af06182-917b-4179-a571-26f36d0517a3"
      },
      "execution_count": 274,
      "outputs": [
        {
          "output_type": "stream",
          "name": "stdout",
          "text": [
            "[0 3 4 2 5 1 0 0 5 1 2 0 0 5 5 3 5 5 3 5 1 1 5 5 4 3 2 1 0 2 5 3 0 0 2 0 5\n",
            " 5 2 2 4 3 4 4 2 0 3 0 4 2 2 4 4 3 4 3 5 2 0 1 3 5 1 2 4 3 1 2 0 4 5 4 0 3\n",
            " 2 3 3 4 3 2 1 4 0 1 1 3 4 1 1 4 2 5 5 2 4 1 0 5 2 5 3 4 3 2 4 4 1 2 0 0 1\n",
            " 0 2 4 3 3 1 4 1 1 5 5 3 1 3 0 0 1 3 1 0 5 0 2 3 2 2 0 3 3 5 0 2 5 4 0 3 3\n",
            " 0 1 5 3 1 2 1 0 2 0 2 3 1 1 3 5 0 5 5 5 4 1 2 1 5 2 4 4 1 4 0 4 2 3 4 2 4\n",
            " 0 0 1 0 1]\n"
          ]
        }
      ]
    },
    {
      "cell_type": "markdown",
      "source": [
        "## Model Competition Part"
      ],
      "metadata": {
        "id": "qnHnQ_yVerBo"
      }
    },
    {
      "cell_type": "code",
      "source": [
        "# Build your model here:\n",
        "from EEGModels import EEGNet\n",
        "\n",
        "model2 = EEGNet(nb_classes = 6, Chans = X_train.shape[1], Samples = X_train.shape[2])\n",
        "\n",
        "model2.compile(loss=keras.losses.SparseCategoricalCrossentropy(from_logits=True), optimizer='adam', \n",
        "              metrics = ['accuracy'])\n",
        "\n",
        "model2.summary()\n",
        "\n",
        "history2 = model2.fit(X_train, Y_train, epochs=100, validation_data=(X_val, Y_val))\n",
        "\n",
        "plt.plot(history2.history['loss'])\n",
        "plt.plot(history2.history['val_loss'])\n",
        "plt.title('EEGNet Model loss')\n",
        "plt.ylabel('loss')\n",
        "plt.xlabel('epoch')\n",
        "plt.legend(['train', 'val'], loc='upper left')\n",
        "plt.show()\n",
        "\n",
        "pred2 = model2.predict(X_test)\n"
      ],
      "metadata": {
        "id": "zlhO90b9iB_-",
        "colab": {
          "base_uri": "https://localhost:8080/",
          "height": 1000
        },
        "outputId": "7f24b5a3-73c1-41a6-c5a7-0f9f257a473c"
      },
      "execution_count": 275,
      "outputs": [
        {
          "output_type": "stream",
          "name": "stdout",
          "text": [
            "Model: \"model_19\"\n",
            "_________________________________________________________________\n",
            " Layer (type)                Output Shape              Param #   \n",
            "=================================================================\n",
            " input_20 (InputLayer)       [(None, 22, 200, 1)]      0         \n",
            "                                                                 \n",
            " conv2d_19 (Conv2D)          (None, 22, 200, 8)        512       \n",
            "                                                                 \n",
            " batch_normalization_78 (Bat  (None, 22, 200, 8)       32        \n",
            " chNormalization)                                                \n",
            "                                                                 \n",
            " depthwise_conv2d_19 (Depthw  (None, 1, 200, 16)       352       \n",
            " iseConv2D)                                                      \n",
            "                                                                 \n",
            " batch_normalization_79 (Bat  (None, 1, 200, 16)       64        \n",
            " chNormalization)                                                \n",
            "                                                                 \n",
            " activation_59 (Activation)  (None, 1, 200, 16)        0         \n",
            "                                                                 \n",
            " average_pooling2d_38 (Avera  (None, 1, 50, 16)        0         \n",
            " gePooling2D)                                                    \n",
            "                                                                 \n",
            " dropout_38 (Dropout)        (None, 1, 50, 16)         0         \n",
            "                                                                 \n",
            " separable_conv2d_19 (Separa  (None, 1, 50, 16)        512       \n",
            " bleConv2D)                                                      \n",
            "                                                                 \n",
            " batch_normalization_80 (Bat  (None, 1, 50, 16)        64        \n",
            " chNormalization)                                                \n",
            "                                                                 \n",
            " activation_60 (Activation)  (None, 1, 50, 16)         0         \n",
            "                                                                 \n",
            " average_pooling2d_39 (Avera  (None, 1, 6, 16)         0         \n",
            " gePooling2D)                                                    \n",
            "                                                                 \n",
            " dropout_39 (Dropout)        (None, 1, 6, 16)          0         \n",
            "                                                                 \n",
            " flatten (Flatten)           (None, 96)                0         \n",
            "                                                                 \n",
            " dense (Dense)               (None, 6)                 582       \n",
            "                                                                 \n",
            " softmax (Activation)        (None, 6)                 0         \n",
            "                                                                 \n",
            "=================================================================\n",
            "Total params: 2,118\n",
            "Trainable params: 2,038\n",
            "Non-trainable params: 80\n",
            "_________________________________________________________________\n",
            "Epoch 1/100\n",
            "19/19 [==============================] - 1s 17ms/step - loss: 1.7665 - accuracy: 0.2384 - val_loss: 1.6747 - val_accuracy: 0.4737\n",
            "Epoch 2/100\n",
            "19/19 [==============================] - 0s 9ms/step - loss: 1.5986 - accuracy: 0.4454 - val_loss: 1.5864 - val_accuracy: 0.6645\n",
            "Epoch 3/100\n",
            "19/19 [==============================] - 0s 8ms/step - loss: 1.3785 - accuracy: 0.5861 - val_loss: 1.4934 - val_accuracy: 0.7500\n",
            "Epoch 4/100\n",
            "19/19 [==============================] - 0s 8ms/step - loss: 1.1581 - accuracy: 0.7152 - val_loss: 1.3651 - val_accuracy: 0.8224\n",
            "Epoch 5/100\n",
            "19/19 [==============================] - 0s 8ms/step - loss: 1.0362 - accuracy: 0.7864 - val_loss: 1.2493 - val_accuracy: 0.8224\n",
            "Epoch 6/100\n",
            "19/19 [==============================] - 0s 8ms/step - loss: 0.9375 - accuracy: 0.8079 - val_loss: 1.1630 - val_accuracy: 0.8553\n",
            "Epoch 7/100\n",
            "19/19 [==============================] - 0s 7ms/step - loss: 0.8858 - accuracy: 0.8394 - val_loss: 1.0980 - val_accuracy: 0.8684\n",
            "Epoch 8/100\n",
            "19/19 [==============================] - 0s 7ms/step - loss: 0.8255 - accuracy: 0.8808 - val_loss: 1.0472 - val_accuracy: 0.9211\n",
            "Epoch 9/100\n",
            "19/19 [==============================] - 0s 7ms/step - loss: 0.7815 - accuracy: 0.8825 - val_loss: 0.9962 - val_accuracy: 0.9145\n",
            "Epoch 10/100\n",
            "19/19 [==============================] - 0s 8ms/step - loss: 0.7561 - accuracy: 0.8940 - val_loss: 0.9556 - val_accuracy: 0.9211\n",
            "Epoch 11/100\n",
            "19/19 [==============================] - 0s 7ms/step - loss: 0.7159 - accuracy: 0.9305 - val_loss: 0.9210 - val_accuracy: 0.9474\n",
            "Epoch 12/100\n",
            "19/19 [==============================] - 0s 7ms/step - loss: 0.7079 - accuracy: 0.9288 - val_loss: 0.8930 - val_accuracy: 0.9342\n",
            "Epoch 13/100\n",
            "19/19 [==============================] - 0s 8ms/step - loss: 0.6890 - accuracy: 0.9156 - val_loss: 0.8372 - val_accuracy: 0.9539\n",
            "Epoch 14/100\n",
            "19/19 [==============================] - 0s 8ms/step - loss: 0.6638 - accuracy: 0.9272 - val_loss: 0.7865 - val_accuracy: 0.9605\n",
            "Epoch 15/100\n",
            "19/19 [==============================] - 0s 7ms/step - loss: 0.6562 - accuracy: 0.9272 - val_loss: 0.7964 - val_accuracy: 0.9605\n",
            "Epoch 16/100\n",
            "19/19 [==============================] - 0s 7ms/step - loss: 0.6287 - accuracy: 0.9404 - val_loss: 0.7274 - val_accuracy: 0.9605\n",
            "Epoch 17/100\n",
            "19/19 [==============================] - 0s 7ms/step - loss: 0.6119 - accuracy: 0.9503 - val_loss: 0.7228 - val_accuracy: 0.9671\n",
            "Epoch 18/100\n",
            "19/19 [==============================] - 0s 7ms/step - loss: 0.5848 - accuracy: 0.9437 - val_loss: 0.6548 - val_accuracy: 0.9605\n",
            "Epoch 19/100\n",
            "19/19 [==============================] - 0s 8ms/step - loss: 0.5642 - accuracy: 0.9536 - val_loss: 0.6173 - val_accuracy: 0.9803\n",
            "Epoch 20/100\n",
            "19/19 [==============================] - 0s 7ms/step - loss: 0.5681 - accuracy: 0.9487 - val_loss: 0.5667 - val_accuracy: 0.9737\n",
            "Epoch 21/100\n",
            "19/19 [==============================] - 0s 6ms/step - loss: 0.5467 - accuracy: 0.9553 - val_loss: 0.5731 - val_accuracy: 0.9803\n",
            "Epoch 22/100\n",
            "19/19 [==============================] - 0s 7ms/step - loss: 0.5567 - accuracy: 0.9437 - val_loss: 0.5398 - val_accuracy: 0.9803\n",
            "Epoch 23/100\n",
            "19/19 [==============================] - 0s 7ms/step - loss: 0.5208 - accuracy: 0.9619 - val_loss: 0.5388 - val_accuracy: 0.9803\n",
            "Epoch 24/100\n",
            "19/19 [==============================] - 0s 7ms/step - loss: 0.5055 - accuracy: 0.9570 - val_loss: 0.5095 - val_accuracy: 0.9803\n",
            "Epoch 25/100\n",
            "19/19 [==============================] - 0s 7ms/step - loss: 0.4955 - accuracy: 0.9669 - val_loss: 0.4930 - val_accuracy: 0.9737\n",
            "Epoch 26/100\n",
            "19/19 [==============================] - 0s 7ms/step - loss: 0.4833 - accuracy: 0.9536 - val_loss: 0.4571 - val_accuracy: 0.9803\n",
            "Epoch 27/100\n",
            "19/19 [==============================] - 0s 7ms/step - loss: 0.4924 - accuracy: 0.9570 - val_loss: 0.4453 - val_accuracy: 0.9803\n",
            "Epoch 28/100\n",
            "19/19 [==============================] - 0s 8ms/step - loss: 0.4717 - accuracy: 0.9586 - val_loss: 0.4160 - val_accuracy: 0.9803\n",
            "Epoch 29/100\n",
            "19/19 [==============================] - 0s 7ms/step - loss: 0.4654 - accuracy: 0.9619 - val_loss: 0.4086 - val_accuracy: 0.9803\n",
            "Epoch 30/100\n",
            "19/19 [==============================] - 0s 7ms/step - loss: 0.4660 - accuracy: 0.9470 - val_loss: 0.4025 - val_accuracy: 0.9803\n",
            "Epoch 31/100\n",
            "19/19 [==============================] - 0s 7ms/step - loss: 0.4506 - accuracy: 0.9636 - val_loss: 0.4093 - val_accuracy: 0.9803\n",
            "Epoch 32/100\n",
            "19/19 [==============================] - 0s 7ms/step - loss: 0.4546 - accuracy: 0.9669 - val_loss: 0.3873 - val_accuracy: 0.9803\n",
            "Epoch 33/100\n",
            "19/19 [==============================] - 0s 7ms/step - loss: 0.4452 - accuracy: 0.9669 - val_loss: 0.3679 - val_accuracy: 0.9803\n",
            "Epoch 34/100\n",
            "19/19 [==============================] - 0s 8ms/step - loss: 0.4116 - accuracy: 0.9735 - val_loss: 0.3583 - val_accuracy: 0.9868\n",
            "Epoch 35/100\n",
            "19/19 [==============================] - 0s 7ms/step - loss: 0.4259 - accuracy: 0.9636 - val_loss: 0.3299 - val_accuracy: 0.9803\n",
            "Epoch 36/100\n",
            "19/19 [==============================] - 0s 7ms/step - loss: 0.4224 - accuracy: 0.9603 - val_loss: 0.3399 - val_accuracy: 0.9803\n",
            "Epoch 37/100\n",
            "19/19 [==============================] - 0s 7ms/step - loss: 0.4044 - accuracy: 0.9619 - val_loss: 0.3202 - val_accuracy: 0.9868\n",
            "Epoch 38/100\n",
            "19/19 [==============================] - 0s 8ms/step - loss: 0.4027 - accuracy: 0.9768 - val_loss: 0.3382 - val_accuracy: 0.9868\n",
            "Epoch 39/100\n",
            "19/19 [==============================] - 0s 7ms/step - loss: 0.3928 - accuracy: 0.9702 - val_loss: 0.3247 - val_accuracy: 0.9803\n",
            "Epoch 40/100\n",
            "19/19 [==============================] - 0s 7ms/step - loss: 0.3816 - accuracy: 0.9702 - val_loss: 0.3203 - val_accuracy: 0.9803\n",
            "Epoch 41/100\n",
            "19/19 [==============================] - 0s 8ms/step - loss: 0.3967 - accuracy: 0.9685 - val_loss: 0.3080 - val_accuracy: 0.9868\n",
            "Epoch 42/100\n",
            "19/19 [==============================] - 0s 7ms/step - loss: 0.3812 - accuracy: 0.9669 - val_loss: 0.3133 - val_accuracy: 0.9868\n",
            "Epoch 43/100\n",
            "19/19 [==============================] - 0s 7ms/step - loss: 0.3777 - accuracy: 0.9752 - val_loss: 0.2917 - val_accuracy: 0.9868\n",
            "Epoch 44/100\n",
            "19/19 [==============================] - 0s 7ms/step - loss: 0.3819 - accuracy: 0.9719 - val_loss: 0.3005 - val_accuracy: 0.9803\n",
            "Epoch 45/100\n",
            "19/19 [==============================] - 0s 7ms/step - loss: 0.3623 - accuracy: 0.9586 - val_loss: 0.2993 - val_accuracy: 0.9868\n",
            "Epoch 46/100\n",
            "19/19 [==============================] - 0s 7ms/step - loss: 0.3607 - accuracy: 0.9719 - val_loss: 0.3072 - val_accuracy: 0.9868\n",
            "Epoch 47/100\n",
            "19/19 [==============================] - 0s 7ms/step - loss: 0.3515 - accuracy: 0.9752 - val_loss: 0.2804 - val_accuracy: 0.9868\n",
            "Epoch 48/100\n",
            "19/19 [==============================] - 0s 8ms/step - loss: 0.3527 - accuracy: 0.9685 - val_loss: 0.2894 - val_accuracy: 0.9868\n",
            "Epoch 49/100\n",
            "19/19 [==============================] - 0s 7ms/step - loss: 0.3619 - accuracy: 0.9570 - val_loss: 0.2670 - val_accuracy: 0.9868\n",
            "Epoch 50/100\n",
            "19/19 [==============================] - 0s 7ms/step - loss: 0.3337 - accuracy: 0.9735 - val_loss: 0.2820 - val_accuracy: 0.9868\n",
            "Epoch 51/100\n",
            "19/19 [==============================] - 0s 7ms/step - loss: 0.3274 - accuracy: 0.9834 - val_loss: 0.2713 - val_accuracy: 0.9868\n",
            "Epoch 52/100\n",
            "19/19 [==============================] - 0s 7ms/step - loss: 0.3250 - accuracy: 0.9785 - val_loss: 0.2796 - val_accuracy: 0.9803\n",
            "Epoch 53/100\n",
            "19/19 [==============================] - 0s 7ms/step - loss: 0.3132 - accuracy: 0.9834 - val_loss: 0.2584 - val_accuracy: 0.9868\n",
            "Epoch 54/100\n",
            "19/19 [==============================] - 0s 7ms/step - loss: 0.3117 - accuracy: 0.9719 - val_loss: 0.2607 - val_accuracy: 0.9868\n",
            "Epoch 55/100\n",
            "19/19 [==============================] - 0s 7ms/step - loss: 0.3159 - accuracy: 0.9702 - val_loss: 0.2670 - val_accuracy: 0.9868\n",
            "Epoch 56/100\n",
            "19/19 [==============================] - 0s 7ms/step - loss: 0.3229 - accuracy: 0.9702 - val_loss: 0.2443 - val_accuracy: 0.9868\n",
            "Epoch 57/100\n",
            "19/19 [==============================] - 0s 8ms/step - loss: 0.3084 - accuracy: 0.9785 - val_loss: 0.2657 - val_accuracy: 0.9868\n",
            "Epoch 58/100\n",
            "19/19 [==============================] - 0s 7ms/step - loss: 0.2954 - accuracy: 0.9785 - val_loss: 0.2493 - val_accuracy: 0.9868\n",
            "Epoch 59/100\n",
            "19/19 [==============================] - 0s 7ms/step - loss: 0.3101 - accuracy: 0.9735 - val_loss: 0.2485 - val_accuracy: 0.9868\n",
            "Epoch 60/100\n",
            "19/19 [==============================] - 0s 7ms/step - loss: 0.3014 - accuracy: 0.9702 - val_loss: 0.2331 - val_accuracy: 0.9868\n",
            "Epoch 61/100\n",
            "19/19 [==============================] - 0s 7ms/step - loss: 0.3028 - accuracy: 0.9702 - val_loss: 0.2382 - val_accuracy: 0.9868\n",
            "Epoch 62/100\n",
            "19/19 [==============================] - 0s 7ms/step - loss: 0.2868 - accuracy: 0.9818 - val_loss: 0.2448 - val_accuracy: 0.9868\n",
            "Epoch 63/100\n",
            "19/19 [==============================] - 0s 7ms/step - loss: 0.2992 - accuracy: 0.9652 - val_loss: 0.2352 - val_accuracy: 0.9868\n",
            "Epoch 64/100\n",
            "19/19 [==============================] - 0s 7ms/step - loss: 0.3120 - accuracy: 0.9719 - val_loss: 0.2294 - val_accuracy: 0.9868\n",
            "Epoch 65/100\n",
            "19/19 [==============================] - 0s 7ms/step - loss: 0.2815 - accuracy: 0.9834 - val_loss: 0.2275 - val_accuracy: 0.9868\n",
            "Epoch 66/100\n",
            "19/19 [==============================] - 0s 7ms/step - loss: 0.2823 - accuracy: 0.9768 - val_loss: 0.2248 - val_accuracy: 0.9868\n",
            "Epoch 67/100\n",
            "19/19 [==============================] - 0s 7ms/step - loss: 0.2861 - accuracy: 0.9735 - val_loss: 0.2281 - val_accuracy: 0.9868\n",
            "Epoch 68/100\n",
            "19/19 [==============================] - 0s 7ms/step - loss: 0.2729 - accuracy: 0.9752 - val_loss: 0.2291 - val_accuracy: 0.9868\n",
            "Epoch 69/100\n",
            "19/19 [==============================] - 0s 7ms/step - loss: 0.2664 - accuracy: 0.9752 - val_loss: 0.2229 - val_accuracy: 0.9868\n",
            "Epoch 70/100\n",
            "19/19 [==============================] - 0s 8ms/step - loss: 0.2613 - accuracy: 0.9834 - val_loss: 0.2195 - val_accuracy: 0.9868\n",
            "Epoch 71/100\n",
            "19/19 [==============================] - 0s 7ms/step - loss: 0.2587 - accuracy: 0.9752 - val_loss: 0.2273 - val_accuracy: 0.9868\n",
            "Epoch 72/100\n",
            "19/19 [==============================] - 0s 7ms/step - loss: 0.2769 - accuracy: 0.9652 - val_loss: 0.2105 - val_accuracy: 0.9868\n",
            "Epoch 73/100\n",
            "19/19 [==============================] - 0s 7ms/step - loss: 0.2728 - accuracy: 0.9752 - val_loss: 0.2004 - val_accuracy: 0.9868\n",
            "Epoch 74/100\n",
            "19/19 [==============================] - 0s 7ms/step - loss: 0.2590 - accuracy: 0.9785 - val_loss: 0.2055 - val_accuracy: 0.9868\n",
            "Epoch 75/100\n",
            "19/19 [==============================] - 0s 7ms/step - loss: 0.2566 - accuracy: 0.9752 - val_loss: 0.2063 - val_accuracy: 0.9868\n",
            "Epoch 76/100\n",
            "19/19 [==============================] - 0s 7ms/step - loss: 0.2609 - accuracy: 0.9851 - val_loss: 0.2017 - val_accuracy: 0.9868\n",
            "Epoch 77/100\n",
            "19/19 [==============================] - 0s 7ms/step - loss: 0.2620 - accuracy: 0.9702 - val_loss: 0.1999 - val_accuracy: 0.9868\n",
            "Epoch 78/100\n",
            "19/19 [==============================] - 0s 7ms/step - loss: 0.2494 - accuracy: 0.9785 - val_loss: 0.2022 - val_accuracy: 0.9868\n",
            "Epoch 79/100\n",
            "19/19 [==============================] - 0s 7ms/step - loss: 0.2470 - accuracy: 0.9719 - val_loss: 0.1888 - val_accuracy: 0.9868\n",
            "Epoch 80/100\n",
            "19/19 [==============================] - 0s 7ms/step - loss: 0.2456 - accuracy: 0.9818 - val_loss: 0.1926 - val_accuracy: 0.9868\n",
            "Epoch 81/100\n",
            "19/19 [==============================] - 0s 7ms/step - loss: 0.2492 - accuracy: 0.9735 - val_loss: 0.1966 - val_accuracy: 0.9868\n",
            "Epoch 82/100\n",
            "19/19 [==============================] - 0s 7ms/step - loss: 0.2478 - accuracy: 0.9768 - val_loss: 0.1894 - val_accuracy: 0.9868\n",
            "Epoch 83/100\n",
            "19/19 [==============================] - 0s 7ms/step - loss: 0.2304 - accuracy: 0.9768 - val_loss: 0.2060 - val_accuracy: 0.9868\n",
            "Epoch 84/100\n",
            "19/19 [==============================] - 0s 7ms/step - loss: 0.2327 - accuracy: 0.9801 - val_loss: 0.1943 - val_accuracy: 0.9868\n",
            "Epoch 85/100\n",
            "19/19 [==============================] - 0s 7ms/step - loss: 0.2372 - accuracy: 0.9685 - val_loss: 0.1886 - val_accuracy: 0.9868\n",
            "Epoch 86/100\n",
            "19/19 [==============================] - 0s 7ms/step - loss: 0.2302 - accuracy: 0.9785 - val_loss: 0.1801 - val_accuracy: 0.9868\n",
            "Epoch 87/100\n",
            "19/19 [==============================] - 0s 7ms/step - loss: 0.2299 - accuracy: 0.9752 - val_loss: 0.2054 - val_accuracy: 0.9868\n",
            "Epoch 88/100\n",
            "19/19 [==============================] - 0s 7ms/step - loss: 0.2403 - accuracy: 0.9735 - val_loss: 0.1772 - val_accuracy: 0.9868\n",
            "Epoch 89/100\n",
            "19/19 [==============================] - 0s 7ms/step - loss: 0.2325 - accuracy: 0.9785 - val_loss: 0.1793 - val_accuracy: 0.9868\n",
            "Epoch 90/100\n",
            "19/19 [==============================] - 0s 7ms/step - loss: 0.2218 - accuracy: 0.9884 - val_loss: 0.1899 - val_accuracy: 0.9868\n",
            "Epoch 91/100\n",
            "19/19 [==============================] - 0s 8ms/step - loss: 0.2284 - accuracy: 0.9851 - val_loss: 0.1819 - val_accuracy: 0.9868\n",
            "Epoch 92/100\n",
            "19/19 [==============================] - 0s 7ms/step - loss: 0.2283 - accuracy: 0.9768 - val_loss: 0.1786 - val_accuracy: 0.9868\n",
            "Epoch 93/100\n",
            "19/19 [==============================] - 0s 7ms/step - loss: 0.2229 - accuracy: 0.9768 - val_loss: 0.1840 - val_accuracy: 0.9868\n",
            "Epoch 94/100\n",
            "19/19 [==============================] - 0s 7ms/step - loss: 0.2189 - accuracy: 0.9785 - val_loss: 0.1780 - val_accuracy: 0.9868\n",
            "Epoch 95/100\n",
            "19/19 [==============================] - 0s 7ms/step - loss: 0.2133 - accuracy: 0.9834 - val_loss: 0.1771 - val_accuracy: 0.9868\n",
            "Epoch 96/100\n",
            "19/19 [==============================] - 0s 7ms/step - loss: 0.2216 - accuracy: 0.9752 - val_loss: 0.1783 - val_accuracy: 0.9868\n",
            "Epoch 97/100\n",
            "19/19 [==============================] - 0s 7ms/step - loss: 0.2067 - accuracy: 0.9868 - val_loss: 0.1730 - val_accuracy: 0.9868\n",
            "Epoch 98/100\n",
            "19/19 [==============================] - 0s 7ms/step - loss: 0.2019 - accuracy: 0.9868 - val_loss: 0.1699 - val_accuracy: 0.9868\n",
            "Epoch 99/100\n",
            "19/19 [==============================] - 0s 8ms/step - loss: 0.2213 - accuracy: 0.9768 - val_loss: 0.1726 - val_accuracy: 0.9868\n",
            "Epoch 100/100\n",
            "19/19 [==============================] - 0s 6ms/step - loss: 0.2127 - accuracy: 0.9801 - val_loss: 0.1619 - val_accuracy: 0.9868\n"
          ]
        },
        {
          "output_type": "display_data",
          "data": {
            "text/plain": [
              "<Figure size 432x288 with 1 Axes>"
            ],
            "image/png": "[encoded data removed]"
          },
          "metadata": {
            "needs_background": "light"
          }
        },
        {
          "output_type": "stream",
          "name": "stdout",
          "text": [
            "6/6 [==============================] - 0s 3ms/step\n"
          ]
        }
      ]
    },
    {
      "cell_type": "code",
      "source": [
        "output = (np.argmax(pred2, axis=1)).reshape(-1,1)\n",
        "print(output.flatten())\n",
        "assert(output.shape == (190, 1))\n",
        "np.savetxt('competition_output.csv', output, delimiter=\",\")"
      ],
      "metadata": {
        "id": "m097nvkXiIqY",
        "colab": {
          "base_uri": "https://localhost:8080/"
        },
        "outputId": "b9d0259d-715a-42b7-be08-6f924b163b38"
      },
      "execution_count": 276,
      "outputs": [
        {
          "output_type": "stream",
          "name": "stdout",
          "text": [
            "[0 3 4 2 5 1 0 0 5 1 2 0 0 5 5 3 5 5 3 5 1 1 5 5 4 3 2 1 0 2 5 3 0 0 2 0 5\n",
            " 5 2 2 4 0 4 4 2 0 3 0 4 2 2 4 4 3 4 0 5 2 0 1 3 5 1 2 4 3 1 2 0 4 5 4 0 3\n",
            " 2 3 3 4 3 2 1 4 0 1 1 3 4 1 1 4 2 5 5 2 4 1 0 5 2 5 3 4 3 2 4 4 1 2 0 0 1\n",
            " 0 2 4 3 4 1 4 1 1 5 5 3 1 3 0 0 1 3 1 0 5 0 2 3 2 2 0 3 3 5 0 2 5 4 0 3 3\n",
            " 0 1 5 3 1 2 1 0 2 0 2 3 1 1 3 5 0 5 5 5 4 1 2 1 5 2 4 4 1 4 0 4 2 3 4 2 4\n",
            " 0 0 1 0 1]\n"
          ]
        }
      ]
    }
  ]
}