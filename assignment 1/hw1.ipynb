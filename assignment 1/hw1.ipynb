{
  "nbformat": 4,
  "nbformat_minor": 0,
  "metadata": {
    "colab": {
      "provenance": [],
      "collapsed_sections": []
    },
    "kernelspec": {
      "name": "python3",
      "display_name": "Python 3"
    },
    "language_info": {
      "name": "python"
    }
  },
  "cells": [
    {
      "cell_type": "markdown",
      "source": [
        "# **HW1: Regression** \n",
        "In *assignment 1*, you need to finish:\n",
        "\n",
        "1.  Basic Part: Implement the regression model to predict the number of dengue cases\n",
        "\n",
        "\n",
        "> *   Step 1: Split Data\n",
        "> *   Step 2: Preprocess Data\n",
        "> *   Step 3: Implement Regression\n",
        "> *   Step 4: Make Prediction\n",
        "> *   Step 5: Train Model and Generate Result\n",
        "\n",
        "2.  Advanced Part: Implementing a regression model to predict the number of dengue cases in a different way than the basic part"
      ],
      "metadata": {
        "id": "X_Te27fi-0pP"
      }
    },
    {
      "cell_type": "markdown",
      "source": [
        "# 1. Basic Part (60%)\n",
        "In the first part, you need to implement the regression to predict the number of dengue cases\n",
        "\n",
        "Please save the prediction result in a csv file **hw1_basic.csv**\n"
      ],
      "metadata": {
        "id": "_wDdnos-4uUv"
      }
    },
    {
      "cell_type": "markdown",
      "source": [
        "## Import Packages\n",
        "\n",
        "> Note: You **cannot** import any other package in the basic part"
      ],
      "metadata": {
        "id": "RzCR7vk9BFkf"
      }
    },
    {
      "cell_type": "code",
      "source": [
        "import numpy as np\n",
        "import matplotlib.pyplot as plt\n",
        "import pandas as pd\n",
        "import csv\n",
        "import math\n",
        "import random"
      ],
      "metadata": {
        "id": "HL5XjqFf4wSj"
      },
      "execution_count": 3,
      "outputs": []
    },
    {
      "cell_type": "markdown",
      "source": [
        "## Global attributes\n",
        "Define the global attributes"
      ],
      "metadata": {
        "id": "jnWjrzi0dMPz"
      }
    },
    {
      "cell_type": "code",
      "source": [
        "input_dataroot = 'hw1_basic_input.csv' # Input file named as 'hw1_basic_input.csv'\n",
        "output_dataroot = 'hw1_basic.csv' # Output file will be named as 'hw1_basic.csv'\n",
        "df = pd.read_csv(input_dataroot)\n",
        "input_datalist =  [] # Initial datalist, saved as numpy array\n",
        "output_datalist =  [] # Your prediction, should be 10 * 4 matrix and saved as numpy array\n",
        "             # The format of each row should be ['epiweek', 'CityA', 'CityB', 'CityC']\n",
        "\n",
        "#temperature\n",
        "x1 = []\n",
        "x2 = []\n",
        "x3 = []\n",
        "#cities\n",
        "y1 = [] #CityA\n",
        "y2 = [] #CityB\n",
        "y3 = [] #CityC\n",
        "\n",
        "pred1 = []\n",
        "pred2 = []\n",
        "pred3 = []\n",
        "\n",
        "y1_pred = [] #final output for A\n",
        "y2_pred = [] #final output for B\n",
        "y3_pred = [] #final output for C\n",
        "\n",
        "x1_train = []\n",
        "x1_test = []\n",
        "y1_train = []\n",
        "y1_test = []\n",
        "\n",
        "x2_train = []\n",
        "x2_test = []\n",
        "y2_train = []\n",
        "y2_test = []\n",
        "\n",
        "x3_train = []\n",
        "x3_test = []\n",
        "y3_train = []\n",
        "y3_test = []\n",
        "\n",
        "result_y1_test = [] \n",
        "result_y2_test = []\n",
        "result_y3_test = []\n",
        "\n",
        "m = 0\n",
        "b = 0\n",
        "m1 = 0\n",
        "b1 = 0\n",
        "m2 = 0\n",
        "b2 = 0\n",
        "\n"
      ],
      "metadata": {
        "id": "EWLDPOlHBbcK"
      },
      "execution_count": 4,
      "outputs": []
    },
    {
      "cell_type": "markdown",
      "source": [
        "You can add your own global attributes here\n"
      ],
      "metadata": {
        "id": "PsFC-cvqIcYK"
      }
    },
    {
      "cell_type": "code",
      "source": [
        "testing_datalist = []\n",
        "training_datalist = []\n",
        "date_datalist = []"
      ],
      "metadata": {
        "id": "OUbS2BEgcut6"
      },
      "execution_count": 5,
      "outputs": []
    },
    {
      "cell_type": "markdown",
      "source": [
        "## Load the Input File\n",
        "First, load the basic input file **hw1_basic_input.csv**\n",
        "\n",
        "Input data would be stored in *input_datalist*"
      ],
      "metadata": {
        "id": "rUoRFoQjBW5S"
      }
    },
    {
      "cell_type": "code",
      "source": [
        "# Read input csv to datalist\n",
        "with open(input_dataroot, newline='') as csvfile:\n",
        "  input_datalist = np.array(list(csv.reader(csvfile)))\n",
        "#print(input_datalist)\n",
        "#total_input_datalist = len(input_datalist)\n",
        "#test_output_datalist = input_datalist[-10:]\n"
      ],
      "metadata": {
        "id": "dekR1KnqBtI6"
      },
      "execution_count": 6,
      "outputs": []
    },
    {
      "cell_type": "markdown",
      "source": [
        "## Implement the Regression Model\n",
        "\n",
        "> Note: It is recommended to use the functions we defined, you can also define your own functions\n"
      ],
      "metadata": {
        "id": "6kYPuikLCFx4"
      }
    },
    {
      "cell_type": "markdown",
      "source": [
        "### Step 1: Split Data\n",
        "Split data in *input_datalist* into training dataset and validation dataset \n",
        "\n"
      ],
      "metadata": {
        "id": "jWwdx06JNEYs"
      }
    },
    {
      "cell_type": "code",
      "source": [
        "def SplitData():\n",
        "  global testing_datalist, training_datalist\n",
        "\n",
        "  for index, data in enumerate(input_datalist):\n",
        "    if index == 0:\n",
        "      continue\n",
        "\n",
        "    if index <= len(input_datalist) - 11:\n",
        "      training_datalist.append(data)\n",
        "    else:\n",
        "      testing_datalist.append(data)\n",
        "\n",
        "  testing_datalist = np.array(testing_datalist)\n",
        "  training_datalist = np.array(training_datalist)\n",
        "\n",
        "  "
      ],
      "metadata": {
        "id": "USDciENcB-5F"
      },
      "execution_count": 7,
      "outputs": []
    },
    {
      "cell_type": "markdown",
      "source": [
        "### Step 2: Preprocess Data\n",
        "Handle the unreasonable data\n",
        "> Hint: Outlier and missing data can be handled by removing the data or adding the values with the help of statistics  "
      ],
      "metadata": {
        "id": "u-3Qln4aNgVy"
      }
    },
    {
      "cell_type": "code",
      "source": [
        "def PreprocessData():\n",
        "  global training_datalist, x1, y1, x2, y2, x3, y3,testing_datalist, pred1,pred2,pred3,x1_train,x1_test,y1_train,y1_test,x2_train,x2_test,x3_train,x3_test,y2_train,y2_test,y3_train,y3_test\n",
        "\n",
        "  for [epiweek, TempA, TempB, TempC, CityA, CityB, CityC] in training_datalist:\n",
        "    if TempA == '' or TempB == '' or TempC == '':\n",
        "      continue\n",
        "    \n",
        "    x1.append(float(TempA.replace(',','')))\n",
        "    y1.append(int(CityA.replace(',','')))\n",
        "    x2.append(float(TempB.replace(',','')))\n",
        "    y2.append(int(CityB.replace(',','')))\n",
        "    x3.append(float(TempC.replace(',','')))\n",
        "    y3.append(int(CityC.replace(',','')))\n",
        "  \n",
        "  for [epiweek, TempA, TempB, TempC, CityA, CityB, CityC] in testing_datalist:\n",
        "    date_datalist.append(int(epiweek))\n",
        "    pred1.append(float(TempA.replace(',','')))\n",
        "    pred2.append(float(TempB.replace(',','')))\n",
        "    pred3.append(float(TempC.replace(',','')))\n",
        "\n",
        "\n",
        "  pred1 = np.array(pred1)\n",
        "  pred2 = np.array(pred2)\n",
        "  pred3 = np.array(pred3)\n",
        "\n",
        "  pred1_mean, pred1_std = np.mean(pred1), np.std(pred1)\n",
        "  pred2_mean, pred2_std = np.mean(pred2), np.std(pred2)\n",
        "  pred3_mean, pred3_std = np.mean(pred3), np.std(pred3)\n",
        "\n",
        "  cut_offpred1 = pred1_std*3\n",
        "  cut_offpred2 = pred2_std*3\n",
        "  cut_offpred3 = pred3_std*3\n",
        "\n",
        "  lower1, upper1 = pred1_mean - cut_offpred1, pred1_mean + cut_offpred1\n",
        "  lower2, upper2 = pred2_mean - cut_offpred2, pred2_mean + cut_offpred2\n",
        "  lower3, upper3 = pred3_mean - cut_offpred3, pred3_mean + cut_offpred3\n",
        "  \n",
        "\n",
        "#removing outliers for each city\n",
        "  for i,j in enumerate(x1):\n",
        "    if j < lower1 or j >upper1:\n",
        "      x1.pop(i)\n",
        "      y1.pop(i)\n",
        "\n",
        "  for i,j in enumerate(x2):\n",
        "    if j < lower2 or j >upper2:\n",
        "      x2.pop(i)\n",
        "      y2.pop(i) \n",
        "\n",
        "  for i,j in enumerate(x3):\n",
        "    if j < lower3 or j >upper3:\n",
        "      x3.pop(i)\n",
        "      y3.pop(i) \n",
        "  \n",
        "  x1 = np.array(x1)\n",
        "  y1 = np.array(y1)\n",
        "  x2 = np.array(x2)\n",
        "  y2 = np.array(y2)\n",
        "  x3 = np.array(x3)\n",
        "  y3 = np.array(y3)\n",
        "\n",
        "  '''--------------------CityA's training-----------------------'''\n",
        "  for index, data in enumerate(x1):\n",
        "    if index <= len(x1)*0.80:\n",
        "      x1_train.append(data)\n",
        "    else:\n",
        "      x1_test.append(data)\n",
        "\n",
        "  x1_train = np.array(x1_train)\n",
        "  x1_test = np.array(x1_test)\n",
        "\n",
        "  for index, data in enumerate(y1):\n",
        "    if index <= len(y1)*0.80:\n",
        "      y1_train.append(data)\n",
        "    else:\n",
        "      y1_test.append(data)\n",
        "\n",
        "  y1_train = np.array(y1_train)\n",
        "  y1_test = np.array(y1_test)\n",
        "\n",
        "  '''--------------------CityB's training-----------------------'''\n",
        "  for index, data in enumerate(x2):\n",
        "    if index <= len(x2)*0.80:\n",
        "      x2_train.append(data)\n",
        "    else:\n",
        "      x2_test.append(data)\n",
        "\n",
        "  x2_train = np.array(x2_train)\n",
        "  x2_test = np.array(x2_test)\n",
        "\n",
        "  for index, data in enumerate(y2):\n",
        "    if index <= len(y2)*0.80:\n",
        "      y2_train.append(data)\n",
        "    else:\n",
        "      y2_test.append(data)\n",
        "\n",
        "  y2_train = np.array(y2_train)\n",
        "  y2_test = np.array(y2_test)\n",
        "\n",
        "  '''--------------------CityC's training-----------------------'''\n",
        "  for index, data in enumerate(x3):\n",
        "    if index <= len(x3)*0.80:\n",
        "      x3_train.append(data)\n",
        "    else:\n",
        "      x3_test.append(data)\n",
        "\n",
        "  x3_train = np.array(x3_train)\n",
        "  x3_test = np.array(x3_test)\n",
        "\n",
        "  for index, data in enumerate(y3):\n",
        "    if index <= len(y3)*0.80:\n",
        "      y3_train.append(data)\n",
        "    else:\n",
        "      y3_test.append(data)\n",
        "\n",
        "  y3_train = np.array(y3_train)\n",
        "  y3_test = np.array(y3_test)\n",
        "\n",
        "  #print(x3)\n",
        "  #print(y3)"
      ],
      "metadata": {
        "id": "XXvW1n_5NkQ5"
      },
      "execution_count": 8,
      "outputs": []
    },
    {
      "cell_type": "markdown",
      "source": [
        "### Step 3: Implement Regression\n",
        "> Hint: You can use Matrix Inversion, or Gradient Descent to finish this part\n",
        "\n",
        "\n"
      ],
      "metadata": {
        "id": "yDLpJmQUN3V6"
      }
    },
    {
      "cell_type": "markdown",
      "source": [],
      "metadata": {
        "id": "Immwz_dDRESr"
      }
    },
    {
      "cell_type": "code",
      "source": [
        "def Regression():\n",
        "  global m, b, m1, b1, m2, b2, x1_train, y1_train, x2_train, y2_train, x3_train, y3_train\n",
        "  trainx = 0 \n",
        "  trainy = 0\n",
        "  trainx2 = 0 \n",
        "  trainy2 = 0\n",
        "  trainx3 = 0 \n",
        "  trainy3 = 0\n",
        "\n",
        "  learning_rate = 0.000017\n",
        "  learning_rate2 = 0.00017 #before 15\n",
        "  learning_rate3 = 0.000117 #before 115\n",
        "\n",
        "  for index,data in enumerate(x1_train):\n",
        "    trainx = x1_train[index]\n",
        "    trainy = y1_train[index]\n",
        "    guess1 = m * trainx + b\n",
        "    error1 = trainy - guess1 \n",
        "    m = m + (error1 * trainx) * learning_rate\n",
        "    b = b + (error1) * learning_rate\n",
        "\n",
        "  #single model for 3 cities \n",
        "  for index1,data1 in enumerate(x2_train):\n",
        "    trainx2 = x2_train[index1]\n",
        "    trainy2 = y2_train[index1]\n",
        "    guess2 = m1 * trainx2 + b1\n",
        "    error2 = trainy2 - guess2 \n",
        "    m1 = m1 + (error2 * trainx2) * learning_rate2\n",
        "    b1 = b1 + (error2) * learning_rate2\n",
        "\n",
        "  \n",
        "  for index2,data2 in enumerate(x3_train):\n",
        "    trainx3 = x3_train[index2]\n",
        "    trainy3 = y3_train[index2]\n",
        "    guess3 = m2 * trainx3 + b2\n",
        "    error3 = trainy3 - guess3 \n",
        "    m2 = m2 + (error3 * trainx3) * learning_rate3\n",
        "    b2 = b2 + (error3) * learning_rate3\n"
      ],
      "metadata": {
        "id": "Tx9n1_23N8C0"
      },
      "execution_count": 9,
      "outputs": []
    },
    {
      "cell_type": "markdown",
      "source": [
        "### Step 4: Make Prediction\n",
        "Make prediction of testing dataset and store the value in *output_datalist*"
      ],
      "metadata": {
        "id": "2NxRNFwyN8xd"
      }
    },
    {
      "cell_type": "code",
      "source": [
        "def MakePred():\n",
        "  global m, b, m1, b1, m2, b2, y1_test, x1_test, result_y1_test, y2_test, x2_test, result_y2_test, y3_test, x3_test, result_y3_test\n",
        "\n",
        "  '''---------------------- 3 training datalist's subtest ------------------------'''\n",
        "  for index,data in enumerate(y1_test):\n",
        "    result_y1_test.append(int(m*(x1_test[index])+b))\n",
        "  #print(\"predA: \",result_y1_test)\n",
        "\n",
        "  for index,data in enumerate(y2_test):\n",
        "    result_y2_test.append(int(m1*(x2_test[index])+b1))\n",
        "  #print(\"predB: \",result_y2_test)\n",
        "\n",
        "  for index,data in enumerate(y3_test):\n",
        "    result_y3_test.append(int(m2*(x3_test[index])+b2))\n",
        "  #print(\"predC: \",result_y3_test)\n",
        "\n",
        "  '''---------------------- 3 testing datalist ------------------------'''\n",
        "\n",
        "  for index,data in enumerate(pred1):\n",
        "    y1_pred.append(int(m*(pred1[index])+b))\n",
        "  print(\"pred1: \",y1_pred)\n",
        "\n",
        "  for index,data in enumerate(pred2):\n",
        "    y2_pred.append(int(m1*(pred1[index])+b1))\n",
        "  print(\"pred2: \",y2_pred)\n",
        "\n",
        "  for index,data in enumerate(pred3):\n",
        "    y3_pred.append(int(m2*(pred3[index])+b2))\n",
        "  print(\"pred3: \",y3_pred)"
      ],
      "metadata": {
        "id": "EKlDIC2-N_lk"
      },
      "execution_count": 10,
      "outputs": []
    },
    {
      "cell_type": "markdown",
      "source": [
        "### Step 5: Train Model and Generate Result\n",
        "\n",
        "> Notice: **Remember to output the coefficients of the model here**, otherwise 5 points would be deducted\n",
        "* If your regression model is *3x^2 + 2x^1 + 1*, your output would be: \n",
        "```\n",
        "3 2 1\n",
        "```\n",
        "\n",
        "\n",
        "\n"
      ],
      "metadata": {
        "id": "cCd0Z6izOCwq"
      }
    },
    {
      "cell_type": "code",
      "source": [
        "SplitData()\n",
        "PreprocessData()\n",
        "Regression()\n",
        "MakePred()\n",
        "\n",
        "'''----------------------- Compute Loss subtest1 --------------------------------'''\n",
        "error1 = []\n",
        "error2 = []\n",
        "error3 = []\n",
        "flag1 = 0 \n",
        "flag2 = 0 \n",
        "flag3 = 0 \n",
        "#print(\"actual A: \",y1_test)\n",
        "for i,j in enumerate(result_y1_test):\n",
        "  flag1 = abs(y1_test[i]-result_y1_test[i])/y1_test[i] \n",
        "  error1.append(flag1)\n",
        "meanval1 = sum(error1)/len(error1)\n",
        "print(\"MAPE-A: \",meanval1*100,\"%\")\n",
        "\n",
        "'''----------------------- Compute Loss subtest2 --------------------------------'''\n",
        "#print(\"actual B: \",y2_test)\n",
        "for i,j in enumerate(result_y2_test):\n",
        "  flag2 = abs(y2_test[i]-result_y2_test[i])/y2_test[i] \n",
        "  error2.append(flag2)\n",
        "meanval2 = sum(error2)/len(error2)\n",
        "print(\"MAPE-B: \",meanval2*100,\"%\")\n",
        "\n",
        "'''----------------------- Compute Loss subtest3 --------------------------------'''\n",
        "#print(\"actual C: \",y3_test)\n",
        "for i,j in enumerate(result_y3_test):\n",
        "  flag3 = abs(y3_test[i]-result_y3_test[i])/y3_test[i] \n",
        "  error3.append(flag3)\n",
        "meanval3 = sum(error3)/len(error3)\n",
        "print(\"MAPE-C: \",meanval3*100,\"%\")\n",
        "\n",
        "\n",
        "plt.figure(figsize=(10, 8))\n",
        "plt.title(\"Dengue Prediction\")\n",
        "plt.xlabel('TemperatureA', fontsize=18)\n",
        "plt.ylabel('CityA', fontsize=18)\n",
        "plt.scatter(x1, y1)\n",
        "plt.scatter(x1_test, y1_test,c = '#ff7f0e')\n",
        "plt.plot(x1_train, m*(x1_train**1)+b)\n",
        "print(\"Coefficient of A (m and b): \" , m ,b)\n",
        "\n",
        "\n",
        "plt.figure(figsize=(10, 8))\n",
        "plt.title(\"Dengue Prediction\")\n",
        "plt.xlabel('TemperatureB', fontsize=18)\n",
        "plt.ylabel('CityB', fontsize=18)\n",
        "plt.scatter(x2, y2)\n",
        "plt.scatter(x2_test, y2_test,c = '#ff7f0e')\n",
        "plt.plot(x2_train, m1*(x2_train**1)+b1)\n",
        "print(\"Coefficient of B (m1 and b1): \", m1,b1)\n",
        "\n",
        "\n",
        "plt.figure(figsize=(10, 8))\n",
        "plt.title(\"Dengue Prediction\")\n",
        "plt.xlabel('TemperatureC', fontsize=18)\n",
        "plt.ylabel('CityC', fontsize=18)\n",
        "plt.scatter(x3, y3)\n",
        "plt.scatter(x3_test, y3_test,c = '#ff7f0e')\n",
        "plt.plot(x3_train, m2*(x3_train**1)+b2)\n",
        "print(\"Coefficient of C (m2 and b2): \", m2,b2)\n",
        "\n",
        "out_datalist = []\n",
        "temp = []\n",
        "i = 0\n",
        "while i < len(y1_pred):\n",
        "  out_datalist.append([date_datalist[i], y1_pred[i], y2_pred[i], y3_pred[i]])\n",
        "  i += 1\n",
        "output_datalist = np.array(out_datalist)\n",
        "#print(output_datalist)"
      ],
      "metadata": {
        "id": "iCL92EPKOFIn",
        "colab": {
          "base_uri": "https://localhost:8080/",
          "height": 1000
        },
        "outputId": "a0098eb4-ae89-44c8-9d6a-e914f9f3346b"
      },
      "execution_count": 11,
      "outputs": [
        {
          "output_type": "stream",
          "name": "stdout",
          "text": [
            "pred1:  [31, 28, 28, 29, 26, 23, 26, 30, 27, 28]\n",
            "pred2:  [28, 25, 25, 26, 23, 21, 23, 27, 24, 25]\n",
            "pred3:  [42, 39, 42, 40, 40, 36, 45, 39, 43, 43]\n",
            "MAPE-A:  19.610730482759532 %\n",
            "MAPE-B:  18.597193175400204 %\n",
            "MAPE-C:  23.111128267617445 %\n",
            "Coefficient of A (m and b):  1.071544389459766 0.04381674102324993\n",
            "Coefficient of B (m1 and b1):  0.9529847780922234 0.04409200684477698\n",
            "Coefficient of C (m2 and b2):  1.4855845365081457 0.058273239530078264\n"
          ]
        },
        {
          "output_type": "display_data",
          "data": {
            "text/plain": [
              "<Figure size 720x576 with 1 Axes>"
            ],
            "image/png": "[encoded data removed]"
          },
          "metadata": {
            "needs_background": "light"
          }
        },
        {
          "output_type": "display_data",
          "data": {
            "text/plain": [
              "<Figure size 720x576 with 1 Axes>"
            ],
            "image/png": "[encoded data removed]"
          },
          "metadata": {
            "needs_background": "light"
          }
        },
        {
          "output_type": "display_data",
          "data": {
            "text/plain": [
              "<Figure size 720x576 with 1 Axes>"
            ],
            "image/png": "[encoded data removed]"
          },
          "metadata": {
            "needs_background": "light"
          }
        }
      ]
    },
    {
      "cell_type": "markdown",
      "source": [
        "## Write the Output File\n",
        "Write the prediction to output csv\n",
        "> Format: 'epiweek', 'CityA', 'CityB', 'CityC'"
      ],
      "metadata": {
        "id": "J8Jhd8wAOk3D"
      }
    },
    {
      "cell_type": "code",
      "source": [
        "with open(output_dataroot, 'w', newline='', encoding=\"utf-8\") as csvfile:\n",
        "  writer = csv.writer(csvfile)\n",
        "  for row in output_datalist:\n",
        "    writer.writerow(row)"
      ],
      "metadata": {
        "id": "tYQVYLlKOtDB"
      },
      "execution_count": 12,
      "outputs": []
    },
    {
      "cell_type": "markdown",
      "source": [
        "# 2. Advanced Part (35%)\n",
        "In the second part, you need to implement the regression in a different way than the basic part to help your predictions for the number of dengue cases\n",
        "\n",
        "We provide you with two files **hw1_advanced_input1.csv** and **hw1_advanced_input2.csv** that can help you in this part\n",
        "\n",
        "Please save the prediction result in a csv file **hw1_advanced.csv** \n"
      ],
      "metadata": {
        "id": "rx4408qg4xMQ"
      }
    },
    {
      "cell_type": "code",
      "source": [],
      "metadata": {
        "id": "DaZCe19m41g1"
      },
      "execution_count": null,
      "outputs": []
    },
    {
      "cell_type": "markdown",
      "source": [
        "# Report *(5%)*\n",
        "\n",
        "Report should be submitted as a pdf file **hw1_report.pdf**\n",
        "\n",
        "*   Briefly describe the difficulty you encountered \n",
        "*   Summarize your work and your reflections \n",
        "*   No more than one page\n",
        "\n",
        "\n",
        "\n",
        "\n"
      ],
      "metadata": {
        "id": "EtgCJU7FPeJL"
      }
    },
    {
      "cell_type": "markdown",
      "source": [
        "# Save the Code File\n",
        "Please save your code and submit it as an ipynb file! (**hw1.ipynb**)"
      ],
      "metadata": {
        "id": "hlEE53_MPf4W"
      }
    }
  ]
}